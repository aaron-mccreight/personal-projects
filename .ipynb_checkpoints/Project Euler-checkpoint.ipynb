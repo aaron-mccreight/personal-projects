{
 "cells": [
  {
   "cell_type": "markdown",
   "metadata": {},
   "source": [
    "# Project Euler"
   ]
  },
  {
   "cell_type": "markdown",
   "metadata": {},
   "source": [
    "My solutions to Project Euler problems."
   ]
  },
  {
   "cell_type": "markdown",
   "metadata": {},
   "source": [
    "Link: https://projecteuler.net/"
   ]
  },
  {
   "cell_type": "markdown",
   "metadata": {},
   "source": [
    "Note for myself: still need to finish the back half of 11. Clean up 61. 152 is incomplete."
   ]
  },
  {
   "cell_type": "markdown",
   "metadata": {},
   "source": [
    "### Table of Contents"
   ]
  },
  {
   "cell_type": "markdown",
   "metadata": {},
   "source": [
    "1. [Problem 1: Multiples of 3 and 5](#Problem-1:-Multiples-of-3-and-5)\n",
    "2. [Problem 2: Even Fibonacci Numbers](#Problem-2:-Even-Fibonacci-Numbers)\n",
    "3. [Problem 3: Largest Prime Factor](#Problem-3:-Largest-Prime-Factor)\n",
    "4. [Problem 4: Largest Palindrome Product](#Problem-4:-Largest-Palindrome-Product)\n",
    "5. [Problem 5: Smallest Multiple](#Problem-5:-Smallest-Multiple)\n",
    "6. [Problem 6: Sum Square Difference](#Problem-6:-Sum-Square-Difference)\n",
    "7. [Problem 7: 10001st Prime](#Problem-7:-10001st-Prime)\n",
    "8. [Problem 8: Largest Product in a Series](#Problem-8:-Largest-Product-in-a-Series)\n",
    "9. [Problem 9: Special Pythagorean Triplet](#Problem-9:-Special-Pythagorean-Triplet)\n",
    "10. [Problem 10: Summation of Primes](#Problem-10:-Summation-of-Primes)\n",
    "11. [Problem 11: Largest Product in a Grid](#Problem-11:-Largest-Product-in-a-Grid)\n",
    "13. [Problem 13: Large Sum](#Problem-13:-Large-Sum)\n",
    "34. [Problem 34: Digit Factorials](#Problem-34:-Digit-Factorials)\n",
    "61. [Problem 61: Cyclical Figurate Numbers](#Problem-61:-Cyclical-Figurate-Numbers)\n",
    "152. [Problem 152: Writing 1/2 as a Sum of Inverse Squares](#Problem-152:-Writing-1/2-as-a-Sum-of-Inverse-Squares)\n",
    "  1. [i. Functions](#i.-Functions)\n",
    "  2. [ii. Reducing the Problem](#ii.-Reducing-the-Problem)\n",
    "  3. [iii. Brute Force](#iii.-Brute-Force)\n",
    "  4. [iiii. Notes](#iiii.-Notes)"
   ]
  },
  {
   "cell_type": "markdown",
   "metadata": {},
   "source": [
    "### Python Libraries"
   ]
  },
  {
   "cell_type": "code",
   "execution_count": 1,
   "metadata": {},
   "outputs": [],
   "source": [
    "import math"
   ]
  },
  {
   "cell_type": "markdown",
   "metadata": {},
   "source": [
    "### Problem 1: Multiples of 3 and 5"
   ]
  },
  {
   "cell_type": "code",
   "execution_count": 2,
   "metadata": {},
   "outputs": [
    {
     "data": {
      "text/plain": [
       "233168"
      ]
     },
     "execution_count": 2,
     "metadata": {},
     "output_type": "execute_result"
    }
   ],
   "source": [
    "mult35 = 0\n",
    "for i in range(1,1000):\n",
    "    if (i%3 == 0) or (i%5 == 0):\n",
    "        mult35 = mult35 + i\n",
    "mult35"
   ]
  },
  {
   "cell_type": "markdown",
   "metadata": {},
   "source": [
    "### Problem 2: Even Fibonacci Numbers"
   ]
  },
  {
   "cell_type": "code",
   "execution_count": 3,
   "metadata": {},
   "outputs": [
    {
     "name": "stdout",
     "output_type": "stream",
     "text": [
      "8\n",
      "34\n",
      "144\n",
      "610\n",
      "2584\n",
      "10946\n",
      "46368\n",
      "196418\n",
      "832040\n",
      "3524578\n"
     ]
    },
    {
     "data": {
      "text/plain": [
       "4613732"
      ]
     },
     "execution_count": 3,
     "metadata": {},
     "output_type": "execute_result"
    }
   ],
   "source": [
    "even_sum = 2\n",
    "small_term = 1\n",
    "big_term = 2\n",
    "while (small_term + big_term) < 4000000:\n",
    "    new_big_term = big_term + small_term\n",
    "    small_term = big_term\n",
    "    big_term = new_big_term\n",
    "    if big_term%2 == 0:\n",
    "        print(big_term)\n",
    "        even_sum = even_sum + big_term\n",
    "        \n",
    "even_sum"
   ]
  },
  {
   "cell_type": "markdown",
   "metadata": {},
   "source": [
    "### Problem 3: Largest Prime Factor"
   ]
  },
  {
   "cell_type": "code",
   "execution_count": 4,
   "metadata": {},
   "outputs": [
    {
     "data": {
      "text/plain": [
       "6857"
      ]
     },
     "execution_count": 4,
     "metadata": {},
     "output_type": "execute_result"
    }
   ],
   "source": [
    "def is_prime(i): # i will be assumed to be odd\n",
    "    up_bound = int(i**0.5)\n",
    "    up_bound = up_bound + 1 + (up_bound&2)\n",
    "    prime = True\n",
    "    for k in range(3, up_bound, 2):\n",
    "        if i%k == 0:\n",
    "            prime = False\n",
    "            break\n",
    "    return prime\n",
    "\n",
    "\n",
    "number = 600851475143\n",
    "upper_bound = int(number**0.5) \n",
    "upper_bound = upper_bound - 1 + (upper_bound%2) #to make it odd\n",
    "largest_prime = 0\n",
    "for i in range(upper_bound, 3, -2):\n",
    "    if number  % i == 0:\n",
    "        if is_prime(i):\n",
    "            largest_prime = i\n",
    "            break\n",
    "\n",
    "largest_prime"
   ]
  },
  {
   "cell_type": "code",
   "execution_count": 5,
   "metadata": {},
   "outputs": [
    {
     "data": {
      "text/plain": [
       "False"
      ]
     },
     "execution_count": 5,
     "metadata": {},
     "output_type": "execute_result"
    }
   ],
   "source": [
    "is_prime(25)"
   ]
  },
  {
   "cell_type": "markdown",
   "metadata": {},
   "source": [
    "### Problem 4: Largest Palindrome Product"
   ]
  },
  {
   "cell_type": "code",
   "execution_count": 6,
   "metadata": {},
   "outputs": [],
   "source": [
    "def is_palindrome(x): # pass in x as a string\n",
    "    return str(x) == str(x)[::-1]\n",
    "    \n",
    "    \n",
    "# original function - pass in x as a string\n",
    "#    n = len(x)\n",
    " #   if n == 0 or n == 1:\n",
    "  #      return True\n",
    "   # elif x[0] == x[-1]:\n",
    "    #    return is_palindrome(x[1:n-1])\n",
    "    #else:\n",
    "     #   return False"
   ]
  },
  {
   "cell_type": "code",
   "execution_count": 7,
   "metadata": {},
   "outputs": [
    {
     "data": {
      "text/plain": [
       "True"
      ]
     },
     "execution_count": 7,
     "metadata": {},
     "output_type": "execute_result"
    }
   ],
   "source": [
    "is_palindrome(1221)"
   ]
  },
  {
   "cell_type": "code",
   "execution_count": 8,
   "metadata": {},
   "outputs": [
    {
     "data": {
      "text/plain": [
       "906609"
      ]
     },
     "execution_count": 8,
     "metadata": {},
     "output_type": "execute_result"
    }
   ],
   "source": [
    "largest_palindrome = 0\n",
    "for i in range(100,1000):\n",
    "    for j in range(100, i+1):\n",
    "        n = i*j\n",
    "        if is_palindrome(n) and (n > largest_palindrome):\n",
    "            largest_palindrome = n\n",
    "largest_palindrome"
   ]
  },
  {
   "cell_type": "markdown",
   "metadata": {},
   "source": [
    "### Problem 5: Smallest Multiple"
   ]
  },
  {
   "cell_type": "code",
   "execution_count": 9,
   "metadata": {},
   "outputs": [
    {
     "data": {
      "text/plain": [
       "232792560"
      ]
     },
     "execution_count": 9,
     "metadata": {},
     "output_type": "execute_result"
    }
   ],
   "source": [
    "def suitable_divisor(x):\n",
    "    ans = True\n",
    "    for i in range(2,21):\n",
    "        if x%i != 0:\n",
    "            ans = False\n",
    "            break\n",
    "    return ans\n",
    "\n",
    "#import math\n",
    "#upper_bound = math.factorial(20)\n",
    "\n",
    "smallest_multiple = 0\n",
    "x = 2520\n",
    "#for x in range(2520, upper_bound): #2520 comes from Project Euler website (it's smallest positive number that is a multiple of 1,...,10)\n",
    "while True:\n",
    "    if suitable_divisor(x):\n",
    "        smallest_multiple = x\n",
    "        break\n",
    "    else:\n",
    "        x = x + 2520\n",
    "\n",
    "smallest_multiple"
   ]
  },
  {
   "cell_type": "code",
   "execution_count": 10,
   "metadata": {},
   "outputs": [],
   "source": [
    "# could have just found lowest common multiple using prime factors"
   ]
  },
  {
   "cell_type": "markdown",
   "metadata": {},
   "source": [
    "### Problem 6: Sum Square Difference"
   ]
  },
  {
   "cell_type": "code",
   "execution_count": 11,
   "metadata": {},
   "outputs": [
    {
     "name": "stdout",
     "output_type": "stream",
     "text": [
      "25164150\n"
     ]
    }
   ],
   "source": [
    "# (1 + ... + 100)^2 - (1^2 + ... + 100^2) = 2 * sum(i * j), where i < j [squares cancel]\n",
    "sum_square_diff = 0\n",
    "for j in range(2,101):\n",
    "    for i in range(1,j):\n",
    "        sum_square_diff = sum_square_diff + i*j\n",
    "\n",
    "print(2*sum_square_diff)"
   ]
  },
  {
   "cell_type": "markdown",
   "metadata": {},
   "source": [
    "### Problem 7: 10001st Prime"
   ]
  },
  {
   "cell_type": "code",
   "execution_count": 12,
   "metadata": {},
   "outputs": [
    {
     "data": {
      "text/plain": [
       "104743"
      ]
     },
     "execution_count": 12,
     "metadata": {},
     "output_type": "execute_result"
    }
   ],
   "source": [
    "prime_list = [2]\n",
    "n = 3\n",
    "while len(prime_list) < 10001:\n",
    "    if is_prime(n):\n",
    "        prime_list.append(n)\n",
    "    n += 2\n",
    "    \n",
    "prime_list[-1]"
   ]
  },
  {
   "cell_type": "code",
   "execution_count": 13,
   "metadata": {},
   "outputs": [],
   "source": [
    "# prime_list"
   ]
  },
  {
   "cell_type": "markdown",
   "metadata": {},
   "source": [
    "### Problem 8: Largest Product in a Series"
   ]
  },
  {
   "cell_type": "code",
   "execution_count": 14,
   "metadata": {},
   "outputs": [
    {
     "data": {
      "text/plain": [
       "23514624000"
      ]
     },
     "execution_count": 14,
     "metadata": {},
     "output_type": "execute_result"
    }
   ],
   "source": [
    "series = 7316717653133062491922511967442657474235534919493496983520312774506326239578318016984801869478851843858615607891129494954595017379583319528532088055111254069874715852386305071569329096329522744304355766896648950445244523161731856403098711121722383113622298934233803081353362766142828064444866452387493035890729629049156044077239071381051585930796086670172427121883998797908792274921901699720888093776657273330010533678812202354218097512545405947522435258490771167055601360483958644670632441572215539753697817977846174064955149290862569321978468622482839722413756570560574902614079729686524145351004748216637048440319989000889524345065854122758866688116427171479924442928230863465674813919123162824586178664583591245665294765456828489128831426076900422421902267105562632111110937054421750694165896040807198403850962455444362981230987879927244284909188845801561660979191338754992005240636899125607176060588611646710940507754100225698315520005593572972571636269561882670428252483600823257530420752963450\n",
    "series_string = str(series)\n",
    "i = 0\n",
    "largest_product = 0\n",
    "\n",
    "while i < (len(series_string) - 12):\n",
    "    \n",
    "    def thirteen_product(i): #takes in index and returns product of next 13 numbers\n",
    "        product = int(series_string[i])\n",
    "        for j in range(1,13):\n",
    "            product = product * int(series_string[i+j])\n",
    "        return product\n",
    "    \n",
    "    if thirteen_product(i) > largest_product:\n",
    "        largest_product = thirteen_product(i)\n",
    "        \n",
    "    i += 1\n",
    "    \n",
    "largest_product"
   ]
  },
  {
   "cell_type": "markdown",
   "metadata": {},
   "source": [
    "### Problem 9: Special Pythagorean Triplet"
   ]
  },
  {
   "cell_type": "code",
   "execution_count": 15,
   "metadata": {},
   "outputs": [
    {
     "name": "stdout",
     "output_type": "stream",
     "text": [
      "375\n",
      "200\n",
      "425\n",
      "31875000\n"
     ]
    }
   ],
   "source": [
    "def is_pythagoras(a,b,c):\n",
    "    return (a**2 + b**2) == c**2\n",
    "\n",
    "for c in range(334, 501):\n",
    "    for b in range(1, c):\n",
    "        a = 1000 - b - c\n",
    "        if is_pythagoras(a, b, c):\n",
    "            print(a)\n",
    "            print(b)\n",
    "            print(c)\n",
    "            print(a*b*c)\n",
    "            break"
   ]
  },
  {
   "cell_type": "markdown",
   "metadata": {},
   "source": [
    "### Problem 10: Summation of Primes"
   ]
  },
  {
   "cell_type": "code",
   "execution_count": 16,
   "metadata": {},
   "outputs": [
    {
     "data": {
      "text/plain": [
       "142913828922"
      ]
     },
     "execution_count": 16,
     "metadata": {},
     "output_type": "execute_result"
    }
   ],
   "source": [
    "prime_sum = 2\n",
    "n = 3\n",
    "while n < 2000000:\n",
    "    if is_prime(n):\n",
    "        prime_sum = prime_sum + n\n",
    "    n += 2\n",
    "prime_sum"
   ]
  },
  {
   "cell_type": "markdown",
   "metadata": {},
   "source": [
    "### Problem 11: Largest Product in a Grid"
   ]
  },
  {
   "cell_type": "code",
   "execution_count": 17,
   "metadata": {},
   "outputs": [],
   "source": [
    "grid = \"\"\"\n",
    "08 02 22 97 38 15 00 40 00 75 04 05 07 78 52 12 50 77 91 08\n",
    "49 49 99 40 17 81 18 57 60 87 17 40 98 43 69 48 04 56 62 00\n",
    "81 49 31 73 55 79 14 29 93 71 40 67 53 88 30 03 49 13 36 65\n",
    "52 70 95 23 04 60 11 42 69 24 68 56 01 32 56 71 37 02 36 91\n",
    "22 31 16 71 51 67 63 89 41 92 36 54 22 40 40 28 66 33 13 80\n",
    "24 47 32 60 99 03 45 02 44 75 33 53 78 36 84 20 35 17 12 50\n",
    "32 98 81 28 64 23 67 10 26 38 40 67 59 54 70 66 18 38 64 70\n",
    "67 26 20 68 02 62 12 20 95 63 94 39 63 08 40 91 66 49 94 21\n",
    "24 55 58 05 66 73 99 26 97 17 78 78 96 83 14 88 34 89 63 72\n",
    "21 36 23 09 75 00 76 44 20 45 35 14 00 61 33 97 34 31 33 95\n",
    "78 17 53 28 22 75 31 67 15 94 03 80 04 62 16 14 09 53 56 92\n",
    "16 39 05 42 96 35 31 47 55 58 88 24 00 17 54 24 36 29 85 57\n",
    "86 56 00 48 35 71 89 07 05 44 44 37 44 60 21 58 51 54 17 58\n",
    "19 80 81 68 05 94 47 69 28 73 92 13 86 52 17 77 04 89 55 40\n",
    "04 52 08 83 97 35 99 16 07 97 57 32 16 26 26 79 33 27 98 66\n",
    "88 36 68 87 57 62 20 72 03 46 33 67 46 55 12 32 63 93 53 69\n",
    "04 42 16 73 38 25 39 11 24 94 72 18 08 46 29 32 40 62 76 36\n",
    "20 69 36 41 72 30 23 88 34 62 99 69 82 67 59 85 74 04 36 16\n",
    "20 73 35 29 78 31 90 01 74 31 49 71 48 86 81 16 23 57 05 54\n",
    "01 70 54 71 83 51 54 69 16 92 33 48 61 43 52 01 89 19 67 48\n",
    "\"\"\""
   ]
  },
  {
   "cell_type": "code",
   "execution_count": 18,
   "metadata": {},
   "outputs": [
    {
     "name": "stdout",
     "output_type": "stream",
     "text": [
      "\n",
      "08 02 22 97 38 15 00 40 00 75 04 05 07 78 52 12 50 77 91 08\n",
      "49 49 99 40 17 81 18 57 60 87 17 40 98 43 69 48 04 56 62 00\n",
      "81 49 31 73 55 79 14 29 93 71 40 67 53 88 30 03 49 13 36 65\n",
      "52 70 95 23 04 60 11 42 69 24 68 56 01 32 56 71 37 02 36 91\n",
      "22 31 16 71 51 67 63 89 41 92 36 54 22 40 40 28 66 33 13 80\n",
      "24 47 32 60 99 03 45 02 44 75 33 53 78 36 84 20 35 17 12 50\n",
      "32 98 81 28 64 23 67 10 26 38 40 67 59 54 70 66 18 38 64 70\n",
      "67 26 20 68 02 62 12 20 95 63 94 39 63 08 40 91 66 49 94 21\n",
      "24 55 58 05 66 73 99 26 97 17 78 78 96 83 14 88 34 89 63 72\n",
      "21 36 23 09 75 00 76 44 20 45 35 14 00 61 33 97 34 31 33 95\n",
      "78 17 53 28 22 75 31 67 15 94 03 80 04 62 16 14 09 53 56 92\n",
      "16 39 05 42 96 35 31 47 55 58 88 24 00 17 54 24 36 29 85 57\n",
      "86 56 00 48 35 71 89 07 05 44 44 37 44 60 21 58 51 54 17 58\n",
      "19 80 81 68 05 94 47 69 28 73 92 13 86 52 17 77 04 89 55 40\n",
      "04 52 08 83 97 35 99 16 07 97 57 32 16 26 26 79 33 27 98 66\n",
      "88 36 68 87 57 62 20 72 03 46 33 67 46 55 12 32 63 93 53 69\n",
      "04 42 16 73 38 25 39 11 24 94 72 18 08 46 29 32 40 62 76 36\n",
      "20 69 36 41 72 30 23 88 34 62 99 69 82 67 59 85 74 04 36 16\n",
      "20 73 35 29 78 31 90 01 74 31 49 71 48 86 81 16 23 57 05 54\n",
      "01 70 54 71 83 51 54 69 16 92 33 48 61 43 52 01 89 19 67 48\n",
      "\n"
     ]
    }
   ],
   "source": [
    "print(grid)"
   ]
  },
  {
   "cell_type": "code",
   "execution_count": 19,
   "metadata": {},
   "outputs": [
    {
     "data": {
      "text/plain": [
       "['08',\n",
       " '02',\n",
       " '22',\n",
       " '97',\n",
       " '38',\n",
       " '15',\n",
       " '00',\n",
       " '40',\n",
       " '00',\n",
       " '75',\n",
       " '04',\n",
       " '05',\n",
       " '07',\n",
       " '78',\n",
       " '52',\n",
       " '12',\n",
       " '50',\n",
       " '77',\n",
       " '91',\n",
       " '08',\n",
       " '49',\n",
       " '49',\n",
       " '99',\n",
       " '40',\n",
       " '17',\n",
       " '81',\n",
       " '18',\n",
       " '57',\n",
       " '60',\n",
       " '87',\n",
       " '17',\n",
       " '40',\n",
       " '98',\n",
       " '43',\n",
       " '69',\n",
       " '48',\n",
       " '04',\n",
       " '56',\n",
       " '62',\n",
       " '00',\n",
       " '81',\n",
       " '49',\n",
       " '31',\n",
       " '73',\n",
       " '55',\n",
       " '79',\n",
       " '14',\n",
       " '29',\n",
       " '93',\n",
       " '71',\n",
       " '40',\n",
       " '67',\n",
       " '53',\n",
       " '88',\n",
       " '30',\n",
       " '03',\n",
       " '49',\n",
       " '13',\n",
       " '36',\n",
       " '65',\n",
       " '52',\n",
       " '70',\n",
       " '95',\n",
       " '23',\n",
       " '04',\n",
       " '60',\n",
       " '11',\n",
       " '42',\n",
       " '69',\n",
       " '24',\n",
       " '68',\n",
       " '56',\n",
       " '01',\n",
       " '32',\n",
       " '56',\n",
       " '71',\n",
       " '37',\n",
       " '02',\n",
       " '36',\n",
       " '91',\n",
       " '22',\n",
       " '31',\n",
       " '16',\n",
       " '71',\n",
       " '51',\n",
       " '67',\n",
       " '63',\n",
       " '89',\n",
       " '41',\n",
       " '92',\n",
       " '36',\n",
       " '54',\n",
       " '22',\n",
       " '40',\n",
       " '40',\n",
       " '28',\n",
       " '66',\n",
       " '33',\n",
       " '13',\n",
       " '80',\n",
       " '24',\n",
       " '47',\n",
       " '32',\n",
       " '60',\n",
       " '99',\n",
       " '03',\n",
       " '45',\n",
       " '02',\n",
       " '44',\n",
       " '75',\n",
       " '33',\n",
       " '53',\n",
       " '78',\n",
       " '36',\n",
       " '84',\n",
       " '20',\n",
       " '35',\n",
       " '17',\n",
       " '12',\n",
       " '50',\n",
       " '32',\n",
       " '98',\n",
       " '81',\n",
       " '28',\n",
       " '64',\n",
       " '23',\n",
       " '67',\n",
       " '10',\n",
       " '26',\n",
       " '38',\n",
       " '40',\n",
       " '67',\n",
       " '59',\n",
       " '54',\n",
       " '70',\n",
       " '66',\n",
       " '18',\n",
       " '38',\n",
       " '64',\n",
       " '70',\n",
       " '67',\n",
       " '26',\n",
       " '20',\n",
       " '68',\n",
       " '02',\n",
       " '62',\n",
       " '12',\n",
       " '20',\n",
       " '95',\n",
       " '63',\n",
       " '94',\n",
       " '39',\n",
       " '63',\n",
       " '08',\n",
       " '40',\n",
       " '91',\n",
       " '66',\n",
       " '49',\n",
       " '94',\n",
       " '21',\n",
       " '24',\n",
       " '55',\n",
       " '58',\n",
       " '05',\n",
       " '66',\n",
       " '73',\n",
       " '99',\n",
       " '26',\n",
       " '97',\n",
       " '17',\n",
       " '78',\n",
       " '78',\n",
       " '96',\n",
       " '83',\n",
       " '14',\n",
       " '88',\n",
       " '34',\n",
       " '89',\n",
       " '63',\n",
       " '72',\n",
       " '21',\n",
       " '36',\n",
       " '23',\n",
       " '09',\n",
       " '75',\n",
       " '00',\n",
       " '76',\n",
       " '44',\n",
       " '20',\n",
       " '45',\n",
       " '35',\n",
       " '14',\n",
       " '00',\n",
       " '61',\n",
       " '33',\n",
       " '97',\n",
       " '34',\n",
       " '31',\n",
       " '33',\n",
       " '95',\n",
       " '78',\n",
       " '17',\n",
       " '53',\n",
       " '28',\n",
       " '22',\n",
       " '75',\n",
       " '31',\n",
       " '67',\n",
       " '15',\n",
       " '94',\n",
       " '03',\n",
       " '80',\n",
       " '04',\n",
       " '62',\n",
       " '16',\n",
       " '14',\n",
       " '09',\n",
       " '53',\n",
       " '56',\n",
       " '92',\n",
       " '16',\n",
       " '39',\n",
       " '05',\n",
       " '42',\n",
       " '96',\n",
       " '35',\n",
       " '31',\n",
       " '47',\n",
       " '55',\n",
       " '58',\n",
       " '88',\n",
       " '24',\n",
       " '00',\n",
       " '17',\n",
       " '54',\n",
       " '24',\n",
       " '36',\n",
       " '29',\n",
       " '85',\n",
       " '57',\n",
       " '86',\n",
       " '56',\n",
       " '00',\n",
       " '48',\n",
       " '35',\n",
       " '71',\n",
       " '89',\n",
       " '07',\n",
       " '05',\n",
       " '44',\n",
       " '44',\n",
       " '37',\n",
       " '44',\n",
       " '60',\n",
       " '21',\n",
       " '58',\n",
       " '51',\n",
       " '54',\n",
       " '17',\n",
       " '58',\n",
       " '19',\n",
       " '80',\n",
       " '81',\n",
       " '68',\n",
       " '05',\n",
       " '94',\n",
       " '47',\n",
       " '69',\n",
       " '28',\n",
       " '73',\n",
       " '92',\n",
       " '13',\n",
       " '86',\n",
       " '52',\n",
       " '17',\n",
       " '77',\n",
       " '04',\n",
       " '89',\n",
       " '55',\n",
       " '40',\n",
       " '04',\n",
       " '52',\n",
       " '08',\n",
       " '83',\n",
       " '97',\n",
       " '35',\n",
       " '99',\n",
       " '16',\n",
       " '07',\n",
       " '97',\n",
       " '57',\n",
       " '32',\n",
       " '16',\n",
       " '26',\n",
       " '26',\n",
       " '79',\n",
       " '33',\n",
       " '27',\n",
       " '98',\n",
       " '66',\n",
       " '88',\n",
       " '36',\n",
       " '68',\n",
       " '87',\n",
       " '57',\n",
       " '62',\n",
       " '20',\n",
       " '72',\n",
       " '03',\n",
       " '46',\n",
       " '33',\n",
       " '67',\n",
       " '46',\n",
       " '55',\n",
       " '12',\n",
       " '32',\n",
       " '63',\n",
       " '93',\n",
       " '53',\n",
       " '69',\n",
       " '04',\n",
       " '42',\n",
       " '16',\n",
       " '73',\n",
       " '38',\n",
       " '25',\n",
       " '39',\n",
       " '11',\n",
       " '24',\n",
       " '94',\n",
       " '72',\n",
       " '18',\n",
       " '08',\n",
       " '46',\n",
       " '29',\n",
       " '32',\n",
       " '40',\n",
       " '62',\n",
       " '76',\n",
       " '36',\n",
       " '20',\n",
       " '69',\n",
       " '36',\n",
       " '41',\n",
       " '72',\n",
       " '30',\n",
       " '23',\n",
       " '88',\n",
       " '34',\n",
       " '62',\n",
       " '99',\n",
       " '69',\n",
       " '82',\n",
       " '67',\n",
       " '59',\n",
       " '85',\n",
       " '74',\n",
       " '04',\n",
       " '36',\n",
       " '16',\n",
       " '20',\n",
       " '73',\n",
       " '35',\n",
       " '29',\n",
       " '78',\n",
       " '31',\n",
       " '90',\n",
       " '01',\n",
       " '74',\n",
       " '31',\n",
       " '49',\n",
       " '71',\n",
       " '48',\n",
       " '86',\n",
       " '81',\n",
       " '16',\n",
       " '23',\n",
       " '57',\n",
       " '05',\n",
       " '54',\n",
       " '01',\n",
       " '70',\n",
       " '54',\n",
       " '71',\n",
       " '83',\n",
       " '51',\n",
       " '54',\n",
       " '69',\n",
       " '16',\n",
       " '92',\n",
       " '33',\n",
       " '48',\n",
       " '61',\n",
       " '43',\n",
       " '52',\n",
       " '01',\n",
       " '89',\n",
       " '19',\n",
       " '67',\n",
       " '48']"
      ]
     },
     "execution_count": 19,
     "metadata": {},
     "output_type": "execute_result"
    }
   ],
   "source": [
    "grid.split()"
   ]
  },
  {
   "cell_type": "markdown",
   "metadata": {},
   "source": [
    "Answer is 87 * 97 * 94 * 89 = 70,600,674 which is a bottom left to top right diagonal in the bottom right corner. (I just spotted it)"
   ]
  },
  {
   "cell_type": "markdown",
   "metadata": {},
   "source": [
    "Here is my programmatic attempt:"
   ]
  },
  {
   "cell_type": "code",
   "execution_count": 20,
   "metadata": {},
   "outputs": [],
   "source": [
    "def calculate_largest_n_product(grid=grid, n=4):\n",
    "    \n",
    "    # Initialize\n",
    "    max_product = 0\n",
    "    grid_size = len(grid.split()) ** 0.5 # we'll assume a square - so it's grid_size by grid_size\n",
    "    \n",
    "    \n",
    "    # Helper function - will calculate max product for an array of numbers- assuming array is ordered\n",
    "    # Note: array is actually a list. Just using mathematical terminology.\n",
    "    def calculate_array_max_product(array):\n",
    "        # Initialize\n",
    "        max_array_product=0\n",
    "        j=0\n",
    "        array_size=len(array)\n",
    "        \n",
    "        # Iterate through array\n",
    "        while j < (array_size - n + 1):\n",
    "            #print('j,', j)\n",
    "            k=0\n",
    "            array_product=1\n",
    "            \n",
    "            # Iterate through next n items and calculate the product\n",
    "            while k < n:\n",
    "                #print('k,', k)\n",
    "                array_product=array_product * int(array[j+k])\n",
    "                k+=1\n",
    "            #print('Array product', array_product)\n",
    "            \n",
    "            # Compare to max_array_product\n",
    "            if array_product > max_array_product:\n",
    "                max_array_product = array_product\n",
    "                #print('New max array product', max_array_product)\n",
    "                \n",
    "            # Continue\n",
    "            j+=1\n",
    "        \n",
    "        # Return max_array_product\n",
    "        return max_array_product\n",
    "    \n",
    "    \n",
    "    # Iterate through each row and see if row_max_product is higher than max_product\n",
    "    for row in grid.split('\\n'):\n",
    "        if row=='':\n",
    "            continue\n",
    "        else:\n",
    "            new_product = calculate_array_max_product(row.split(' '))\n",
    "            #print('New product', new_product)\n",
    "            if new_product > max_product:\n",
    "                max_product = new_product\n",
    "                #print('New max product', max_product)\n",
    "                \n",
    "    # Iterate through each column\n",
    "    \n",
    "    \n",
    "    # Iterate through each diagonal\n",
    "    # This one is tricky. Think it's better if I store grid as some kind of matrix.\n",
    "    # May return to later...\n",
    "                \n",
    "    \n",
    "    return max_product       \n",
    "    "
   ]
  },
  {
   "cell_type": "code",
   "execution_count": 21,
   "metadata": {
    "scrolled": true
   },
   "outputs": [
    {
     "data": {
      "text/plain": [
       "48477312"
      ]
     },
     "execution_count": 21,
     "metadata": {},
     "output_type": "execute_result"
    }
   ],
   "source": [
    "calculate_largest_n_product(grid,n=4)"
   ]
  },
  {
   "cell_type": "code",
   "execution_count": 22,
   "metadata": {},
   "outputs": [],
   "source": [
    "# grid"
   ]
  },
  {
   "cell_type": "code",
   "execution_count": 23,
   "metadata": {},
   "outputs": [],
   "source": [
    "# grid.split('\\n')[1].split(' ')"
   ]
  },
  {
   "cell_type": "code",
   "execution_count": 24,
   "metadata": {},
   "outputs": [
    {
     "data": {
      "text/plain": [
       "20.0"
      ]
     },
     "execution_count": 24,
     "metadata": {},
     "output_type": "execute_result"
    }
   ],
   "source": [
    "len(grid.split()) ** 0.5"
   ]
  },
  {
   "cell_type": "markdown",
   "metadata": {},
   "source": [
    "### Problem 13: Large Sum"
   ]
  },
  {
   "cell_type": "code",
   "execution_count": 25,
   "metadata": {},
   "outputs": [],
   "source": [
    "large_nums = \"\"\"\n",
    "37107287533902102798797998220837590246510135740250\n",
    "46376937677490009712648124896970078050417018260538\n",
    "74324986199524741059474233309513058123726617309629\n",
    "91942213363574161572522430563301811072406154908250\n",
    "23067588207539346171171980310421047513778063246676\n",
    "89261670696623633820136378418383684178734361726757\n",
    "28112879812849979408065481931592621691275889832738\n",
    "44274228917432520321923589422876796487670272189318\n",
    "47451445736001306439091167216856844588711603153276\n",
    "70386486105843025439939619828917593665686757934951\n",
    "62176457141856560629502157223196586755079324193331\n",
    "64906352462741904929101432445813822663347944758178\n",
    "92575867718337217661963751590579239728245598838407\n",
    "58203565325359399008402633568948830189458628227828\n",
    "80181199384826282014278194139940567587151170094390\n",
    "35398664372827112653829987240784473053190104293586\n",
    "86515506006295864861532075273371959191420517255829\n",
    "71693888707715466499115593487603532921714970056938\n",
    "54370070576826684624621495650076471787294438377604\n",
    "53282654108756828443191190634694037855217779295145\n",
    "36123272525000296071075082563815656710885258350721\n",
    "45876576172410976447339110607218265236877223636045\n",
    "17423706905851860660448207621209813287860733969412\n",
    "81142660418086830619328460811191061556940512689692\n",
    "51934325451728388641918047049293215058642563049483\n",
    "62467221648435076201727918039944693004732956340691\n",
    "15732444386908125794514089057706229429197107928209\n",
    "55037687525678773091862540744969844508330393682126\n",
    "18336384825330154686196124348767681297534375946515\n",
    "80386287592878490201521685554828717201219257766954\n",
    "78182833757993103614740356856449095527097864797581\n",
    "16726320100436897842553539920931837441497806860984\n",
    "48403098129077791799088218795327364475675590848030\n",
    "87086987551392711854517078544161852424320693150332\n",
    "59959406895756536782107074926966537676326235447210\n",
    "69793950679652694742597709739166693763042633987085\n",
    "41052684708299085211399427365734116182760315001271\n",
    "65378607361501080857009149939512557028198746004375\n",
    "35829035317434717326932123578154982629742552737307\n",
    "94953759765105305946966067683156574377167401875275\n",
    "88902802571733229619176668713819931811048770190271\n",
    "25267680276078003013678680992525463401061632866526\n",
    "36270218540497705585629946580636237993140746255962\n",
    "24074486908231174977792365466257246923322810917141\n",
    "91430288197103288597806669760892938638285025333403\n",
    "34413065578016127815921815005561868836468420090470\n",
    "23053081172816430487623791969842487255036638784583\n",
    "11487696932154902810424020138335124462181441773470\n",
    "63783299490636259666498587618221225225512486764533\n",
    "67720186971698544312419572409913959008952310058822\n",
    "95548255300263520781532296796249481641953868218774\n",
    "76085327132285723110424803456124867697064507995236\n",
    "37774242535411291684276865538926205024910326572967\n",
    "23701913275725675285653248258265463092207058596522\n",
    "29798860272258331913126375147341994889534765745501\n",
    "18495701454879288984856827726077713721403798879715\n",
    "38298203783031473527721580348144513491373226651381\n",
    "34829543829199918180278916522431027392251122869539\n",
    "40957953066405232632538044100059654939159879593635\n",
    "29746152185502371307642255121183693803580388584903\n",
    "41698116222072977186158236678424689157993532961922\n",
    "62467957194401269043877107275048102390895523597457\n",
    "23189706772547915061505504953922979530901129967519\n",
    "86188088225875314529584099251203829009407770775672\n",
    "11306739708304724483816533873502340845647058077308\n",
    "82959174767140363198008187129011875491310547126581\n",
    "97623331044818386269515456334926366572897563400500\n",
    "42846280183517070527831839425882145521227251250327\n",
    "55121603546981200581762165212827652751691296897789\n",
    "32238195734329339946437501907836945765883352399886\n",
    "75506164965184775180738168837861091527357929701337\n",
    "62177842752192623401942399639168044983993173312731\n",
    "32924185707147349566916674687634660915035914677504\n",
    "99518671430235219628894890102423325116913619626622\n",
    "73267460800591547471830798392868535206946944540724\n",
    "76841822524674417161514036427982273348055556214818\n",
    "97142617910342598647204516893989422179826088076852\n",
    "87783646182799346313767754307809363333018982642090\n",
    "10848802521674670883215120185883543223812876952786\n",
    "71329612474782464538636993009049310363619763878039\n",
    "62184073572399794223406235393808339651327408011116\n",
    "66627891981488087797941876876144230030984490851411\n",
    "60661826293682836764744779239180335110989069790714\n",
    "85786944089552990653640447425576083659976645795096\n",
    "66024396409905389607120198219976047599490197230297\n",
    "64913982680032973156037120041377903785566085089252\n",
    "16730939319872750275468906903707539413042652315011\n",
    "94809377245048795150954100921645863754710598436791\n",
    "78639167021187492431995700641917969777599028300699\n",
    "15368713711936614952811305876380278410754449733078\n",
    "40789923115535562561142322423255033685442488917353\n",
    "44889911501440648020369068063960672322193204149535\n",
    "41503128880339536053299340368006977710650566631954\n",
    "81234880673210146739058568557934581403627822703280\n",
    "82616570773948327592232845941706525094512325230608\n",
    "22918802058777319719839450180888072429661980811197\n",
    "77158542502016545090413245809786882778948721859617\n",
    "72107838435069186155435662884062257473692284509516\n",
    "20849603980134001723930671666823555245252804609722\n",
    "53503534226472524250874054075591789781264330331690\n",
    "\"\"\""
   ]
  },
  {
   "cell_type": "code",
   "execution_count": 26,
   "metadata": {
    "scrolled": true
   },
   "outputs": [
    {
     "name": "stdout",
     "output_type": "stream",
     "text": [
      "100\n"
     ]
    }
   ],
   "source": [
    "large_nums_list = large_nums.split('\\n')\n",
    "large_nums_list.remove('') # first\n",
    "large_nums_list.remove('') # last\n",
    "#large_nums_list\n",
    "print(len(large_nums_list))"
   ]
  },
  {
   "cell_type": "code",
   "execution_count": 27,
   "metadata": {},
   "outputs": [
    {
     "name": "stdout",
     "output_type": "stream",
     "text": [
      "5537376230390876637302048746832985971773659831892672\n"
     ]
    }
   ],
   "source": [
    "large_sum=0\n",
    "i=0\n",
    "\n",
    "while i<100:\n",
    "    large_sum = large_sum + int(large_nums_list[i])\n",
    "    i+=1\n",
    "    \n",
    "print(large_sum)"
   ]
  },
  {
   "cell_type": "code",
   "execution_count": 28,
   "metadata": {},
   "outputs": [
    {
     "name": "stdout",
     "output_type": "stream",
     "text": [
      "5537376230\n"
     ]
    }
   ],
   "source": [
    "print(str(large_sum)[0:10])"
   ]
  },
  {
   "cell_type": "markdown",
   "metadata": {},
   "source": [
    "### Problem 34: Digit Factorials"
   ]
  },
  {
   "cell_type": "code",
   "execution_count": 29,
   "metadata": {},
   "outputs": [],
   "source": [
    "# Returns a boolean. Name should explain function.\n",
    "# i.e. 145 -> 1! + 4! + 5! = 1 + 24 + 120 = 145 -> return True\n",
    "def check_number_equal_to_sum_of_factorial_of_digits(x):\n",
    "    digit_list = [int(digit) for digit in str(x)]\n",
    "    factorial_of_digits_list = [math.factorial(digit) for digit in digit_list]\n",
    "    digit_factorial_sum = sum(factorial_of_digits_list)\n",
    "    return digit_factorial_sum==x"
   ]
  },
  {
   "cell_type": "code",
   "execution_count": 30,
   "metadata": {},
   "outputs": [
    {
     "name": "stdout",
     "output_type": "stream",
     "text": [
      "True\n",
      "False\n"
     ]
    }
   ],
   "source": [
    "print(check_number_equal_to_sum_of_factorial_of_digits(145))\n",
    "print(check_number_equal_to_sum_of_factorial_of_digits(20))"
   ]
  },
  {
   "cell_type": "markdown",
   "metadata": {},
   "source": [
    "Going to loop through some numbers because Python is fast. Is there an efficient way to do this?"
   ]
  },
  {
   "cell_type": "code",
   "execution_count": 31,
   "metadata": {},
   "outputs": [
    {
     "name": "stdout",
     "output_type": "stream",
     "text": [
      "145\n",
      "40585\n"
     ]
    }
   ],
   "source": [
    "i=10 # starting in double digits because single digits cannot be a \"sum\" of their digits\n",
    "while i < 9999999:\n",
    "    if check_number_equal_to_sum_of_factorial_of_digits(i):\n",
    "        print(i)\n",
    "    i+=1"
   ]
  },
  {
   "cell_type": "markdown",
   "metadata": {},
   "source": [
    "Note: should really determine an upper bound mathematically, but through experimentation, there only seems to be 2 of these numbers."
   ]
  },
  {
   "cell_type": "markdown",
   "metadata": {},
   "source": [
    "Here's an easy one: 9,999,999 (since max factorial sum would be 7 * 9! = 2,540,160 < 9,999,999)"
   ]
  },
  {
   "cell_type": "markdown",
   "metadata": {},
   "source": [
    "### Problem 61: Cyclical Figurate Numbers"
   ]
  },
  {
   "cell_type": "markdown",
   "metadata": {},
   "source": [
    "Let Px,n represent the nth figurate number of degree x."
   ]
  },
  {
   "cell_type": "markdown",
   "metadata": {},
   "source": [
    "i.e. P3,127 = 8128 would be the 127th figurate number of degree 3 (aka a triangle figurate number)"
   ]
  },
  {
   "cell_type": "markdown",
   "metadata": {},
   "source": [
    "Some quick algebra shows that the lowest n to generate a 4 digit figurate number if x can only be one of 3,4,5,6,7,8 is 19 (x=8). The highest n would be 140 (x=3). This establishes some bounds."
   ]
  },
  {
   "cell_type": "code",
   "execution_count": 32,
   "metadata": {},
   "outputs": [],
   "source": [
    "# This function will calculate Px,n\n",
    "def calculate_Pxn(x,n):\n",
    "    if x==3:\n",
    "        return n*(n+1)/2\n",
    "    elif x==4:\n",
    "        return n**2\n",
    "    elif x==5:\n",
    "        return n*(3*n-1)/2\n",
    "    elif x==6:\n",
    "        return n*(2*n-1)\n",
    "    elif x==7:\n",
    "        return n*(5*n-3)/2\n",
    "    elif x==8:\n",
    "        return n*(3*n-2)\n",
    "    else:\n",
    "        return 'Incorrect x value'"
   ]
  },
  {
   "cell_type": "code",
   "execution_count": 33,
   "metadata": {},
   "outputs": [
    {
     "name": "stdout",
     "output_type": "stream",
     "text": [
      "15.0\n",
      "25\n",
      "35.0\n",
      "45\n",
      "55.0\n",
      "65\n"
     ]
    }
   ],
   "source": [
    "print(calculate_Pxn(3,5))\n",
    "print(calculate_Pxn(4,5))\n",
    "print(calculate_Pxn(5,5))\n",
    "print(calculate_Pxn(6,5))\n",
    "print(calculate_Pxn(7,5))\n",
    "print(calculate_Pxn(8,5))"
   ]
  },
  {
   "cell_type": "code",
   "execution_count": 34,
   "metadata": {},
   "outputs": [
    {
     "name": "stdout",
     "output_type": "stream",
     "text": [
      "8128.0\n",
      "8281\n",
      "2882.0\n"
     ]
    }
   ],
   "source": [
    "print(calculate_Pxn(3,127))\n",
    "print(calculate_Pxn(4,91))\n",
    "print(calculate_Pxn(5,44))"
   ]
  },
  {
   "cell_type": "code",
   "execution_count": 35,
   "metadata": {},
   "outputs": [],
   "source": [
    "# This function will generate a list of all 4 digit figurate numbers for a specified n, \n",
    "# where n can be one of [3,4,5,6,7,8]\n",
    "# This should hopefully give me an idea on the scope of the problem.\n",
    "\n",
    "# Update: we can thin this a bit further. Since each number needs to be in a cyclic series of 4 digit numbers,\n",
    "# meaning its last two digits are the first two of another number, this means the third digit cannot be 0.\n",
    "# (4 digit number cannot start with 0 - at least I hope we're not including that)\n",
    "def generate_four_digit_figurate_numbers(x):\n",
    "    figurate_number_list = []\n",
    "    for n in range(19, 141):\n",
    "        figurate_number=int(calculate_Pxn(x,n))\n",
    "        if len(str(figurate_number))!=4: # number must be 4 digits\n",
    "            continue\n",
    "        elif str(figurate_number)[2]=='0': # number must be cyclic\n",
    "            continue\n",
    "        else:\n",
    "            figurate_number_list.append(figurate_number)\n",
    "    return figurate_number_list"
   ]
  },
  {
   "cell_type": "code",
   "execution_count": 36,
   "metadata": {
    "scrolled": true
   },
   "outputs": [
    {
     "name": "stdout",
     "output_type": "stream",
     "text": [
      "88\n",
      "53\n",
      "47\n",
      "44\n",
      "40\n",
      "30\n"
     ]
    }
   ],
   "source": [
    "for x in range(3,9):\n",
    "    print(len(generate_four_digit_figurate_numbers(x)))"
   ]
  },
  {
   "cell_type": "code",
   "execution_count": 37,
   "metadata": {
    "scrolled": true
   },
   "outputs": [],
   "source": [
    "# generate_four_digit_figurate_numbers(8)"
   ]
  },
  {
   "cell_type": "code",
   "execution_count": 38,
   "metadata": {},
   "outputs": [],
   "source": [
    "# Function will check if ordered sequence of numbers is cyclic\n",
    "# Pass in sequence as list\n",
    "def check_if_sequence_is_cyclic(sequence):\n",
    "    sequence = [str(x) for x in sequence] # convert to string\n",
    "    \n",
    "    # We'll first check that the last 2 digits of last number equal first 2 of first\n",
    "    if sequence[0][0:2] != sequence[-1][2:4]:\n",
    "        outcome=False\n",
    "    else:\n",
    "        outcome=True\n",
    "        for i in range(0,len(sequence)-1):\n",
    "            if sequence[i][2:4]!=sequence[i+1][0:2]:\n",
    "                outcome=False\n",
    "                break\n",
    "            else:\n",
    "                continue\n",
    "    return outcome"
   ]
  },
  {
   "cell_type": "code",
   "execution_count": 39,
   "metadata": {},
   "outputs": [
    {
     "name": "stdout",
     "output_type": "stream",
     "text": [
      "True\n",
      "False\n",
      "False\n"
     ]
    }
   ],
   "source": [
    "print(check_if_sequence_is_cyclic([8128,2882,8281]))\n",
    "print(check_if_sequence_is_cyclic([1283,8382,8256,5617,1781]))\n",
    "print(check_if_sequence_is_cyclic([1283,8382,8256,5512]))"
   ]
  },
  {
   "cell_type": "markdown",
   "metadata": {},
   "source": [
    "Let's start building the sequence."
   ]
  },
  {
   "cell_type": "markdown",
   "metadata": {},
   "source": [
    "We'll start with the first two terms."
   ]
  },
  {
   "cell_type": "markdown",
   "metadata": {},
   "source": [
    "WLOG, we can assume the sequence starts with a term of degree 8"
   ]
  },
  {
   "cell_type": "markdown",
   "metadata": {},
   "source": [
    "We'll call a pair semi-cyclic if it's in format abcd-cdef."
   ]
  },
  {
   "cell_type": "code",
   "execution_count": 40,
   "metadata": {},
   "outputs": [
    {
     "name": "stdout",
     "output_type": "stream",
     "text": [
      "88\n"
     ]
    }
   ],
   "source": [
    "list_of_semi_cyclic_pairs=[]\n",
    "for x8 in generate_four_digit_figurate_numbers(8):\n",
    "    for n in [3,4,5,6,7]:\n",
    "        for item in generate_four_digit_figurate_numbers(n):\n",
    "            if str(x8)[2:4] == str(item)[0:2]:\n",
    "                list_of_semi_cyclic_pairs.append(([x8,item],[8,n]))   #{x8:8,item:n}\n",
    "print(len(list_of_semi_cyclic_pairs))"
   ]
  },
  {
   "cell_type": "code",
   "execution_count": 41,
   "metadata": {
    "scrolled": true
   },
   "outputs": [
    {
     "data": {
      "text/plain": [
       "[([1045, 4560], [8, 3]), ([1045, 4510], [8, 5]), ([1045, 4560], [8, 6])]"
      ]
     },
     "execution_count": 41,
     "metadata": {},
     "output_type": "execute_result"
    }
   ],
   "source": [
    "list_of_semi_cyclic_pairs[0:3]"
   ]
  },
  {
   "cell_type": "markdown",
   "metadata": {},
   "source": [
    "Okay, now let's add another."
   ]
  },
  {
   "cell_type": "code",
   "execution_count": 42,
   "metadata": {},
   "outputs": [
    {
     "name": "stdout",
     "output_type": "stream",
     "text": [
      "252\n"
     ]
    }
   ],
   "source": [
    "list_of_semi_cyclic_triples=[]\n",
    "for sequence in list_of_semi_cyclic_pairs:\n",
    "    for n in [3,4,5,6,7]:\n",
    "        if n in sequence[1]:\n",
    "            continue\n",
    "        else:\n",
    "            for item in generate_four_digit_figurate_numbers(n):\n",
    "                if str(sequence[0][1])[2:4] == str(item)[0:2]:\n",
    "                    list_of_semi_cyclic_triples.append((sequence[0]+[item],sequence[1]+[n]))   #{x8:8,item:n}\n",
    "print(len(list_of_semi_cyclic_triples))"
   ]
  },
  {
   "cell_type": "code",
   "execution_count": 43,
   "metadata": {
    "scrolled": true
   },
   "outputs": [
    {
     "data": {
      "text/plain": [
       "[([1045, 4560, 6084], [8, 3, 4]),\n",
       " ([1045, 4510, 1035], [8, 5, 3]),\n",
       " ([1045, 4510, 1081], [8, 5, 3])]"
      ]
     },
     "execution_count": 43,
     "metadata": {},
     "output_type": "execute_result"
    }
   ],
   "source": [
    "list_of_semi_cyclic_triples[0:3]"
   ]
  },
  {
   "cell_type": "markdown",
   "metadata": {},
   "source": [
    "We should be able to just keeping adding to this code"
   ]
  },
  {
   "cell_type": "code",
   "execution_count": 44,
   "metadata": {},
   "outputs": [
    {
     "name": "stdout",
     "output_type": "stream",
     "text": [
      "533\n"
     ]
    }
   ],
   "source": [
    "list_of_semi_cyclic_quadruples=[]\n",
    "for sequence in list_of_semi_cyclic_triples:\n",
    "    for n in [3,4,5,6,7]:\n",
    "        if n in sequence[1]:\n",
    "            continue\n",
    "        else:\n",
    "            for item in generate_four_digit_figurate_numbers(n):\n",
    "                if str(sequence[0][2])[2:4] == str(item)[0:2]:\n",
    "                    list_of_semi_cyclic_quadruples.append((sequence[0]+[item],sequence[1]+[n]))   #{x8:8,item:n}\n",
    "print(len(list_of_semi_cyclic_quadruples))"
   ]
  },
  {
   "cell_type": "code",
   "execution_count": 45,
   "metadata": {},
   "outputs": [
    {
     "data": {
      "text/plain": [
       "[([1045, 4510, 1035, 3553], [8, 5, 3, 7]),\n",
       " ([1045, 4510, 1081, 8128], [8, 5, 3, 6]),\n",
       " ([1045, 4510, 1024, 2415], [8, 5, 4, 3])]"
      ]
     },
     "execution_count": 45,
     "metadata": {},
     "output_type": "execute_result"
    }
   ],
   "source": [
    "list_of_semi_cyclic_quadruples[0:3]"
   ]
  },
  {
   "cell_type": "code",
   "execution_count": 46,
   "metadata": {},
   "outputs": [
    {
     "name": "stdout",
     "output_type": "stream",
     "text": [
      "692\n"
     ]
    }
   ],
   "source": [
    "list_of_semi_cyclic_quintets=[]\n",
    "for sequence in list_of_semi_cyclic_quadruples:\n",
    "    for n in [3,4,5,6,7]:\n",
    "        if n in sequence[1]:\n",
    "            continue\n",
    "        else:\n",
    "            for item in generate_four_digit_figurate_numbers(n):\n",
    "                if str(sequence[0][3])[2:4] == str(item)[0:2]:\n",
    "                    list_of_semi_cyclic_quintets.append((sequence[0]+[item],sequence[1]+[n]))   #{x8:8,item:n}\n",
    "print(len(list_of_semi_cyclic_quintets))"
   ]
  },
  {
   "cell_type": "code",
   "execution_count": 47,
   "metadata": {},
   "outputs": [
    {
     "data": {
      "text/plain": [
       "[([1045, 4510, 1035, 3553, 5329], [8, 5, 3, 7, 4]),\n",
       " ([1045, 4510, 1035, 3553, 5356], [8, 5, 3, 7, 6]),\n",
       " ([1045, 4510, 1081, 8128, 2839], [8, 5, 3, 6, 7])]"
      ]
     },
     "execution_count": 47,
     "metadata": {},
     "output_type": "execute_result"
    }
   ],
   "source": [
    "list_of_semi_cyclic_quintets[0:3]"
   ]
  },
  {
   "cell_type": "code",
   "execution_count": 48,
   "metadata": {},
   "outputs": [
    {
     "name": "stdout",
     "output_type": "stream",
     "text": [
      "419\n"
     ]
    }
   ],
   "source": [
    "list_of_semi_cyclic_hextuples=[]\n",
    "for sequence in list_of_semi_cyclic_quintets:\n",
    "    for n in [3,4,5,6,7]:\n",
    "        if n in sequence[1]:\n",
    "            continue\n",
    "        else:\n",
    "            for item in generate_four_digit_figurate_numbers(n):\n",
    "                if str(sequence[0][4])[2:4] == str(item)[0:2]:\n",
    "                    list_of_semi_cyclic_hextuples.append((sequence[0]+[item],sequence[1]+[n]))   #{x8:8,item:n}\n",
    "print(len(list_of_semi_cyclic_hextuples))"
   ]
  },
  {
   "cell_type": "code",
   "execution_count": 49,
   "metadata": {},
   "outputs": [
    {
     "data": {
      "text/plain": [
       "[([1045, 4510, 1035, 3553, 5356, 5625], [8, 5, 3, 7, 6, 4]),\n",
       " ([1045, 4510, 1081, 8128, 2839, 3969], [8, 5, 3, 6, 7, 4]),\n",
       " ([1045, 4510, 1024, 2415, 1525, 2556], [8, 5, 4, 3, 7, 6])]"
      ]
     },
     "execution_count": 49,
     "metadata": {},
     "output_type": "execute_result"
    }
   ],
   "source": [
    "list_of_semi_cyclic_hextuples[0:3]"
   ]
  },
  {
   "cell_type": "markdown",
   "metadata": {},
   "source": [
    "Ok. Now we just find which one is actually cyclic"
   ]
  },
  {
   "cell_type": "code",
   "execution_count": 50,
   "metadata": {},
   "outputs": [
    {
     "name": "stdout",
     "output_type": "stream",
     "text": [
      "[1281, 8128, 2882, 8256, 5625, 2512]\n"
     ]
    }
   ],
   "source": [
    "for sequence in list_of_semi_cyclic_hextuples:\n",
    "    if check_if_sequence_is_cyclic(sequence[0]):\n",
    "        cyclic_sequence = sequence[0]\n",
    "        print(cyclic_sequence)\n",
    "        break"
   ]
  },
  {
   "cell_type": "code",
   "execution_count": 51,
   "metadata": {},
   "outputs": [
    {
     "data": {
      "text/plain": [
       "28684"
      ]
     },
     "execution_count": 51,
     "metadata": {},
     "output_type": "execute_result"
    }
   ],
   "source": [
    "sum(cyclic_sequence)"
   ]
  },
  {
   "cell_type": "markdown",
   "metadata": {},
   "source": [
    "Messy but worked! (Can obviously clean up)"
   ]
  },
  {
   "cell_type": "markdown",
   "metadata": {},
   "source": [
    "### Problem 152: Writing 1/2 as a Sum of Inverse Squares"
   ]
  },
  {
   "cell_type": "markdown",
   "metadata": {},
   "source": [
    "#### i. Functions"
   ]
  },
  {
   "cell_type": "markdown",
   "metadata": {},
   "source": [
    "Here are some functions and constants that I find myself returning to frequently"
   ]
  },
  {
   "cell_type": "code",
   "execution_count": 52,
   "metadata": {
    "scrolled": false
   },
   "outputs": [
    {
     "name": "stdout",
     "output_type": "stream",
     "text": [
      "604462909807314587353088\n",
      "[2]\n",
      "1051955226159785296527938644268159905745060258708849004347541404160000\n",
      "6\n",
      "78\n"
     ]
    }
   ],
   "source": [
    "# Constants I will be using a lot. I will be trying to shrink possible_n and expand must_include.\n",
    "possible_n = [n for n in range(2,81)]\n",
    "must_include = []\n",
    "\n",
    "# Will give me total number of possible combinations of sequence of numbers whose inverse squares sum to 1/2\n",
    "def total_possible_combinations():\n",
    "    return 2**(len(possible_n) - len(must_include))\n",
    "\n",
    "\n",
    "# Calculates which n must be included in the sum of inverse squares so that the sum will actually be high enough\n",
    "# to get to 1/2.\n",
    "# Here's the motivation for this function:\n",
    "# If you sum up all the inverse squares from 2 to 80, you get a total of about 0.6235.\n",
    "# Of course 1/2 = 0.5 so if for a particular n the inverse square is greater than the difference (approx 0.1235),\n",
    "# then that n has to be included.\n",
    "# For example, consider n=2. 1/(2^2)=0.25 so any combination of integers between 2 and 80 must include n=2\n",
    "# because otherwise the sum would be guaranteed to be smaller than 1/2.\n",
    "# n=2 is the only one that is included from the start but as I shrink possible_n, this will increase\n",
    "# Note: the idea for this came from the fact that I noticed all the combinations in the example contained 2,3,4\n",
    "# and a couple other low n because eventually 1/n^2 becomes very small.\n",
    "def determine_must_include():\n",
    "    # Calculate the threshold/difference\n",
    "    total=0\n",
    "    for n in possible_n:\n",
    "        total=total+(1 / (n**2))\n",
    "    difference = total - 0.5\n",
    "    #print(difference)\n",
    "    \n",
    "    # Determine which n must be included. We'll assume possible_n is sorted.\n",
    "    for n in possible_n:\n",
    "        #print(n)\n",
    "        if n in must_include:\n",
    "            pass\n",
    "        elif (1 / (n**2)) > difference:\n",
    "            must_include.append(n)\n",
    "        else:\n",
    "            break\n",
    "            \n",
    "    return must_include\n",
    "\n",
    "\n",
    "# Takes in a list of numbers (generally possible_n), and outputs the least common multiple of their squares\n",
    "def calculate_lcm_of_squares(list_of_num=possible_n):\n",
    "    lcm = list_of_num[0]**2 # Initialize\n",
    "    for n in list_of_num[1:]:\n",
    "        y = n**2\n",
    "        lcm = lcm * y // math.gcd(lcm, y)\n",
    "    return lcm\n",
    "\n",
    "\n",
    "# Want to set a bound of the least number of terms I have to sum to get to 1/2. This will give me an idea of the \n",
    "# min number of numbers each combination needs, thereby reducing how many I need to loop through\n",
    "def calculate_minimum_number_of_squares(list_of_num=possible_n):\n",
    "    i=0\n",
    "    total=0\n",
    "    list_of_num.sort()\n",
    "    for n in list_of_num:\n",
    "        if total>=0.5:\n",
    "            #print(i)\n",
    "            break\n",
    "        else:\n",
    "            total=total+(1 / (n**2))\n",
    "            #print(total)\n",
    "            i+=1\n",
    "    return i\n",
    "\n",
    "\n",
    "# Similar to above but more specific to this question (in that the must_include list matters), function will\n",
    "# set an upper bound on the number of squares that are included in a successful sequence.\n",
    "# This upper bound will depend on which numbers must be included. So we'll include those and then do something\n",
    "# similar to minimum function.\n",
    "def calculate_maximum_number_of_squares(possible_n=possible_n, must_include=must_include):\n",
    "    # Set up\n",
    "    i=0\n",
    "    total=0\n",
    "    possible_include = [item for item in possible_n if item not in must_include]\n",
    "    possible_include.sort(reverse=True) # Want to sort in reverse order so we get smallest inverse square values first\n",
    "    \n",
    "    # Loop through must include and add to sum\n",
    "    for n in must_include:\n",
    "        total=total+(1 / (n**2))\n",
    "        i+=1\n",
    "        \n",
    "    # Loop through possible_include\n",
    "    for n in possible_include:\n",
    "        #print(n)\n",
    "        if total>=0.5:\n",
    "            #print(i)\n",
    "            break\n",
    "        else:\n",
    "            total=total+(1 / (n**2))\n",
    "            #print(total)\n",
    "            i+=1  \n",
    "    \n",
    "    return i\n",
    "\n",
    "\n",
    "\n",
    "print(total_possible_combinations())\n",
    "print(determine_must_include())\n",
    "print(calculate_lcm_of_squares())\n",
    "print(calculate_minimum_number_of_squares())\n",
    "print(calculate_maximum_number_of_squares())"
   ]
  },
  {
   "cell_type": "markdown",
   "metadata": {},
   "source": [
    "Functions for brute forcing"
   ]
  },
  {
   "cell_type": "code",
   "execution_count": 53,
   "metadata": {},
   "outputs": [
    {
     "name": "stdout",
     "output_type": "stream",
     "text": [
      "False\n",
      "True\n",
      "True\n",
      "True\n"
     ]
    }
   ],
   "source": [
    "import itertools\n",
    "\n",
    "# Takes a list of numbers, and determines if the sum of inverse squares equals 1/2\n",
    "# i.e. Would the list satisfy the requirements of the problem\n",
    "def check_sum_of_inverse_squares_equals_one_half(list_of_num):\n",
    "    lcm = calculate_lcm_of_squares(list_of_num)\n",
    "    ls = lcm // 2\n",
    "    rs = 0\n",
    "    for num in list_of_num:\n",
    "        rs = rs + (lcm // (num**2))\n",
    "    return ls == rs\n",
    "\n",
    "\n",
    "# Will determine every possible list of num from possible_n and must_include\n",
    "# Then I can loop through all possibilities\n",
    "def create_every_possible_subset(possible_n=possible_n, must_include=must_include):\n",
    "    # Constants\n",
    "    total_choices = len(possible_n) - len(must_include)\n",
    "    min_elements = calculate_minimum_number_of_squares(possible_n) - len(must_include)\n",
    "    max_elements = calculate_maximum_number_of_squares(possible_n,must_include) - len(must_include)\n",
    "    list_of_choices = [item for item in possible_n if item not in must_include]\n",
    "    \n",
    "    # Set up\n",
    "    all_subsets=[]\n",
    "        \n",
    "    # Loop through and create subsets\n",
    "    for k in range(min_elements,max_elements+1):\n",
    "        for item in list(itertools.combinations(list_of_choices, k)):\n",
    "            new_subset = must_include + list(item)\n",
    "            all_subsets.append(new_subset)\n",
    "    \n",
    "    return all_subsets\n",
    "\n",
    "\n",
    "# Loops through every possible subset and determines which sequences would satisfy the requirements of this problem\n",
    "def determine_sequences_whose_sum_of_inverse_squares_equals_one_half(possible_n=possible_n, must_include=must_include):\n",
    "    all_sequences=create_every_possible_subset(possible_n,must_include)\n",
    "    correct_sequences=[]\n",
    "    for sequence in all_sequences:\n",
    "        if check_sum_of_inverse_squares_equals_one_half(sequence):\n",
    "            correct_sequences.append(sequence)\n",
    "    return correct_sequences\n",
    "\n",
    "\n",
    "# Testing\n",
    "print(check_sum_of_inverse_squares_equals_one_half([2,3,4,5,6])) # False\n",
    "print(check_sum_of_inverse_squares_equals_one_half([2,3,4,5,7,12,15,20,28,35])) # True\n",
    "print(check_sum_of_inverse_squares_equals_one_half([2,3,4,6,7,9,10,20,28,35,36,45])) # True\n",
    "print(check_sum_of_inverse_squares_equals_one_half([2,3,4,6,7,9,12,15,28,30,35,36,45])) # True\n",
    "\n",
    "#print(create_every_possible_subset(possible_n=possible_n[0:10]))\n",
    "#print(determine_sequences_whose_sum_of_inverse_squares_equals_one_half(possible_n=possible_n[0:44]))\n",
    "\n",
    "# From the example, should be 3\n",
    "A={2,3,4,5,7,12,15,20,28,35}\n",
    "B={2,3,4,6,7,9,10,20,28,35,36,45}\n",
    "C={2,3,4,6,7,9,12,15,28,30,35,36,45}\n",
    "AB=A.union(B)\n",
    "ABC=AB.union(C)\n",
    "#print(determine_sequences_whose_sum_of_inverse_squares_equals_one_half(possible_n=list(ABC),must_include=[2,3,4,7,28,35]))"
   ]
  },
  {
   "cell_type": "markdown",
   "metadata": {},
   "source": [
    "This function is for determining the nonzero coefficients when we multiply both sides of the equation by the lcm of the squares and reduce mod m, for any m that divides the lcm of the squares. This will help us find ways to reduce the problem. I explain it in more detail in the next section."
   ]
  },
  {
   "cell_type": "code",
   "execution_count": 54,
   "metadata": {},
   "outputs": [
    {
     "name": "stdout",
     "output_type": "stream",
     "text": [
      "[(1, 64)]\n",
      "[(1, 27), (1, 54)]\n",
      "[(4, 49)]\n",
      "[(4, 32), (1, 64)]\n"
     ]
    }
   ],
   "source": [
    "# For more information, see the next section\n",
    "# Consider sum(In/n**2) = 1/2, where In=1 if n is included in sum and 0 otherwise\n",
    "# Multiply by lcm and reduce mod m for any m that divides lcm (for instance, any m in possible_n)\n",
    "# (with possible exception of 2 as right side is divided by 2)\n",
    "# Then we get sum(In*lcm/n**2) = 0 mod m and we get some possible equations to reduce the problem.\n",
    "# This function will give us the coefficients for the In for any m\n",
    "def determine_coeff_of_modular_equation_mod_m(m,possible_n=possible_n):\n",
    "    lcm = calculate_lcm_of_squares(possible_n)\n",
    "    coeff = [(((lcm//(n**2))%m),n) for n in possible_n if ((lcm//(n**2))%m)!=0]\n",
    "    return coeff\n",
    "\n",
    "# Checking my work I did by hand with the function that I wrote later - everything looks good!\n",
    "print(determine_coeff_of_modular_equation_mod_m(2, possible_n=possible_n))\n",
    "print(determine_coeff_of_modular_equation_mod_m(3, possible_n=possible_n))\n",
    "print(determine_coeff_of_modular_equation_mod_m(7, possible_n=possible_n))\n",
    "print(determine_coeff_of_modular_equation_mod_m(8, possible_n=possible_n))"
   ]
  },
  {
   "cell_type": "markdown",
   "metadata": {},
   "source": [
    "#### ii. Reducing the Problem"
   ]
  },
  {
   "cell_type": "code",
   "execution_count": 55,
   "metadata": {},
   "outputs": [
    {
     "name": "stdout",
     "output_type": "stream",
     "text": [
      "[2, 3, 5, 7, 11, 13, 17, 19, 23, 29, 31, 37, 41, 43, 47, 53, 59, 61, 67, 71, 73, 79]\n"
     ]
    }
   ],
   "source": [
    "print(prime_list[0:22])"
   ]
  },
  {
   "cell_type": "markdown",
   "metadata": {},
   "source": [
    "Note: if you look at the prime factors of the squares in the [2,45] example, they are all either 2,3,5,7 - nothing else! This is because if you multiply both sides of the equation<br/>\n",
    "1/2 = sum 1/n^2<br/>\n",
    "by the least common multiple, we get<br/>\n",
    "lcm/2 = sum lcm/n^2<br/>\n",
    "=> sum lcm/n^2 = 0 (mod p^2) for all primes p (with some exceptions for p=2) since p^2|lcm<br/>\n",
    "So we can see that if 4p>80 for some p, then this equation reduces to:<br/>\n",
    "lcm/(p)^2+lcm/(2p)^2+lcm/(3p)^2 = 0 (mod p^2) <br/>\n",
    "=>a((2 * 3)^2 + (2)^2 + (3)^2 = 0 (mod p^2) for some factor a by definition of lcm<br/>\n",
    "=>36+4+9 = 0 (mod p^2)<br/>\n",
    "=>49 = 0 (mod p^2), which can only happen if p=7.<br/>\n",
    "We get something similar for any combination of p^2, (2p)^2, (3p)^2 <br/>\n",
    "(obviously for this problem, they need not all be selected as I did above. But you'll get something similar if you go through my logic with the other combinations. Let's call it an exercise.)<br/>\n",
    "So we must have 4p<=80 and hence p<=20.<br/>\n",
    "In other words, for any n to be included in the sum, we must have that its prime divisors are all below 20."
   ]
  },
  {
   "cell_type": "markdown",
   "metadata": {},
   "source": [
    "Note: I suspect it's also true that 5p<=80 and hence p<=16, but I haven't gone through all the cases. Anyways, the reduction to p<20 should be good enough.<br/>\n",
    "Update: it is! (If p is not 2 or 5 or 7 or 13). But there's a lot of cases to check so I won't show it."
   ]
  },
  {
   "cell_type": "code",
   "execution_count": 56,
   "metadata": {},
   "outputs": [
    {
     "name": "stdout",
     "output_type": "stream",
     "text": [
      "[17, 19, 23, 29, 31, 37, 41, 43, 47, 53, 59, 61, 67, 71, 73, 79]\n"
     ]
    }
   ],
   "source": [
    "bad_primes = prime_list[6:22]\n",
    "print(bad_primes)"
   ]
  },
  {
   "cell_type": "code",
   "execution_count": 57,
   "metadata": {},
   "outputs": [
    {
     "name": "stdout",
     "output_type": "stream",
     "text": [
      "52\n"
     ]
    }
   ],
   "source": [
    "for n in range(2,81):\n",
    "    for p in bad_primes:\n",
    "        if n%p==0:\n",
    "#             print(n)\n",
    "            possible_n.remove(n)\n",
    "            break\n",
    "        else:\n",
    "            continue\n",
    "print(len(possible_n))"
   ]
  },
  {
   "cell_type": "markdown",
   "metadata": {},
   "source": [
    "We can also eliminate some possible n using modular arithmetic:<br/>\n",
    "We want to find combinations of In such that<br/>\n",
    "sum(In/n^2) = 1/2<br/>\n",
    "where In=1 if n is included in the combination and 0 otherwise<br/>\n",
    "So multiplying by lcm we get<br/>\n",
    "sum(In * lcm / n^2) = lcm/2<br/>\n",
    "We now have that a sum of integers is equal to an integer so they must be equal mod m, for all m that divides lcm/2<br/>\n",
    "Choosing interesting m gives us some modular equations that we can use to solve for some In (I also suspect there may be a way to solve the entire problem this way, but I'm not completely convinced).<br/>"
   ]
  },
  {
   "cell_type": "markdown",
   "metadata": {},
   "source": [
    "Here are some interesting m<br/>\n",
    "Note: I came up with these through trial and error. Most are obvious if you try many m, remove and try again, etc. But to save space I will skip."
   ]
  },
  {
   "cell_type": "code",
   "execution_count": 58,
   "metadata": {
    "scrolled": true
   },
   "outputs": [
    {
     "name": "stdout",
     "output_type": "stream",
     "text": [
      "2 [(1, 64)]\n",
      "3 [(1, 27), (1, 54)]\n",
      "7 [(4, 49)]\n",
      "8 [(4, 32), (1, 64)]\n",
      "25 [(16, 25), (4, 50), (24, 75)]\n",
      "64 [(16, 16), (36, 32), (16, 48), (9, 64), (16, 80)]\n"
     ]
    }
   ],
   "source": [
    "for m in possible_n:\n",
    "    if m in [2,3,7,8,25,64]:\n",
    "        print(m, determine_coeff_of_modular_equation_mod_m(m))"
   ]
  },
  {
   "cell_type": "markdown",
   "metadata": {},
   "source": [
    "From these modular equations, we can clearly see that:<br/>\n",
    "1. I64=0 (n=2)<br/>\n",
    "2. I27=I54=0 (n=3)<br/>\n",
    "3. I49=0 (n=7)<br/>\n",
    "4. I32=0 (n=8 combined with the fact I64=0)<br/>\n",
    "5. I25=I50=I75=0 (n=25 - impossible to add to a nonzero multiple of 25)<br/>\n",
    "6. I16=I48=I80=0 (n=64 combined with the fact I32=I64=0 - impossible to add to a nonzero multiple of 64)<br/>\n",
    "<br/>\n",
    "Let's remove"
   ]
  },
  {
   "cell_type": "code",
   "execution_count": 59,
   "metadata": {},
   "outputs": [],
   "source": [
    "possible_n.remove(64)\n",
    "possible_n.remove(27)\n",
    "possible_n.remove(54)\n",
    "possible_n.remove(49)\n",
    "possible_n.remove(32)\n",
    "possible_n.remove(25)\n",
    "possible_n.remove(50)\n",
    "possible_n.remove(75)\n",
    "possible_n.remove(16)\n",
    "possible_n.remove(48)\n",
    "possible_n.remove(80)"
   ]
  },
  {
   "cell_type": "code",
   "execution_count": 60,
   "metadata": {},
   "outputs": [
    {
     "name": "stdout",
     "output_type": "stream",
     "text": [
      "41\n",
      "[2, 3, 4, 5, 6, 7, 8, 9, 10, 11, 12, 13, 14, 15, 18, 20, 21, 22, 24, 26, 28, 30, 33, 35, 36, 39, 40, 42, 44, 45, 52, 55, 56, 60, 63, 65, 66, 70, 72, 77, 78]\n"
     ]
    }
   ],
   "source": [
    "print(len(possible_n))\n",
    "print(possible_n)"
   ]
  },
  {
   "cell_type": "code",
   "execution_count": 61,
   "metadata": {},
   "outputs": [
    {
     "data": {
      "text/plain": [
       "1099511627776"
      ]
     },
     "execution_count": 61,
     "metadata": {},
     "output_type": "execute_result"
    }
   ],
   "source": [
    "total_possible_combinations()"
   ]
  },
  {
   "cell_type": "markdown",
   "metadata": {},
   "source": [
    "Let's retry seeing what n must be included"
   ]
  },
  {
   "cell_type": "code",
   "execution_count": 62,
   "metadata": {},
   "outputs": [
    {
     "data": {
      "text/plain": [
       "[2, 3]"
      ]
     },
     "execution_count": 62,
     "metadata": {},
     "output_type": "execute_result"
    }
   ],
   "source": [
    "determine_must_include()"
   ]
  },
  {
   "cell_type": "markdown",
   "metadata": {},
   "source": [
    "We can also look at every number squared (as we're dealing with squares). I will look at 2 in particular:"
   ]
  },
  {
   "cell_type": "code",
   "execution_count": 63,
   "metadata": {},
   "outputs": [
    {
     "name": "stdout",
     "output_type": "stream",
     "text": [
      "121 [(114, 11), (89, 22), (53, 33), (113, 44), (82, 55), (104, 66), (69, 77)]\n",
      "169 [(16, 13), (4, 26), (152, 39), (1, 52), (75, 65), (38, 78)]\n"
     ]
    }
   ],
   "source": [
    "for m in possible_n:\n",
    "    if m==11 or m==13:\n",
    "        print(m**2, determine_coeff_of_modular_equation_mod_m(m**2))"
   ]
  },
  {
   "cell_type": "markdown",
   "metadata": {},
   "source": [
    "It takes a bit of work but by considering cases for the above two modular equations, we can show:<br/>\n",
    "1. I11=I22=I33=I44=I55=I66=I77=0\n",
    "2. I26=I65=I78=0"
   ]
  },
  {
   "cell_type": "code",
   "execution_count": 64,
   "metadata": {},
   "outputs": [],
   "source": [
    "possible_n.remove(11)\n",
    "possible_n.remove(22)\n",
    "possible_n.remove(33)\n",
    "possible_n.remove(44)\n",
    "possible_n.remove(55)\n",
    "possible_n.remove(66)\n",
    "possible_n.remove(77)\n",
    "possible_n.remove(26)\n",
    "possible_n.remove(65)\n",
    "possible_n.remove(78)"
   ]
  },
  {
   "cell_type": "code",
   "execution_count": 65,
   "metadata": {},
   "outputs": [
    {
     "name": "stdout",
     "output_type": "stream",
     "text": [
      "31\n",
      "[2, 3]\n",
      "536870912\n",
      "6\n",
      "30\n"
     ]
    }
   ],
   "source": [
    "print(len(possible_n))\n",
    "print(determine_must_include())\n",
    "print(total_possible_combinations())\n",
    "print(calculate_minimum_number_of_squares())\n",
    "print(calculate_maximum_number_of_squares())"
   ]
  },
  {
   "cell_type": "markdown",
   "metadata": {},
   "source": [
    "#### iii. Brute Force"
   ]
  },
  {
   "cell_type": "markdown",
   "metadata": {},
   "source": [
    "I don't think I can reduce the possible_n anymore so it's time to brute force. Although it takes too long to run as it currently is, we can parallelize! Recall above when I found I26=I65=I78=0 it implied that either I13=I39=I52=0 or I13=I39=I52=1. This gives us two cases, and reduces the possible choices by 8 for each case (this did actually run before for me so let's see)."
   ]
  },
  {
   "cell_type": "code",
   "execution_count": 66,
   "metadata": {},
   "outputs": [],
   "source": [
    "possible_n_parallelize=possible_n.copy()\n",
    "possible_n_parallelize.remove(13)\n",
    "possible_n_parallelize.remove(39)\n",
    "possible_n_parallelize.remove(52)"
   ]
  },
  {
   "cell_type": "code",
   "execution_count": 67,
   "metadata": {},
   "outputs": [
    {
     "name": "stdout",
     "output_type": "stream",
     "text": [
      "[2, 3, 4, 5, 6, 7, 8, 9, 10, 12, 14, 15, 18, 20, 21, 24, 28, 30, 35, 36, 40, 42, 45, 56, 60, 63, 70, 72]\n"
     ]
    }
   ],
   "source": [
    "print(possible_n_parallelize)"
   ]
  },
  {
   "cell_type": "code",
   "execution_count": 68,
   "metadata": {},
   "outputs": [],
   "source": [
    "# %%time\n",
    "\n",
    "# # Ran this one before, got 154\n",
    "# case1=determine_sequences_whose_sum_of_inverse_squares_equals_one_half(possible_n=possible_n_parallelize,\n",
    "#                                                                        must_include=must_include)\n",
    "# print(len(case1))\n",
    "# print(case1)"
   ]
  },
  {
   "cell_type": "code",
   "execution_count": 69,
   "metadata": {},
   "outputs": [],
   "source": [
    "# %%time\n",
    "\n",
    "# # Ran this one before, got 154\n",
    "# case2=determine_sequences_whose_sum_of_inverse_squares_equals_one_half(possible_n=possible_n_parallelize,\n",
    "#                                                                        must_include=must_include+[13,39,52])\n",
    "# print(len(case2))\n",
    "# print(case2)"
   ]
  },
  {
   "cell_type": "code",
   "execution_count": 70,
   "metadata": {},
   "outputs": [],
   "source": [
    "# x=len(case1)\n",
    "# y=len(case2)\n",
    "# print(x+y)"
   ]
  },
  {
   "cell_type": "markdown",
   "metadata": {},
   "source": [
    "I won't spoil the answer."
   ]
  },
  {
   "cell_type": "markdown",
   "metadata": {},
   "source": [
    "#### iiii. Notes"
   ]
  },
  {
   "cell_type": "markdown",
   "metadata": {},
   "source": [
    "1. This is the hardest problem I've done so far!\n",
    "2. It looks like every number I had in the final possible_n was used in a combination and every combination had to include my must_include. Kind of cool that I was able to get that.\n",
    "3. However, even though I reduced it as best I could (excluding some other weird combination stuff), it still took over 30 min to run. It could definitely be more efficient. Dynamic programming seems to be the way to go.\n",
    "4. My solution is very specific to this problem and wouldn't generalize. However, I believe it could be pretty easily modified to do so (though I need to improve the efficiency of course). The easiest way would be to just look at which prime factors are included by checking all cases with a program. This wouldn't be too costly and should let us remove most of the primes and greatly reduce the possible_n. I'm not sure I could generalize optimizing possible_n but with a dynamic program, removing bad primes should be enough."
   ]
  },
  {
   "cell_type": "code",
   "execution_count": null,
   "metadata": {},
   "outputs": [],
   "source": []
  }
 ],
 "metadata": {
  "kernelspec": {
   "display_name": "Python 3",
   "language": "python",
   "name": "python3"
  },
  "language_info": {
   "codemirror_mode": {
    "name": "ipython",
    "version": 3
   },
   "file_extension": ".py",
   "mimetype": "text/x-python",
   "name": "python",
   "nbconvert_exporter": "python",
   "pygments_lexer": "ipython3",
   "version": "3.7.3"
  }
 },
 "nbformat": 4,
 "nbformat_minor": 2
}
