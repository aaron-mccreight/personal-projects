{
 "cells": [
  {
   "cell_type": "markdown",
   "metadata": {},
   "source": [
    "# Project Euler"
   ]
  },
  {
   "cell_type": "markdown",
   "metadata": {},
   "source": [
    "My solutions to Project Euler problems."
   ]
  },
  {
   "cell_type": "markdown",
   "metadata": {},
   "source": [
    "Link: https://projecteuler.net/"
   ]
  },
  {
   "cell_type": "markdown",
   "metadata": {},
   "source": [
    "Note for myself: still need to finish the back half of 11. Clean up 61"
   ]
  },
  {
   "cell_type": "markdown",
   "metadata": {},
   "source": [
    "### Table of Contents"
   ]
  },
  {
   "cell_type": "markdown",
   "metadata": {},
   "source": [
    "1. [Problem 1: Multiples of 3 and 5](#Problem-1:-Multiples-of-3-and-5)\n",
    "2. [Problem 2: Even Fibonacci Numbers](#Problem-2:-Even-Fibonacci-Numbers)\n",
    "3. [Problem 3: Largest Prime Factor](#Problem-3:-Largest-Prime-Factor)\n",
    "4. [Problem 4: Largest Palindrome Product](#Problem-4:-Largest-Palindrome-Product)\n",
    "5. [Problem 5: Smallest Multiple](#Problem-5:-Smallest-Multiple)\n",
    "6. [Problem 6: Sum Square Difference](#Problem-6:-Sum-Square-Difference)\n",
    "7. [Problem 7: 10001st Prime](#Problem-7:-10001st-Prime)\n",
    "8. [Problem 8: Largest Product in a Series](#Problem-8:-Largest-Product-in-a-Series)\n",
    "9. [Problem 9: Special Pythagorean Triplet](#Problem-9:-Special-Pythagorean-Triplet)\n",
    "10. [Problem 10: Summation of Primes](#Problem-10:-Summation-of-Primes)\n",
    "11. [Problem 11: Largest Product in a Grid](#Problem-11:-Largest-Product-in-a-Grid)\n",
    "13. [Problem 13: Large Sum](#Problem-13:-Large-Sum)\n",
    "34. [Problem 34: Digit Factorials](#Problem-34:-Digit-Factorials)\n",
    "61. [Problem 61: Cyclical Figurate Numbers](#Problem-61:-Cyclical-Figurate-Numbers)"
   ]
  },
  {
   "cell_type": "markdown",
   "metadata": {},
   "source": [
    "### Python Libraries"
   ]
  },
  {
   "cell_type": "code",
   "execution_count": 81,
   "metadata": {},
   "outputs": [],
   "source": [
    "import math"
   ]
  },
  {
   "cell_type": "markdown",
   "metadata": {},
   "source": [
    "### Problem 1: Multiples of 3 and 5"
   ]
  },
  {
   "cell_type": "code",
   "execution_count": 1,
   "metadata": {},
   "outputs": [
    {
     "data": {
      "text/plain": [
       "233168"
      ]
     },
     "execution_count": 1,
     "metadata": {},
     "output_type": "execute_result"
    }
   ],
   "source": [
    "mult35 = 0\n",
    "for i in range(1,1000):\n",
    "    if (i%3 == 0) or (i%5 == 0):\n",
    "        mult35 = mult35 + i\n",
    "mult35"
   ]
  },
  {
   "cell_type": "markdown",
   "metadata": {},
   "source": [
    "### Problem 2: Even Fibonacci Numbers"
   ]
  },
  {
   "cell_type": "code",
   "execution_count": 2,
   "metadata": {},
   "outputs": [
    {
     "name": "stdout",
     "output_type": "stream",
     "text": [
      "8\n",
      "34\n",
      "144\n",
      "610\n",
      "2584\n",
      "10946\n",
      "46368\n",
      "196418\n",
      "832040\n",
      "3524578\n"
     ]
    },
    {
     "data": {
      "text/plain": [
       "4613732"
      ]
     },
     "execution_count": 2,
     "metadata": {},
     "output_type": "execute_result"
    }
   ],
   "source": [
    "even_sum = 2\n",
    "small_term = 1\n",
    "big_term = 2\n",
    "while (small_term + big_term) < 4000000:\n",
    "    new_big_term = big_term + small_term\n",
    "    small_term = big_term\n",
    "    big_term = new_big_term\n",
    "    if big_term%2 == 0:\n",
    "        print(big_term)\n",
    "        even_sum = even_sum + big_term\n",
    "        \n",
    "even_sum"
   ]
  },
  {
   "cell_type": "markdown",
   "metadata": {},
   "source": [
    "### Problem 3: Largest Prime Factor"
   ]
  },
  {
   "cell_type": "code",
   "execution_count": 3,
   "metadata": {},
   "outputs": [
    {
     "data": {
      "text/plain": [
       "6857"
      ]
     },
     "execution_count": 3,
     "metadata": {},
     "output_type": "execute_result"
    }
   ],
   "source": [
    "def is_prime(i): # i will be assumed to be odd\n",
    "    up_bound = int(i**0.5)\n",
    "    up_bound = up_bound + 1 + (up_bound&2)\n",
    "    prime = True\n",
    "    for k in range(3, up_bound, 2):\n",
    "        if i%k == 0:\n",
    "            prime = False\n",
    "            break\n",
    "    return prime\n",
    "\n",
    "\n",
    "number = 600851475143\n",
    "upper_bound = int(number**0.5) \n",
    "upper_bound = upper_bound - 1 + (upper_bound%2) #to make it odd\n",
    "largest_prime = 0\n",
    "for i in range(upper_bound, 3, -2):\n",
    "    if number  % i == 0:\n",
    "        if is_prime(i):\n",
    "            largest_prime = i\n",
    "            break\n",
    "\n",
    "largest_prime"
   ]
  },
  {
   "cell_type": "code",
   "execution_count": 4,
   "metadata": {},
   "outputs": [
    {
     "data": {
      "text/plain": [
       "False"
      ]
     },
     "execution_count": 4,
     "metadata": {},
     "output_type": "execute_result"
    }
   ],
   "source": [
    "is_prime(25)"
   ]
  },
  {
   "cell_type": "markdown",
   "metadata": {},
   "source": [
    "### Problem 4: Largest Palindrome Product"
   ]
  },
  {
   "cell_type": "code",
   "execution_count": 5,
   "metadata": {},
   "outputs": [],
   "source": [
    "def is_palindrome(x): # pass in x as a string\n",
    "    return str(x) == str(x)[::-1]\n",
    "    \n",
    "    \n",
    "# original function - pass in x as a string\n",
    "#    n = len(x)\n",
    " #   if n == 0 or n == 1:\n",
    "  #      return True\n",
    "   # elif x[0] == x[-1]:\n",
    "    #    return is_palindrome(x[1:n-1])\n",
    "    #else:\n",
    "     #   return False"
   ]
  },
  {
   "cell_type": "code",
   "execution_count": 6,
   "metadata": {},
   "outputs": [
    {
     "data": {
      "text/plain": [
       "True"
      ]
     },
     "execution_count": 6,
     "metadata": {},
     "output_type": "execute_result"
    }
   ],
   "source": [
    "is_palindrome(1221)"
   ]
  },
  {
   "cell_type": "code",
   "execution_count": 7,
   "metadata": {},
   "outputs": [
    {
     "data": {
      "text/plain": [
       "906609"
      ]
     },
     "execution_count": 7,
     "metadata": {},
     "output_type": "execute_result"
    }
   ],
   "source": [
    "largest_palindrome = 0\n",
    "for i in range(100,1000):\n",
    "    for j in range(100, i+1):\n",
    "        n = i*j\n",
    "        if is_palindrome(n) and (n > largest_palindrome):\n",
    "            largest_palindrome = n\n",
    "largest_palindrome"
   ]
  },
  {
   "cell_type": "markdown",
   "metadata": {},
   "source": [
    "### Problem 5: Smallest Multiple"
   ]
  },
  {
   "cell_type": "code",
   "execution_count": 8,
   "metadata": {},
   "outputs": [
    {
     "data": {
      "text/plain": [
       "232792560"
      ]
     },
     "execution_count": 8,
     "metadata": {},
     "output_type": "execute_result"
    }
   ],
   "source": [
    "def suitable_divisor(x):\n",
    "    ans = True\n",
    "    for i in range(2,21):\n",
    "        if x%i != 0:\n",
    "            ans = False\n",
    "            break\n",
    "    return ans\n",
    "\n",
    "#import math\n",
    "#upper_bound = math.factorial(20)\n",
    "\n",
    "smallest_multiple = 0\n",
    "x = 2520\n",
    "#for x in range(2520, upper_bound): #2520 comes from Project Euler website (it's smallest positive number that is a multiple of 1,...,10)\n",
    "while True:\n",
    "    if suitable_divisor(x):\n",
    "        smallest_multiple = x\n",
    "        break\n",
    "    else:\n",
    "        x = x + 2520\n",
    "\n",
    "smallest_multiple"
   ]
  },
  {
   "cell_type": "code",
   "execution_count": 9,
   "metadata": {},
   "outputs": [],
   "source": [
    "# could have just found lowest common multiple using prime factors"
   ]
  },
  {
   "cell_type": "markdown",
   "metadata": {},
   "source": [
    "### Problem 6: Sum Square Difference"
   ]
  },
  {
   "cell_type": "code",
   "execution_count": 10,
   "metadata": {},
   "outputs": [
    {
     "name": "stdout",
     "output_type": "stream",
     "text": [
      "25164150\n"
     ]
    }
   ],
   "source": [
    "# (1 + ... + 100)^2 - (1^2 + ... + 100^2) = 2 * sum(i * j), where i < j [squares cancel]\n",
    "sum_square_diff = 0\n",
    "for j in range(2,101):\n",
    "    for i in range(1,j):\n",
    "        sum_square_diff = sum_square_diff + i*j\n",
    "\n",
    "print(2*sum_square_diff)"
   ]
  },
  {
   "cell_type": "markdown",
   "metadata": {},
   "source": [
    "### Problem 7: 10001st Prime"
   ]
  },
  {
   "cell_type": "code",
   "execution_count": 11,
   "metadata": {},
   "outputs": [
    {
     "data": {
      "text/plain": [
       "104743"
      ]
     },
     "execution_count": 11,
     "metadata": {},
     "output_type": "execute_result"
    }
   ],
   "source": [
    "prime_list = [2]\n",
    "n = 3\n",
    "while len(prime_list) < 10001:\n",
    "    if is_prime(n):\n",
    "        prime_list.append(n)\n",
    "    n += 2\n",
    "    \n",
    "prime_list[-1]"
   ]
  },
  {
   "cell_type": "code",
   "execution_count": 12,
   "metadata": {},
   "outputs": [],
   "source": [
    "# prime_list"
   ]
  },
  {
   "cell_type": "markdown",
   "metadata": {},
   "source": [
    "### Problem 8: Largest Product in a Series"
   ]
  },
  {
   "cell_type": "code",
   "execution_count": 13,
   "metadata": {},
   "outputs": [
    {
     "data": {
      "text/plain": [
       "23514624000"
      ]
     },
     "execution_count": 13,
     "metadata": {},
     "output_type": "execute_result"
    }
   ],
   "source": [
    "series = 7316717653133062491922511967442657474235534919493496983520312774506326239578318016984801869478851843858615607891129494954595017379583319528532088055111254069874715852386305071569329096329522744304355766896648950445244523161731856403098711121722383113622298934233803081353362766142828064444866452387493035890729629049156044077239071381051585930796086670172427121883998797908792274921901699720888093776657273330010533678812202354218097512545405947522435258490771167055601360483958644670632441572215539753697817977846174064955149290862569321978468622482839722413756570560574902614079729686524145351004748216637048440319989000889524345065854122758866688116427171479924442928230863465674813919123162824586178664583591245665294765456828489128831426076900422421902267105562632111110937054421750694165896040807198403850962455444362981230987879927244284909188845801561660979191338754992005240636899125607176060588611646710940507754100225698315520005593572972571636269561882670428252483600823257530420752963450\n",
    "series_string = str(series)\n",
    "i = 0\n",
    "largest_product = 0\n",
    "\n",
    "while i < (len(series_string) - 12):\n",
    "    \n",
    "    def thirteen_product(i): #takes in index and returns product of next 13 numbers\n",
    "        product = int(series_string[i])\n",
    "        for j in range(1,13):\n",
    "            product = product * int(series_string[i+j])\n",
    "        return product\n",
    "    \n",
    "    if thirteen_product(i) > largest_product:\n",
    "        largest_product = thirteen_product(i)\n",
    "        \n",
    "    i += 1\n",
    "    \n",
    "largest_product"
   ]
  },
  {
   "cell_type": "markdown",
   "metadata": {},
   "source": [
    "### Problem 9: Special Pythagorean Triplet"
   ]
  },
  {
   "cell_type": "code",
   "execution_count": 14,
   "metadata": {},
   "outputs": [
    {
     "name": "stdout",
     "output_type": "stream",
     "text": [
      "375\n",
      "200\n",
      "425\n",
      "31875000\n"
     ]
    }
   ],
   "source": [
    "def is_pythagoras(a,b,c):\n",
    "    return (a**2 + b**2) == c**2\n",
    "\n",
    "for c in range(334, 501):\n",
    "    for b in range(1, c):\n",
    "        a = 1000 - b - c\n",
    "        if is_pythagoras(a, b, c):\n",
    "            print(a)\n",
    "            print(b)\n",
    "            print(c)\n",
    "            print(a*b*c)\n",
    "            break"
   ]
  },
  {
   "cell_type": "markdown",
   "metadata": {},
   "source": [
    "### Problem 10: Summation of Primes"
   ]
  },
  {
   "cell_type": "code",
   "execution_count": 15,
   "metadata": {},
   "outputs": [
    {
     "data": {
      "text/plain": [
       "142913828922"
      ]
     },
     "execution_count": 15,
     "metadata": {},
     "output_type": "execute_result"
    }
   ],
   "source": [
    "prime_sum = 2\n",
    "n = 3\n",
    "while n < 2000000:\n",
    "    if is_prime(n):\n",
    "        prime_sum = prime_sum + n\n",
    "    n += 2\n",
    "prime_sum"
   ]
  },
  {
   "cell_type": "markdown",
   "metadata": {},
   "source": [
    "### Problem 11: Largest Product in a Grid"
   ]
  },
  {
   "cell_type": "code",
   "execution_count": 16,
   "metadata": {},
   "outputs": [],
   "source": [
    "grid = \"\"\"\n",
    "08 02 22 97 38 15 00 40 00 75 04 05 07 78 52 12 50 77 91 08\n",
    "49 49 99 40 17 81 18 57 60 87 17 40 98 43 69 48 04 56 62 00\n",
    "81 49 31 73 55 79 14 29 93 71 40 67 53 88 30 03 49 13 36 65\n",
    "52 70 95 23 04 60 11 42 69 24 68 56 01 32 56 71 37 02 36 91\n",
    "22 31 16 71 51 67 63 89 41 92 36 54 22 40 40 28 66 33 13 80\n",
    "24 47 32 60 99 03 45 02 44 75 33 53 78 36 84 20 35 17 12 50\n",
    "32 98 81 28 64 23 67 10 26 38 40 67 59 54 70 66 18 38 64 70\n",
    "67 26 20 68 02 62 12 20 95 63 94 39 63 08 40 91 66 49 94 21\n",
    "24 55 58 05 66 73 99 26 97 17 78 78 96 83 14 88 34 89 63 72\n",
    "21 36 23 09 75 00 76 44 20 45 35 14 00 61 33 97 34 31 33 95\n",
    "78 17 53 28 22 75 31 67 15 94 03 80 04 62 16 14 09 53 56 92\n",
    "16 39 05 42 96 35 31 47 55 58 88 24 00 17 54 24 36 29 85 57\n",
    "86 56 00 48 35 71 89 07 05 44 44 37 44 60 21 58 51 54 17 58\n",
    "19 80 81 68 05 94 47 69 28 73 92 13 86 52 17 77 04 89 55 40\n",
    "04 52 08 83 97 35 99 16 07 97 57 32 16 26 26 79 33 27 98 66\n",
    "88 36 68 87 57 62 20 72 03 46 33 67 46 55 12 32 63 93 53 69\n",
    "04 42 16 73 38 25 39 11 24 94 72 18 08 46 29 32 40 62 76 36\n",
    "20 69 36 41 72 30 23 88 34 62 99 69 82 67 59 85 74 04 36 16\n",
    "20 73 35 29 78 31 90 01 74 31 49 71 48 86 81 16 23 57 05 54\n",
    "01 70 54 71 83 51 54 69 16 92 33 48 61 43 52 01 89 19 67 48\n",
    "\"\"\""
   ]
  },
  {
   "cell_type": "code",
   "execution_count": 17,
   "metadata": {},
   "outputs": [
    {
     "name": "stdout",
     "output_type": "stream",
     "text": [
      "\n",
      "08 02 22 97 38 15 00 40 00 75 04 05 07 78 52 12 50 77 91 08\n",
      "49 49 99 40 17 81 18 57 60 87 17 40 98 43 69 48 04 56 62 00\n",
      "81 49 31 73 55 79 14 29 93 71 40 67 53 88 30 03 49 13 36 65\n",
      "52 70 95 23 04 60 11 42 69 24 68 56 01 32 56 71 37 02 36 91\n",
      "22 31 16 71 51 67 63 89 41 92 36 54 22 40 40 28 66 33 13 80\n",
      "24 47 32 60 99 03 45 02 44 75 33 53 78 36 84 20 35 17 12 50\n",
      "32 98 81 28 64 23 67 10 26 38 40 67 59 54 70 66 18 38 64 70\n",
      "67 26 20 68 02 62 12 20 95 63 94 39 63 08 40 91 66 49 94 21\n",
      "24 55 58 05 66 73 99 26 97 17 78 78 96 83 14 88 34 89 63 72\n",
      "21 36 23 09 75 00 76 44 20 45 35 14 00 61 33 97 34 31 33 95\n",
      "78 17 53 28 22 75 31 67 15 94 03 80 04 62 16 14 09 53 56 92\n",
      "16 39 05 42 96 35 31 47 55 58 88 24 00 17 54 24 36 29 85 57\n",
      "86 56 00 48 35 71 89 07 05 44 44 37 44 60 21 58 51 54 17 58\n",
      "19 80 81 68 05 94 47 69 28 73 92 13 86 52 17 77 04 89 55 40\n",
      "04 52 08 83 97 35 99 16 07 97 57 32 16 26 26 79 33 27 98 66\n",
      "88 36 68 87 57 62 20 72 03 46 33 67 46 55 12 32 63 93 53 69\n",
      "04 42 16 73 38 25 39 11 24 94 72 18 08 46 29 32 40 62 76 36\n",
      "20 69 36 41 72 30 23 88 34 62 99 69 82 67 59 85 74 04 36 16\n",
      "20 73 35 29 78 31 90 01 74 31 49 71 48 86 81 16 23 57 05 54\n",
      "01 70 54 71 83 51 54 69 16 92 33 48 61 43 52 01 89 19 67 48\n",
      "\n"
     ]
    }
   ],
   "source": [
    "print(grid)"
   ]
  },
  {
   "cell_type": "code",
   "execution_count": 24,
   "metadata": {},
   "outputs": [
    {
     "data": {
      "text/plain": [
       "['08',\n",
       " '02',\n",
       " '22',\n",
       " '97',\n",
       " '38',\n",
       " '15',\n",
       " '00',\n",
       " '40',\n",
       " '00',\n",
       " '75',\n",
       " '04',\n",
       " '05',\n",
       " '07',\n",
       " '78',\n",
       " '52',\n",
       " '12',\n",
       " '50',\n",
       " '77',\n",
       " '91',\n",
       " '08',\n",
       " '49',\n",
       " '49',\n",
       " '99',\n",
       " '40',\n",
       " '17',\n",
       " '81',\n",
       " '18',\n",
       " '57',\n",
       " '60',\n",
       " '87',\n",
       " '17',\n",
       " '40',\n",
       " '98',\n",
       " '43',\n",
       " '69',\n",
       " '48',\n",
       " '04',\n",
       " '56',\n",
       " '62',\n",
       " '00',\n",
       " '81',\n",
       " '49',\n",
       " '31',\n",
       " '73',\n",
       " '55',\n",
       " '79',\n",
       " '14',\n",
       " '29',\n",
       " '93',\n",
       " '71',\n",
       " '40',\n",
       " '67',\n",
       " '53',\n",
       " '88',\n",
       " '30',\n",
       " '03',\n",
       " '49',\n",
       " '13',\n",
       " '36',\n",
       " '65',\n",
       " '52',\n",
       " '70',\n",
       " '95',\n",
       " '23',\n",
       " '04',\n",
       " '60',\n",
       " '11',\n",
       " '42',\n",
       " '69',\n",
       " '24',\n",
       " '68',\n",
       " '56',\n",
       " '01',\n",
       " '32',\n",
       " '56',\n",
       " '71',\n",
       " '37',\n",
       " '02',\n",
       " '36',\n",
       " '91',\n",
       " '22',\n",
       " '31',\n",
       " '16',\n",
       " '71',\n",
       " '51',\n",
       " '67',\n",
       " '63',\n",
       " '89',\n",
       " '41',\n",
       " '92',\n",
       " '36',\n",
       " '54',\n",
       " '22',\n",
       " '40',\n",
       " '40',\n",
       " '28',\n",
       " '66',\n",
       " '33',\n",
       " '13',\n",
       " '80',\n",
       " '24',\n",
       " '47',\n",
       " '32',\n",
       " '60',\n",
       " '99',\n",
       " '03',\n",
       " '45',\n",
       " '02',\n",
       " '44',\n",
       " '75',\n",
       " '33',\n",
       " '53',\n",
       " '78',\n",
       " '36',\n",
       " '84',\n",
       " '20',\n",
       " '35',\n",
       " '17',\n",
       " '12',\n",
       " '50',\n",
       " '32',\n",
       " '98',\n",
       " '81',\n",
       " '28',\n",
       " '64',\n",
       " '23',\n",
       " '67',\n",
       " '10',\n",
       " '26',\n",
       " '38',\n",
       " '40',\n",
       " '67',\n",
       " '59',\n",
       " '54',\n",
       " '70',\n",
       " '66',\n",
       " '18',\n",
       " '38',\n",
       " '64',\n",
       " '70',\n",
       " '67',\n",
       " '26',\n",
       " '20',\n",
       " '68',\n",
       " '02',\n",
       " '62',\n",
       " '12',\n",
       " '20',\n",
       " '95',\n",
       " '63',\n",
       " '94',\n",
       " '39',\n",
       " '63',\n",
       " '08',\n",
       " '40',\n",
       " '91',\n",
       " '66',\n",
       " '49',\n",
       " '94',\n",
       " '21',\n",
       " '24',\n",
       " '55',\n",
       " '58',\n",
       " '05',\n",
       " '66',\n",
       " '73',\n",
       " '99',\n",
       " '26',\n",
       " '97',\n",
       " '17',\n",
       " '78',\n",
       " '78',\n",
       " '96',\n",
       " '83',\n",
       " '14',\n",
       " '88',\n",
       " '34',\n",
       " '89',\n",
       " '63',\n",
       " '72',\n",
       " '21',\n",
       " '36',\n",
       " '23',\n",
       " '09',\n",
       " '75',\n",
       " '00',\n",
       " '76',\n",
       " '44',\n",
       " '20',\n",
       " '45',\n",
       " '35',\n",
       " '14',\n",
       " '00',\n",
       " '61',\n",
       " '33',\n",
       " '97',\n",
       " '34',\n",
       " '31',\n",
       " '33',\n",
       " '95',\n",
       " '78',\n",
       " '17',\n",
       " '53',\n",
       " '28',\n",
       " '22',\n",
       " '75',\n",
       " '31',\n",
       " '67',\n",
       " '15',\n",
       " '94',\n",
       " '03',\n",
       " '80',\n",
       " '04',\n",
       " '62',\n",
       " '16',\n",
       " '14',\n",
       " '09',\n",
       " '53',\n",
       " '56',\n",
       " '92',\n",
       " '16',\n",
       " '39',\n",
       " '05',\n",
       " '42',\n",
       " '96',\n",
       " '35',\n",
       " '31',\n",
       " '47',\n",
       " '55',\n",
       " '58',\n",
       " '88',\n",
       " '24',\n",
       " '00',\n",
       " '17',\n",
       " '54',\n",
       " '24',\n",
       " '36',\n",
       " '29',\n",
       " '85',\n",
       " '57',\n",
       " '86',\n",
       " '56',\n",
       " '00',\n",
       " '48',\n",
       " '35',\n",
       " '71',\n",
       " '89',\n",
       " '07',\n",
       " '05',\n",
       " '44',\n",
       " '44',\n",
       " '37',\n",
       " '44',\n",
       " '60',\n",
       " '21',\n",
       " '58',\n",
       " '51',\n",
       " '54',\n",
       " '17',\n",
       " '58',\n",
       " '19',\n",
       " '80',\n",
       " '81',\n",
       " '68',\n",
       " '05',\n",
       " '94',\n",
       " '47',\n",
       " '69',\n",
       " '28',\n",
       " '73',\n",
       " '92',\n",
       " '13',\n",
       " '86',\n",
       " '52',\n",
       " '17',\n",
       " '77',\n",
       " '04',\n",
       " '89',\n",
       " '55',\n",
       " '40',\n",
       " '04',\n",
       " '52',\n",
       " '08',\n",
       " '83',\n",
       " '97',\n",
       " '35',\n",
       " '99',\n",
       " '16',\n",
       " '07',\n",
       " '97',\n",
       " '57',\n",
       " '32',\n",
       " '16',\n",
       " '26',\n",
       " '26',\n",
       " '79',\n",
       " '33',\n",
       " '27',\n",
       " '98',\n",
       " '66',\n",
       " '88',\n",
       " '36',\n",
       " '68',\n",
       " '87',\n",
       " '57',\n",
       " '62',\n",
       " '20',\n",
       " '72',\n",
       " '03',\n",
       " '46',\n",
       " '33',\n",
       " '67',\n",
       " '46',\n",
       " '55',\n",
       " '12',\n",
       " '32',\n",
       " '63',\n",
       " '93',\n",
       " '53',\n",
       " '69',\n",
       " '04',\n",
       " '42',\n",
       " '16',\n",
       " '73',\n",
       " '38',\n",
       " '25',\n",
       " '39',\n",
       " '11',\n",
       " '24',\n",
       " '94',\n",
       " '72',\n",
       " '18',\n",
       " '08',\n",
       " '46',\n",
       " '29',\n",
       " '32',\n",
       " '40',\n",
       " '62',\n",
       " '76',\n",
       " '36',\n",
       " '20',\n",
       " '69',\n",
       " '36',\n",
       " '41',\n",
       " '72',\n",
       " '30',\n",
       " '23',\n",
       " '88',\n",
       " '34',\n",
       " '62',\n",
       " '99',\n",
       " '69',\n",
       " '82',\n",
       " '67',\n",
       " '59',\n",
       " '85',\n",
       " '74',\n",
       " '04',\n",
       " '36',\n",
       " '16',\n",
       " '20',\n",
       " '73',\n",
       " '35',\n",
       " '29',\n",
       " '78',\n",
       " '31',\n",
       " '90',\n",
       " '01',\n",
       " '74',\n",
       " '31',\n",
       " '49',\n",
       " '71',\n",
       " '48',\n",
       " '86',\n",
       " '81',\n",
       " '16',\n",
       " '23',\n",
       " '57',\n",
       " '05',\n",
       " '54',\n",
       " '01',\n",
       " '70',\n",
       " '54',\n",
       " '71',\n",
       " '83',\n",
       " '51',\n",
       " '54',\n",
       " '69',\n",
       " '16',\n",
       " '92',\n",
       " '33',\n",
       " '48',\n",
       " '61',\n",
       " '43',\n",
       " '52',\n",
       " '01',\n",
       " '89',\n",
       " '19',\n",
       " '67',\n",
       " '48']"
      ]
     },
     "execution_count": 24,
     "metadata": {},
     "output_type": "execute_result"
    }
   ],
   "source": [
    "grid.split()"
   ]
  },
  {
   "cell_type": "markdown",
   "metadata": {},
   "source": [
    "Answer is 87 * 97 * 94 * 89 = 70,600,674 which is a bottom left to top right diagonal in the bottom right corner. (I just spotted it)"
   ]
  },
  {
   "cell_type": "markdown",
   "metadata": {},
   "source": [
    "Here is my programmatic attempt:"
   ]
  },
  {
   "cell_type": "code",
   "execution_count": 71,
   "metadata": {},
   "outputs": [],
   "source": [
    "def calculate_largest_n_product(grid=grid, n=4):\n",
    "    \n",
    "    # Initialize\n",
    "    max_product = 0\n",
    "    grid_size = len(grid.split()) ** 0.5 # we'll assume a square - so it's grid_size by grid_size\n",
    "    \n",
    "    \n",
    "    # Helper function - will calculate max product for an array of numbers- assuming array is ordered\n",
    "    # Note: array is actually a list. Just using mathematical terminology.\n",
    "    def calculate_array_max_product(array):\n",
    "        # Initialize\n",
    "        max_array_product=0\n",
    "        j=0\n",
    "        array_size=len(array)\n",
    "        \n",
    "        # Iterate through array\n",
    "        while j < (array_size - n + 1):\n",
    "            #print('j,', j)\n",
    "            k=0\n",
    "            array_product=1\n",
    "            \n",
    "            # Iterate through next n items and calculate the product\n",
    "            while k < n:\n",
    "                #print('k,', k)\n",
    "                array_product=array_product * int(array[j+k])\n",
    "                k+=1\n",
    "            #print('Array product', array_product)\n",
    "            \n",
    "            # Compare to max_array_product\n",
    "            if array_product > max_array_product:\n",
    "                max_array_product = array_product\n",
    "                #print('New max array product', max_array_product)\n",
    "                \n",
    "            # Continue\n",
    "            j+=1\n",
    "        \n",
    "        # Return max_array_product\n",
    "        return max_array_product\n",
    "    \n",
    "    \n",
    "    # Iterate through each row and see if row_max_product is higher than max_product\n",
    "    for row in grid.split('\\n'):\n",
    "        if row=='':\n",
    "            continue\n",
    "        else:\n",
    "            new_product = calculate_array_max_product(row.split(' '))\n",
    "            #print('New product', new_product)\n",
    "            if new_product > max_product:\n",
    "                max_product = new_product\n",
    "                #print('New max product', max_product)\n",
    "                \n",
    "    # Iterate through each column\n",
    "    \n",
    "    \n",
    "    # Iterate through each diagonal\n",
    "    # This one is tricky. Think it's better if I store grid as some kind of matrix.\n",
    "    # May return to later...\n",
    "                \n",
    "    \n",
    "    return max_product       \n",
    "    "
   ]
  },
  {
   "cell_type": "code",
   "execution_count": 72,
   "metadata": {
    "scrolled": true
   },
   "outputs": [
    {
     "data": {
      "text/plain": [
       "48477312"
      ]
     },
     "execution_count": 72,
     "metadata": {},
     "output_type": "execute_result"
    }
   ],
   "source": [
    "calculate_largest_n_product(grid,n=4)"
   ]
  },
  {
   "cell_type": "code",
   "execution_count": 73,
   "metadata": {},
   "outputs": [],
   "source": [
    "# grid"
   ]
  },
  {
   "cell_type": "code",
   "execution_count": 74,
   "metadata": {},
   "outputs": [],
   "source": [
    "# grid.split('\\n')[1].split(' ')"
   ]
  },
  {
   "cell_type": "code",
   "execution_count": 25,
   "metadata": {},
   "outputs": [
    {
     "data": {
      "text/plain": [
       "20.0"
      ]
     },
     "execution_count": 25,
     "metadata": {},
     "output_type": "execute_result"
    }
   ],
   "source": [
    "len(grid.split()) ** 0.5"
   ]
  },
  {
   "cell_type": "markdown",
   "metadata": {},
   "source": [
    "### Problem 13: Large Sum"
   ]
  },
  {
   "cell_type": "code",
   "execution_count": 19,
   "metadata": {},
   "outputs": [],
   "source": [
    "large_nums = \"\"\"\n",
    "37107287533902102798797998220837590246510135740250\n",
    "46376937677490009712648124896970078050417018260538\n",
    "74324986199524741059474233309513058123726617309629\n",
    "91942213363574161572522430563301811072406154908250\n",
    "23067588207539346171171980310421047513778063246676\n",
    "89261670696623633820136378418383684178734361726757\n",
    "28112879812849979408065481931592621691275889832738\n",
    "44274228917432520321923589422876796487670272189318\n",
    "47451445736001306439091167216856844588711603153276\n",
    "70386486105843025439939619828917593665686757934951\n",
    "62176457141856560629502157223196586755079324193331\n",
    "64906352462741904929101432445813822663347944758178\n",
    "92575867718337217661963751590579239728245598838407\n",
    "58203565325359399008402633568948830189458628227828\n",
    "80181199384826282014278194139940567587151170094390\n",
    "35398664372827112653829987240784473053190104293586\n",
    "86515506006295864861532075273371959191420517255829\n",
    "71693888707715466499115593487603532921714970056938\n",
    "54370070576826684624621495650076471787294438377604\n",
    "53282654108756828443191190634694037855217779295145\n",
    "36123272525000296071075082563815656710885258350721\n",
    "45876576172410976447339110607218265236877223636045\n",
    "17423706905851860660448207621209813287860733969412\n",
    "81142660418086830619328460811191061556940512689692\n",
    "51934325451728388641918047049293215058642563049483\n",
    "62467221648435076201727918039944693004732956340691\n",
    "15732444386908125794514089057706229429197107928209\n",
    "55037687525678773091862540744969844508330393682126\n",
    "18336384825330154686196124348767681297534375946515\n",
    "80386287592878490201521685554828717201219257766954\n",
    "78182833757993103614740356856449095527097864797581\n",
    "16726320100436897842553539920931837441497806860984\n",
    "48403098129077791799088218795327364475675590848030\n",
    "87086987551392711854517078544161852424320693150332\n",
    "59959406895756536782107074926966537676326235447210\n",
    "69793950679652694742597709739166693763042633987085\n",
    "41052684708299085211399427365734116182760315001271\n",
    "65378607361501080857009149939512557028198746004375\n",
    "35829035317434717326932123578154982629742552737307\n",
    "94953759765105305946966067683156574377167401875275\n",
    "88902802571733229619176668713819931811048770190271\n",
    "25267680276078003013678680992525463401061632866526\n",
    "36270218540497705585629946580636237993140746255962\n",
    "24074486908231174977792365466257246923322810917141\n",
    "91430288197103288597806669760892938638285025333403\n",
    "34413065578016127815921815005561868836468420090470\n",
    "23053081172816430487623791969842487255036638784583\n",
    "11487696932154902810424020138335124462181441773470\n",
    "63783299490636259666498587618221225225512486764533\n",
    "67720186971698544312419572409913959008952310058822\n",
    "95548255300263520781532296796249481641953868218774\n",
    "76085327132285723110424803456124867697064507995236\n",
    "37774242535411291684276865538926205024910326572967\n",
    "23701913275725675285653248258265463092207058596522\n",
    "29798860272258331913126375147341994889534765745501\n",
    "18495701454879288984856827726077713721403798879715\n",
    "38298203783031473527721580348144513491373226651381\n",
    "34829543829199918180278916522431027392251122869539\n",
    "40957953066405232632538044100059654939159879593635\n",
    "29746152185502371307642255121183693803580388584903\n",
    "41698116222072977186158236678424689157993532961922\n",
    "62467957194401269043877107275048102390895523597457\n",
    "23189706772547915061505504953922979530901129967519\n",
    "86188088225875314529584099251203829009407770775672\n",
    "11306739708304724483816533873502340845647058077308\n",
    "82959174767140363198008187129011875491310547126581\n",
    "97623331044818386269515456334926366572897563400500\n",
    "42846280183517070527831839425882145521227251250327\n",
    "55121603546981200581762165212827652751691296897789\n",
    "32238195734329339946437501907836945765883352399886\n",
    "75506164965184775180738168837861091527357929701337\n",
    "62177842752192623401942399639168044983993173312731\n",
    "32924185707147349566916674687634660915035914677504\n",
    "99518671430235219628894890102423325116913619626622\n",
    "73267460800591547471830798392868535206946944540724\n",
    "76841822524674417161514036427982273348055556214818\n",
    "97142617910342598647204516893989422179826088076852\n",
    "87783646182799346313767754307809363333018982642090\n",
    "10848802521674670883215120185883543223812876952786\n",
    "71329612474782464538636993009049310363619763878039\n",
    "62184073572399794223406235393808339651327408011116\n",
    "66627891981488087797941876876144230030984490851411\n",
    "60661826293682836764744779239180335110989069790714\n",
    "85786944089552990653640447425576083659976645795096\n",
    "66024396409905389607120198219976047599490197230297\n",
    "64913982680032973156037120041377903785566085089252\n",
    "16730939319872750275468906903707539413042652315011\n",
    "94809377245048795150954100921645863754710598436791\n",
    "78639167021187492431995700641917969777599028300699\n",
    "15368713711936614952811305876380278410754449733078\n",
    "40789923115535562561142322423255033685442488917353\n",
    "44889911501440648020369068063960672322193204149535\n",
    "41503128880339536053299340368006977710650566631954\n",
    "81234880673210146739058568557934581403627822703280\n",
    "82616570773948327592232845941706525094512325230608\n",
    "22918802058777319719839450180888072429661980811197\n",
    "77158542502016545090413245809786882778948721859617\n",
    "72107838435069186155435662884062257473692284509516\n",
    "20849603980134001723930671666823555245252804609722\n",
    "53503534226472524250874054075591789781264330331690\n",
    "\"\"\""
   ]
  },
  {
   "cell_type": "code",
   "execution_count": 20,
   "metadata": {
    "scrolled": true
   },
   "outputs": [
    {
     "name": "stdout",
     "output_type": "stream",
     "text": [
      "100\n"
     ]
    }
   ],
   "source": [
    "large_nums_list = large_nums.split('\\n')\n",
    "large_nums_list.remove('') # first\n",
    "large_nums_list.remove('') # last\n",
    "#large_nums_list\n",
    "print(len(large_nums_list))"
   ]
  },
  {
   "cell_type": "code",
   "execution_count": 21,
   "metadata": {},
   "outputs": [
    {
     "name": "stdout",
     "output_type": "stream",
     "text": [
      "5537376230390876637302048746832985971773659831892672\n"
     ]
    }
   ],
   "source": [
    "large_sum=0\n",
    "i=0\n",
    "\n",
    "while i<100:\n",
    "    large_sum = large_sum + int(large_nums_list[i])\n",
    "    i+=1\n",
    "    \n",
    "print(large_sum)"
   ]
  },
  {
   "cell_type": "code",
   "execution_count": 22,
   "metadata": {},
   "outputs": [
    {
     "name": "stdout",
     "output_type": "stream",
     "text": [
      "5537376230\n"
     ]
    }
   ],
   "source": [
    "print(str(large_sum)[0:10])"
   ]
  },
  {
   "cell_type": "markdown",
   "metadata": {},
   "source": [
    "### Problem 34: Digit Factorials"
   ]
  },
  {
   "cell_type": "code",
   "execution_count": 85,
   "metadata": {},
   "outputs": [],
   "source": [
    "# Returns a boolean. Name should explain function.\n",
    "# i.e. 145 -> 1! + 4! + 5! = 1 + 24 + 120 = 145 -> return True\n",
    "def check_number_equal_to_sum_of_factorial_of_digits(x):\n",
    "    digit_list = [int(digit) for digit in str(x)]\n",
    "    factorial_of_digits_list = [math.factorial(digit) for digit in digit_list]\n",
    "    digit_factorial_sum = sum(factorial_of_digits_list)\n",
    "    return digit_factorial_sum==x"
   ]
  },
  {
   "cell_type": "code",
   "execution_count": 88,
   "metadata": {},
   "outputs": [
    {
     "name": "stdout",
     "output_type": "stream",
     "text": [
      "True\n",
      "False\n"
     ]
    }
   ],
   "source": [
    "print(check_number_equal_to_sum_of_factorial_of_digits(145))\n",
    "print(check_number_equal_to_sum_of_factorial_of_digits(20))"
   ]
  },
  {
   "cell_type": "markdown",
   "metadata": {},
   "source": [
    "Going to loop through some numbers because Python is fast. Is there an efficient way to do this?"
   ]
  },
  {
   "cell_type": "code",
   "execution_count": 92,
   "metadata": {},
   "outputs": [
    {
     "name": "stdout",
     "output_type": "stream",
     "text": [
      "145\n",
      "40585\n"
     ]
    }
   ],
   "source": [
    "i=10 # starting in double digits because single digits cannot be a \"sum\" of their digits\n",
    "while i < 9999999:\n",
    "    if check_number_equal_to_sum_of_factorial_of_digits(i):\n",
    "        print(i)\n",
    "    i+=1"
   ]
  },
  {
   "cell_type": "markdown",
   "metadata": {},
   "source": [
    "Note: should really determine an upper bound mathematically, but through experimentation, there only seems to be 2 of these numbers."
   ]
  },
  {
   "cell_type": "markdown",
   "metadata": {},
   "source": [
    "Here's an easy one: 9,999,999 (since max factorial sum would be 7 * 9! = 2,540,160 < 9,999,999)"
   ]
  },
  {
   "cell_type": "markdown",
   "metadata": {},
   "source": [
    "### Problem 61: Cyclical Figurate Numbers"
   ]
  },
  {
   "cell_type": "markdown",
   "metadata": {},
   "source": [
    "Let Px,n represent the nth figurate number of degree x."
   ]
  },
  {
   "cell_type": "markdown",
   "metadata": {},
   "source": [
    "i.e. P3,127 = 8128 would be the 127th figurate number of degree 3 (aka a triangle figurate number)"
   ]
  },
  {
   "cell_type": "markdown",
   "metadata": {},
   "source": [
    "Some quick algebra shows that the lowest n to generate a 4 digit figurate number if x can only be one of 3,4,5,6,7,8 is 19 (x=8). The highest n would be 140 (x=3). This establishes some bounds."
   ]
  },
  {
   "cell_type": "code",
   "execution_count": 93,
   "metadata": {},
   "outputs": [],
   "source": [
    "# This function will calculate Px,n\n",
    "def calculate_Pxn(x,n):\n",
    "    if x==3:\n",
    "        return n*(n+1)/2\n",
    "    elif x==4:\n",
    "        return n**2\n",
    "    elif x==5:\n",
    "        return n*(3*n-1)/2\n",
    "    elif x==6:\n",
    "        return n*(2*n-1)\n",
    "    elif x==7:\n",
    "        return n*(5*n-3)/2\n",
    "    elif x==8:\n",
    "        return n*(3*n-2)\n",
    "    else:\n",
    "        return 'Incorrect x value'"
   ]
  },
  {
   "cell_type": "code",
   "execution_count": 94,
   "metadata": {},
   "outputs": [
    {
     "name": "stdout",
     "output_type": "stream",
     "text": [
      "15.0\n",
      "25\n",
      "35.0\n",
      "45\n",
      "55.0\n",
      "65\n"
     ]
    }
   ],
   "source": [
    "print(calculate_Pxn(3,5))\n",
    "print(calculate_Pxn(4,5))\n",
    "print(calculate_Pxn(5,5))\n",
    "print(calculate_Pxn(6,5))\n",
    "print(calculate_Pxn(7,5))\n",
    "print(calculate_Pxn(8,5))"
   ]
  },
  {
   "cell_type": "code",
   "execution_count": 95,
   "metadata": {},
   "outputs": [
    {
     "name": "stdout",
     "output_type": "stream",
     "text": [
      "8128.0\n",
      "8281\n",
      "2882.0\n"
     ]
    }
   ],
   "source": [
    "print(calculate_Pxn(3,127))\n",
    "print(calculate_Pxn(4,91))\n",
    "print(calculate_Pxn(5,44))"
   ]
  },
  {
   "cell_type": "code",
   "execution_count": 123,
   "metadata": {},
   "outputs": [],
   "source": [
    "# This function will generate a list of all 4 digit figurate numbers for a specified n, \n",
    "# where n can be one of [3,4,5,6,7,8]\n",
    "# This should hopefully give me an idea on the scope of the problem.\n",
    "\n",
    "# Update: we can thin this a bit further. Since each number needs to be in a cyclic series of 4 digit numbers,\n",
    "# meaning its last two digits are the first two of another number, this means the third digit cannot be 0.\n",
    "# (4 digit number cannot start with 0 - at least I hope we're not including that)\n",
    "def generate_four_digit_figurate_numbers(x):\n",
    "    figurate_number_list = []\n",
    "    for n in range(19, 141):\n",
    "        figurate_number=int(calculate_Pxn(x,n))\n",
    "        if len(str(figurate_number))!=4: # number must be 4 digits\n",
    "            continue\n",
    "        elif str(figurate_number)[2]=='0': # number must be cyclic\n",
    "            continue\n",
    "        else:\n",
    "            figurate_number_list.append(figurate_number)\n",
    "    return figurate_number_list"
   ]
  },
  {
   "cell_type": "code",
   "execution_count": 124,
   "metadata": {
    "scrolled": true
   },
   "outputs": [
    {
     "name": "stdout",
     "output_type": "stream",
     "text": [
      "88\n",
      "53\n",
      "47\n",
      "44\n",
      "40\n",
      "30\n"
     ]
    }
   ],
   "source": [
    "for x in range(3,9):\n",
    "    print(len(generate_four_digit_figurate_numbers(x)))"
   ]
  },
  {
   "cell_type": "code",
   "execution_count": 126,
   "metadata": {
    "scrolled": true
   },
   "outputs": [],
   "source": [
    "# generate_four_digit_figurate_numbers(8)"
   ]
  },
  {
   "cell_type": "code",
   "execution_count": 131,
   "metadata": {},
   "outputs": [],
   "source": [
    "# Function will check if ordered sequence of numbers is cyclic\n",
    "# Pass in sequence as list\n",
    "def check_if_sequence_is_cyclic(sequence):\n",
    "    sequence = [str(x) for x in sequence] # convert to string\n",
    "    \n",
    "    # We'll first check that the last 2 digits of last number equal first 2 of first\n",
    "    if sequence[0][0:2] != sequence[-1][2:4]:\n",
    "        outcome=False\n",
    "    else:\n",
    "        outcome=True\n",
    "        for i in range(0,len(sequence)-1):\n",
    "            if sequence[i][2:4]!=sequence[i+1][0:2]:\n",
    "                outcome=False\n",
    "                break\n",
    "            else:\n",
    "                continue\n",
    "    return outcome"
   ]
  },
  {
   "cell_type": "code",
   "execution_count": 134,
   "metadata": {},
   "outputs": [
    {
     "name": "stdout",
     "output_type": "stream",
     "text": [
      "True\n",
      "False\n",
      "False\n"
     ]
    }
   ],
   "source": [
    "print(check_if_sequence_is_cyclic([8128,2882,8281]))\n",
    "print(check_if_sequence_is_cyclic([1283,8382,8256,5617,1781]))\n",
    "print(check_if_sequence_is_cyclic([1283,8382,8256,5512]))"
   ]
  },
  {
   "cell_type": "markdown",
   "metadata": {},
   "source": [
    "Let's start building the sequence."
   ]
  },
  {
   "cell_type": "markdown",
   "metadata": {},
   "source": [
    "We'll start with the first two terms."
   ]
  },
  {
   "cell_type": "markdown",
   "metadata": {},
   "source": [
    "WLOG, we can assume the sequence starts with a term of degree 8"
   ]
  },
  {
   "cell_type": "markdown",
   "metadata": {},
   "source": [
    "We'll call a pair semi-cyclic if it's in format abcd-cdef."
   ]
  },
  {
   "cell_type": "code",
   "execution_count": 144,
   "metadata": {},
   "outputs": [
    {
     "name": "stdout",
     "output_type": "stream",
     "text": [
      "88\n"
     ]
    }
   ],
   "source": [
    "list_of_semi_cyclic_pairs=[]\n",
    "for x8 in generate_four_digit_figurate_numbers(8):\n",
    "    for n in [3,4,5,6,7]:\n",
    "        for item in generate_four_digit_figurate_numbers(n):\n",
    "            if str(x8)[2:4] == str(item)[0:2]:\n",
    "                list_of_semi_cyclic_pairs.append(([x8,item],[8,n]))   #{x8:8,item:n}\n",
    "print(len(list_of_semi_cyclic_pairs))"
   ]
  },
  {
   "cell_type": "code",
   "execution_count": 151,
   "metadata": {
    "scrolled": true
   },
   "outputs": [
    {
     "data": {
      "text/plain": [
       "[([1045, 4560], [8, 3]), ([1045, 4510], [8, 5]), ([1045, 4560], [8, 6])]"
      ]
     },
     "execution_count": 151,
     "metadata": {},
     "output_type": "execute_result"
    }
   ],
   "source": [
    "list_of_semi_cyclic_pairs[0:3]"
   ]
  },
  {
   "cell_type": "markdown",
   "metadata": {},
   "source": [
    "Okay, now let's add another."
   ]
  },
  {
   "cell_type": "code",
   "execution_count": 149,
   "metadata": {},
   "outputs": [
    {
     "name": "stdout",
     "output_type": "stream",
     "text": [
      "252\n"
     ]
    }
   ],
   "source": [
    "list_of_semi_cyclic_triples=[]\n",
    "for sequence in list_of_semi_cyclic_pairs:\n",
    "    for n in [3,4,5,6,7]:\n",
    "        if n in sequence[1]:\n",
    "            continue\n",
    "        else:\n",
    "            for item in generate_four_digit_figurate_numbers(n):\n",
    "                if str(sequence[0][1])[2:4] == str(item)[0:2]:\n",
    "                    list_of_semi_cyclic_triples.append((sequence[0]+[item],sequence[1]+[n]))   #{x8:8,item:n}\n",
    "print(len(list_of_semi_cyclic_triples))"
   ]
  },
  {
   "cell_type": "code",
   "execution_count": 152,
   "metadata": {
    "scrolled": true
   },
   "outputs": [
    {
     "data": {
      "text/plain": [
       "[([1045, 4560, 6084], [8, 3, 4]),\n",
       " ([1045, 4510, 1035], [8, 5, 3]),\n",
       " ([1045, 4510, 1081], [8, 5, 3])]"
      ]
     },
     "execution_count": 152,
     "metadata": {},
     "output_type": "execute_result"
    }
   ],
   "source": [
    "list_of_semi_cyclic_triples[0:3]"
   ]
  },
  {
   "cell_type": "markdown",
   "metadata": {},
   "source": [
    "We should be able to just keeping adding to this code"
   ]
  },
  {
   "cell_type": "code",
   "execution_count": 153,
   "metadata": {},
   "outputs": [
    {
     "name": "stdout",
     "output_type": "stream",
     "text": [
      "533\n"
     ]
    }
   ],
   "source": [
    "list_of_semi_cyclic_quadruples=[]\n",
    "for sequence in list_of_semi_cyclic_triples:\n",
    "    for n in [3,4,5,6,7]:\n",
    "        if n in sequence[1]:\n",
    "            continue\n",
    "        else:\n",
    "            for item in generate_four_digit_figurate_numbers(n):\n",
    "                if str(sequence[0][2])[2:4] == str(item)[0:2]:\n",
    "                    list_of_semi_cyclic_quadruples.append((sequence[0]+[item],sequence[1]+[n]))   #{x8:8,item:n}\n",
    "print(len(list_of_semi_cyclic_quadruples))"
   ]
  },
  {
   "cell_type": "code",
   "execution_count": 154,
   "metadata": {},
   "outputs": [
    {
     "data": {
      "text/plain": [
       "[([1045, 4510, 1035, 3553], [8, 5, 3, 7]),\n",
       " ([1045, 4510, 1081, 8128], [8, 5, 3, 6]),\n",
       " ([1045, 4510, 1024, 2415], [8, 5, 4, 3])]"
      ]
     },
     "execution_count": 154,
     "metadata": {},
     "output_type": "execute_result"
    }
   ],
   "source": [
    "list_of_semi_cyclic_quadruples[0:3]"
   ]
  },
  {
   "cell_type": "code",
   "execution_count": 155,
   "metadata": {},
   "outputs": [
    {
     "name": "stdout",
     "output_type": "stream",
     "text": [
      "692\n"
     ]
    }
   ],
   "source": [
    "list_of_semi_cyclic_quintets=[]\n",
    "for sequence in list_of_semi_cyclic_quadruples:\n",
    "    for n in [3,4,5,6,7]:\n",
    "        if n in sequence[1]:\n",
    "            continue\n",
    "        else:\n",
    "            for item in generate_four_digit_figurate_numbers(n):\n",
    "                if str(sequence[0][3])[2:4] == str(item)[0:2]:\n",
    "                    list_of_semi_cyclic_quintets.append((sequence[0]+[item],sequence[1]+[n]))   #{x8:8,item:n}\n",
    "print(len(list_of_semi_cyclic_quintets))"
   ]
  },
  {
   "cell_type": "code",
   "execution_count": 156,
   "metadata": {},
   "outputs": [
    {
     "data": {
      "text/plain": [
       "[([1045, 4510, 1035, 3553, 5329], [8, 5, 3, 7, 4]),\n",
       " ([1045, 4510, 1035, 3553, 5356], [8, 5, 3, 7, 6]),\n",
       " ([1045, 4510, 1081, 8128, 2839], [8, 5, 3, 6, 7])]"
      ]
     },
     "execution_count": 156,
     "metadata": {},
     "output_type": "execute_result"
    }
   ],
   "source": [
    "list_of_semi_cyclic_quintets[0:3]"
   ]
  },
  {
   "cell_type": "code",
   "execution_count": 159,
   "metadata": {},
   "outputs": [
    {
     "name": "stdout",
     "output_type": "stream",
     "text": [
      "419\n"
     ]
    }
   ],
   "source": [
    "list_of_semi_cyclic_hextuples=[]\n",
    "for sequence in list_of_semi_cyclic_quintets:\n",
    "    for n in [3,4,5,6,7]:\n",
    "        if n in sequence[1]:\n",
    "            continue\n",
    "        else:\n",
    "            for item in generate_four_digit_figurate_numbers(n):\n",
    "                if str(sequence[0][4])[2:4] == str(item)[0:2]:\n",
    "                    list_of_semi_cyclic_hextuples.append((sequence[0]+[item],sequence[1]+[n]))   #{x8:8,item:n}\n",
    "print(len(list_of_semi_cyclic_hextuples))"
   ]
  },
  {
   "cell_type": "code",
   "execution_count": 160,
   "metadata": {},
   "outputs": [
    {
     "data": {
      "text/plain": [
       "[([1045, 4510, 1035, 3553, 5356, 5625], [8, 5, 3, 7, 6, 4]),\n",
       " ([1045, 4510, 1081, 8128, 2839, 3969], [8, 5, 3, 6, 7, 4]),\n",
       " ([1045, 4510, 1024, 2415, 1525, 2556], [8, 5, 4, 3, 7, 6])]"
      ]
     },
     "execution_count": 160,
     "metadata": {},
     "output_type": "execute_result"
    }
   ],
   "source": [
    "list_of_semi_cyclic_hextuples[0:3]"
   ]
  },
  {
   "cell_type": "markdown",
   "metadata": {},
   "source": [
    "Ok. Now we just find which one is actually cyclic"
   ]
  },
  {
   "cell_type": "code",
   "execution_count": 161,
   "metadata": {},
   "outputs": [
    {
     "name": "stdout",
     "output_type": "stream",
     "text": [
      "[1281, 8128, 2882, 8256, 5625, 2512]\n"
     ]
    }
   ],
   "source": [
    "for sequence in list_of_semi_cyclic_hextuples:\n",
    "    if check_if_sequence_is_cyclic(sequence[0]):\n",
    "        cyclic_sequence = sequence[0]\n",
    "        print(cyclic_sequence)\n",
    "        break"
   ]
  },
  {
   "cell_type": "code",
   "execution_count": 162,
   "metadata": {},
   "outputs": [
    {
     "data": {
      "text/plain": [
       "28684"
      ]
     },
     "execution_count": 162,
     "metadata": {},
     "output_type": "execute_result"
    }
   ],
   "source": [
    "sum(cyclic_sequence)"
   ]
  },
  {
   "cell_type": "markdown",
   "metadata": {},
   "source": [
    "Messy but worked! (Can obviously clean up)"
   ]
  },
  {
   "cell_type": "code",
   "execution_count": null,
   "metadata": {},
   "outputs": [],
   "source": []
  }
 ],
 "metadata": {
  "kernelspec": {
   "display_name": "Python 3",
   "language": "python",
   "name": "python3"
  },
  "language_info": {
   "codemirror_mode": {
    "name": "ipython",
    "version": 3
   },
   "file_extension": ".py",
   "mimetype": "text/x-python",
   "name": "python",
   "nbconvert_exporter": "python",
   "pygments_lexer": "ipython3",
   "version": "3.7.3"
  }
 },
 "nbformat": 4,
 "nbformat_minor": 2
}
