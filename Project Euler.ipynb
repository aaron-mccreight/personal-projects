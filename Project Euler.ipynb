{
 "cells": [
  {
   "cell_type": "markdown",
   "metadata": {},
   "source": [
    "# Project Euler"
   ]
  },
  {
   "cell_type": "markdown",
   "metadata": {},
   "source": [
    "My solutions to Project Euler problems. Answers are hidden."
   ]
  },
  {
   "cell_type": "markdown",
   "metadata": {},
   "source": [
    "Link: https://projecteuler.net/"
   ]
  },
  {
   "cell_type": "markdown",
   "metadata": {},
   "source": [
    "Note for myself:<br/> \n",
    "-Try to improve efficiency of 152.<br/>"
   ]
  },
  {
   "cell_type": "markdown",
   "metadata": {},
   "source": [
    "### Table of Contents"
   ]
  },
  {
   "cell_type": "markdown",
   "metadata": {},
   "source": [
    "1. [Problem 1: Multiples of 3 and 5](#Problem-1:-Multiples-of-3-and-5)\n",
    "2. [Problem 2: Even Fibonacci Numbers](#Problem-2:-Even-Fibonacci-Numbers)\n",
    "3. [Problem 3: Largest Prime Factor](#Problem-3:-Largest-Prime-Factor)\n",
    "4. [Problem 4: Largest Palindrome Product](#Problem-4:-Largest-Palindrome-Product)\n",
    "5. [Problem 5: Smallest Multiple](#Problem-5:-Smallest-Multiple)\n",
    "6. [Problem 6: Sum Square Difference](#Problem-6:-Sum-Square-Difference)\n",
    "7. [Problem 7: 10001st Prime](#Problem-7:-10001st-Prime)\n",
    "8. [Problem 8: Largest Product in a Series](#Problem-8:-Largest-Product-in-a-Series)\n",
    "9. [Problem 9: Special Pythagorean Triplet](#Problem-9:-Special-Pythagorean-Triplet)\n",
    "10. [Problem 10: Summation of Primes](#Problem-10:-Summation-of-Primes)\n",
    "11. [Problem 11: Largest Product in a Grid](#Problem-11:-Largest-Product-in-a-Grid)\n",
    "12. [Problem 12: Highly Divisible Triangular Number](#Problem-12:-Highly-Divisible-Triangular-Number)\n",
    "13. [Problem 13: Large Sum](#Problem-13:-Large-Sum)\n",
    "14. [Problem 14: Longest Collatz Sequence](#Problem-14:-Longest-Collatz-Sequence)\n",
    "15. [Problem 15: Lattice Paths](#Problem-15:-Lattice-Paths)\n",
    "16. [Problem 16: Power Digit Sum](#Problem-16:-Power-Digit-Sum)\n",
    "17. [Problem 17: Number Letter Counts](#Problem-17:-Number-Letter-Counts)\n",
    "18. [Problem 18: Maximum Path Sum I](#Problem-18:-Maximum-Path-Sum-I)\n",
    "19. [Problem 19: Counting Sundays](#Problem-19:-Counting-Sundays)\n",
    "20. [Problem 20: Factorial Digit Sum](#Problem-20:-Factorial-Digit-Sum)\n",
    "21. [Problem 21: Amicable Numbers](#Problem-21:-Amicable-Numbers)\n",
    "22. [Problem 22: Names Scores](#Problem-22:-Names-Scores)\n",
    "23. [Problem 23: Non-Abundant Sums](#Problem-23:-Non-Abundant-Sums)\n",
    "25. [Problem 25: 1000-Digit Fibonacci Number](#Problem-25:-1000-Digit-Fibonacci-Number)\n",
    "29. [Problem 29: Distinct Powers](#Problem-29:-Distinct-Powers)\n",
    "30. [Problem 30: Digit Fifth Powers](#Problem-30:-Digit-Fifth-Powers)\n",
    "34. [Problem 34: Digit Factorials](#Problem-34:-Digit-Factorials)\n",
    "61. [Problem 61: Cyclical Figurate Numbers](#Problem-61:-Cyclical-Figurate-Numbers)\n",
    "67. [Problem 67: Maximum Path Sum II](#Problem-67:-Maximum-Path-Sum-II)\n",
    "152. [Problem 152: Writing 1/2 as a Sum of Inverse Squares](#Problem-152:-Writing-1/2-as-a-Sum-of-Inverse-Squares)\n",
    "  1. [i. Functions](#i.-Functions)\n",
    "  2. [ii. Reducing the Problem](#ii.-Reducing-the-Problem)\n",
    "  3. [iii. Brute Force](#iii.-Brute-Force)\n",
    "  4. [iiii. Notes](#iiii.-Notes)"
   ]
  },
  {
   "cell_type": "markdown",
   "metadata": {},
   "source": [
    "### Python Libraries"
   ]
  },
  {
   "cell_type": "code",
   "execution_count": 1,
   "metadata": {},
   "outputs": [],
   "source": [
    "import math"
   ]
  },
  {
   "cell_type": "markdown",
   "metadata": {},
   "source": [
    "### Problem 1: Multiples of 3 and 5"
   ]
  },
  {
   "cell_type": "code",
   "execution_count": 2,
   "metadata": {},
   "outputs": [],
   "source": [
    "def solve_problem_1():\n",
    "    mult35 = 0\n",
    "    for i in range(1,1000):\n",
    "        if (i%3 == 0) or (i%5 == 0):\n",
    "            mult35 = mult35 + i\n",
    "    return mult35\n",
    "\n",
    "#solve_problem_1()"
   ]
  },
  {
   "cell_type": "markdown",
   "metadata": {},
   "source": [
    "### Problem 2: Even Fibonacci Numbers"
   ]
  },
  {
   "cell_type": "code",
   "execution_count": 3,
   "metadata": {},
   "outputs": [],
   "source": [
    "def solve_problem_2():\n",
    "    even_sum = 2\n",
    "    small_term = 1\n",
    "    big_term = 2\n",
    "    while (small_term + big_term) < 4000000:\n",
    "        new_big_term = big_term + small_term\n",
    "        small_term = big_term\n",
    "        big_term = new_big_term\n",
    "        if big_term%2 == 0:\n",
    "            #print(big_term)\n",
    "            even_sum = even_sum + big_term\n",
    "    return even_sum\n",
    "\n",
    "#solve_problem_2()"
   ]
  },
  {
   "cell_type": "markdown",
   "metadata": {},
   "source": [
    "### Problem 3: Largest Prime Factor"
   ]
  },
  {
   "cell_type": "code",
   "execution_count": 4,
   "metadata": {},
   "outputs": [],
   "source": [
    "def is_prime(i): # i will be assumed to be odd\n",
    "    up_bound = int(i**0.5)\n",
    "    up_bound = up_bound + 1 + (up_bound&2)\n",
    "    prime = True\n",
    "    for k in range(3, up_bound, 2):\n",
    "        if i%k == 0:\n",
    "            prime = False\n",
    "            break\n",
    "    return prime\n",
    "\n",
    "def solve_problem_3():\n",
    "    number = 600851475143\n",
    "    upper_bound = int(number**0.5) \n",
    "    upper_bound = upper_bound - 1 + (upper_bound%2) #to make it odd\n",
    "    largest_prime = 0\n",
    "    for i in range(upper_bound, 3, -2):\n",
    "        if number  % i == 0:\n",
    "            if is_prime(i):\n",
    "                largest_prime = i\n",
    "                break\n",
    "    return largest_prime\n",
    "\n",
    "#solve_problem_3()"
   ]
  },
  {
   "cell_type": "markdown",
   "metadata": {},
   "source": [
    "### Problem 4: Largest Palindrome Product"
   ]
  },
  {
   "cell_type": "code",
   "execution_count": 5,
   "metadata": {},
   "outputs": [],
   "source": [
    "def is_palindrome(x):\n",
    "    return str(x) == str(x)[::-1]\n",
    "\n",
    "def solve_problem_4():\n",
    "    largest_palindrome = 0\n",
    "    for i in range(100,1000):\n",
    "        for j in range(100, i+1):\n",
    "            n = i*j\n",
    "            if is_palindrome(n) and (n > largest_palindrome):\n",
    "                largest_palindrome = n\n",
    "    return largest_palindrome\n",
    "\n",
    "#solve_problem_4()"
   ]
  },
  {
   "cell_type": "code",
   "execution_count": 6,
   "metadata": {},
   "outputs": [],
   "source": [
    "largest_palindrome = 0\n",
    "for i in range(100,1000):\n",
    "    for j in range(100, i+1):\n",
    "        n = i*j\n",
    "        if is_palindrome(n) and (n > largest_palindrome):\n",
    "            largest_palindrome = n\n",
    "#largest_palindrome"
   ]
  },
  {
   "cell_type": "markdown",
   "metadata": {},
   "source": [
    "### Problem 5: Smallest Multiple"
   ]
  },
  {
   "cell_type": "code",
   "execution_count": 7,
   "metadata": {},
   "outputs": [],
   "source": [
    "def suitable_divisor(x):\n",
    "    ans = True\n",
    "    for i in range(2,21):\n",
    "        if x%i != 0:\n",
    "            ans = False\n",
    "            break\n",
    "    return ans\n",
    "\n",
    "#import math\n",
    "#upper_bound = math.factorial(20)\n",
    "\n",
    "def solve_problem_5():\n",
    "    smallest_multiple = 0\n",
    "    x = 2520 #2520 comes from the statement of the problem (it's smallest positive number that is a multiple of 1,...,10)\n",
    "    while True:\n",
    "        if suitable_divisor(x):\n",
    "            smallest_multiple = x\n",
    "            break\n",
    "        else:\n",
    "            x = x + 2520\n",
    "    return smallest_multiple\n",
    "\n",
    "#solve_problem_5()"
   ]
  },
  {
   "cell_type": "markdown",
   "metadata": {},
   "source": [
    "Could have just found lowest common multiple using prime factors"
   ]
  },
  {
   "cell_type": "markdown",
   "metadata": {},
   "source": [
    "### Problem 6: Sum Square Difference"
   ]
  },
  {
   "cell_type": "code",
   "execution_count": 8,
   "metadata": {},
   "outputs": [],
   "source": [
    "def solve_problem_6():\n",
    "    # (1 + ... + 100)^2 - (1^2 + ... + 100^2) = 2 * sum(i * j), where i < j [squares cancel]\n",
    "    sum_square_diff = 0\n",
    "    for j in range(2,101):\n",
    "        for i in range(1,j):\n",
    "            sum_square_diff = sum_square_diff + i*j\n",
    "    return (2*sum_square_diff)\n",
    "\n",
    "#solve_problem_6()"
   ]
  },
  {
   "cell_type": "markdown",
   "metadata": {},
   "source": [
    "### Problem 7: 10001st Prime"
   ]
  },
  {
   "cell_type": "code",
   "execution_count": 9,
   "metadata": {},
   "outputs": [],
   "source": [
    "def solve_problem_7():\n",
    "    prime_list = [2]\n",
    "    n = 3\n",
    "    while len(prime_list) < 10001:\n",
    "        if is_prime(n):\n",
    "            prime_list.append(n)\n",
    "        n += 2\n",
    "    return prime_list[-1]\n",
    "\n",
    "#solve_problem_7()"
   ]
  },
  {
   "cell_type": "markdown",
   "metadata": {},
   "source": [
    "### Problem 8: Largest Product in a Series"
   ]
  },
  {
   "cell_type": "code",
   "execution_count": 10,
   "metadata": {},
   "outputs": [],
   "source": [
    "def solve_problem_8():\n",
    "    series = 7316717653133062491922511967442657474235534919493496983520312774506326239578318016984801869478851843858615607891129494954595017379583319528532088055111254069874715852386305071569329096329522744304355766896648950445244523161731856403098711121722383113622298934233803081353362766142828064444866452387493035890729629049156044077239071381051585930796086670172427121883998797908792274921901699720888093776657273330010533678812202354218097512545405947522435258490771167055601360483958644670632441572215539753697817977846174064955149290862569321978468622482839722413756570560574902614079729686524145351004748216637048440319989000889524345065854122758866688116427171479924442928230863465674813919123162824586178664583591245665294765456828489128831426076900422421902267105562632111110937054421750694165896040807198403850962455444362981230987879927244284909188845801561660979191338754992005240636899125607176060588611646710940507754100225698315520005593572972571636269561882670428252483600823257530420752963450\n",
    "    series_string = str(series)\n",
    "    i = 0\n",
    "    largest_product = 0\n",
    "\n",
    "    while i < (len(series_string) - 12):\n",
    "\n",
    "        def thirteen_product(i): #takes in index and returns product of next 13 numbers\n",
    "            product = int(series_string[i])\n",
    "            for j in range(1,13):\n",
    "                product = product * int(series_string[i+j])\n",
    "            return product\n",
    "\n",
    "        if thirteen_product(i) > largest_product:\n",
    "            largest_product = thirteen_product(i)\n",
    "\n",
    "        i += 1\n",
    "\n",
    "    return largest_product\n",
    "\n",
    "#solve_problem_8()"
   ]
  },
  {
   "cell_type": "markdown",
   "metadata": {},
   "source": [
    "### Problem 9: Special Pythagorean Triplet"
   ]
  },
  {
   "cell_type": "code",
   "execution_count": 11,
   "metadata": {},
   "outputs": [],
   "source": [
    "def is_pythagoras(a,b,c):\n",
    "    return (a**2 + b**2) == c**2\n",
    "\n",
    "def solve_problem_9():\n",
    "    for c in range(334, 501):\n",
    "        for b in range(1, c):\n",
    "            a = 1000 - b - c\n",
    "            if is_pythagoras(a, b, c):\n",
    "                #print(a)\n",
    "                #print(b)\n",
    "                #print(c)\n",
    "                #print(a*b*c)\n",
    "                break\n",
    "    return (a*b*c)\n",
    "\n",
    "#solve_problem_9()"
   ]
  },
  {
   "cell_type": "markdown",
   "metadata": {},
   "source": [
    "### Problem 10: Summation of Primes"
   ]
  },
  {
   "cell_type": "code",
   "execution_count": 12,
   "metadata": {},
   "outputs": [],
   "source": [
    "def solve_problem_10():\n",
    "    prime_sum = 2\n",
    "    n = 3\n",
    "    while n < 2000000:\n",
    "        if is_prime(n):\n",
    "            prime_sum = prime_sum + n\n",
    "        n += 2\n",
    "    return prime_sum\n",
    "\n",
    "#solve_problem_10()"
   ]
  },
  {
   "cell_type": "markdown",
   "metadata": {},
   "source": [
    "### Problem 11: Largest Product in a Grid"
   ]
  },
  {
   "cell_type": "code",
   "execution_count": 13,
   "metadata": {},
   "outputs": [],
   "source": [
    "# Converts grid from a string to a pseudo-matrix - that is, a list of list of numbers where each list represents a row\n",
    "def prepare_grid():\n",
    "    grid = \"\"\"\n",
    "08 02 22 97 38 15 00 40 00 75 04 05 07 78 52 12 50 77 91 08\n",
    "49 49 99 40 17 81 18 57 60 87 17 40 98 43 69 48 04 56 62 00\n",
    "81 49 31 73 55 79 14 29 93 71 40 67 53 88 30 03 49 13 36 65\n",
    "52 70 95 23 04 60 11 42 69 24 68 56 01 32 56 71 37 02 36 91\n",
    "22 31 16 71 51 67 63 89 41 92 36 54 22 40 40 28 66 33 13 80\n",
    "24 47 32 60 99 03 45 02 44 75 33 53 78 36 84 20 35 17 12 50\n",
    "32 98 81 28 64 23 67 10 26 38 40 67 59 54 70 66 18 38 64 70\n",
    "67 26 20 68 02 62 12 20 95 63 94 39 63 08 40 91 66 49 94 21\n",
    "24 55 58 05 66 73 99 26 97 17 78 78 96 83 14 88 34 89 63 72\n",
    "21 36 23 09 75 00 76 44 20 45 35 14 00 61 33 97 34 31 33 95\n",
    "78 17 53 28 22 75 31 67 15 94 03 80 04 62 16 14 09 53 56 92\n",
    "16 39 05 42 96 35 31 47 55 58 88 24 00 17 54 24 36 29 85 57\n",
    "86 56 00 48 35 71 89 07 05 44 44 37 44 60 21 58 51 54 17 58\n",
    "19 80 81 68 05 94 47 69 28 73 92 13 86 52 17 77 04 89 55 40\n",
    "04 52 08 83 97 35 99 16 07 97 57 32 16 26 26 79 33 27 98 66\n",
    "88 36 68 87 57 62 20 72 03 46 33 67 46 55 12 32 63 93 53 69\n",
    "04 42 16 73 38 25 39 11 24 94 72 18 08 46 29 32 40 62 76 36\n",
    "20 69 36 41 72 30 23 88 34 62 99 69 82 67 59 85 74 04 36 16\n",
    "20 73 35 29 78 31 90 01 74 31 49 71 48 86 81 16 23 57 05 54\n",
    "01 70 54 71 83 51 54 69 16 92 33 48 61 43 52 01 89 19 67 48\n",
    "\"\"\"\n",
    "    grid = grid.split('\\n')\n",
    "    grid.remove('') #first\n",
    "    grid.remove('') #last\n",
    "    grid = [[int(x) for x in row.split(' ')] for row in grid]\n",
    "\n",
    "    return grid\n",
    "\n",
    "#print(prepare_grid())"
   ]
  },
  {
   "cell_type": "code",
   "execution_count": 14,
   "metadata": {},
   "outputs": [],
   "source": [
    "# Determines largest product of n numbers in a list of numbers\n",
    "# If there is not enough numbers, it'll return 0\n",
    "def calculate_largest_product_in_list(list_of_num, n=4):\n",
    "    max_product = 0\n",
    "    i = 0\n",
    "    if len(list_of_num) < n:\n",
    "        return max_product\n",
    "    else:\n",
    "        while i <= (len(list_of_num)-n):\n",
    "            sequence = list_of_num[i:i+n]\n",
    "            new_product=1\n",
    "            for item in sequence:\n",
    "                new_product = new_product*item\n",
    "            if new_product > max_product:\n",
    "                max_product = new_product\n",
    "            i+=1\n",
    "            \n",
    "        return max_product"
   ]
  },
  {
   "cell_type": "code",
   "execution_count": 15,
   "metadata": {},
   "outputs": [],
   "source": [
    "# print(calculate_largest_product_in_list([1,2,3])) #0\n",
    "# print(calculate_largest_product_in_list([1,2,3,4,5])) #120\n",
    "# print(calculate_largest_product_in_list([1,2,3,10,10,10,10,4,5,0,99,3])) #10,000"
   ]
  },
  {
   "cell_type": "code",
   "execution_count": 16,
   "metadata": {},
   "outputs": [],
   "source": [
    "def solve_problem_11(n=4):\n",
    "    grid = prepare_grid()\n",
    "    max_product = 0\n",
    "    grid_size = len(grid)\n",
    "    \n",
    "    # We have four things to check: all rows, all columns, all left to right diagonals and all right to left diagonals\n",
    "    \n",
    "    # Case 1: Rows\n",
    "    for row in grid:\n",
    "        new_product = calculate_largest_product_in_list(row, n)\n",
    "        if new_product > max_product:\n",
    "            max_product = new_product\n",
    "    \n",
    "    \n",
    "    # Case 2: Columns\n",
    "    for i in range(0,grid_size):\n",
    "        column = [row[i] for row in grid]\n",
    "        new_product = calculate_largest_product_in_list(column, n)\n",
    "        if new_product > max_product:\n",
    "            max_product = new_product\n",
    "            \n",
    "    \n",
    "    # Case 3: Diagonals from top left to bottom right\n",
    "    # Note: Diagonals either start along the first row or the first column\n",
    "    for i in range(0,grid_size):\n",
    "        row_diagonal = [grid[j][i+j] for j in range(0,grid_size-i)] # Diagonals that start along top row. Each one has grid_size-i elements\n",
    "        new_product = calculate_largest_product_in_list(row_diagonal, n)\n",
    "        if new_product > max_product:\n",
    "            max_product = new_product\n",
    "        \n",
    "        column_diagonal = [grid[i+j][j] for j in range(0,grid_size-i)] # Diagonals that start along first column.\n",
    "        new_product = calculate_largest_product_in_list(column_diagonal, n)\n",
    "        if new_product > max_product:\n",
    "            max_product = new_product\n",
    "            \n",
    "            \n",
    "    # Case 4: Diagonals from bottom left to top right\n",
    "    # Note: Diagonals either start along the bottom row or the first column\n",
    "    for i in range(0,grid_size):\n",
    "        row_diagonal = [grid[grid_size-j-1][i+j] for j in range(0,grid_size-i)] # Diagonals that start along bottom row. Each one has grid_size-i elements\n",
    "        new_product = calculate_largest_product_in_list(row_diagonal, n)\n",
    "        if new_product > max_product:\n",
    "            max_product = new_product\n",
    "        \n",
    "        column_diagonal = [grid[grid_size-i-j-1][j] for j in range(0,grid_size-i)] # Diagonals that start along first column.\n",
    "        new_product = calculate_largest_product_in_list(column_diagonal, n)\n",
    "        if new_product > max_product:\n",
    "            max_product = new_product    \n",
    "            \n",
    "    \n",
    "    return max_product\n",
    "            \n",
    "            \n",
    "#solve_problem_11()"
   ]
  },
  {
   "cell_type": "markdown",
   "metadata": {},
   "source": [
    "### Problem 12: Highly Divisible Triangular Number"
   ]
  },
  {
   "cell_type": "code",
   "execution_count": 17,
   "metadata": {},
   "outputs": [],
   "source": [
    "# Function that returns how many divisors a number has\n",
    "def number_divisors(x):\n",
    "    number_of_divisors = 0\n",
    "    upper_bound = int(x**0.5)\n",
    "    for i in range(1, upper_bound+1):\n",
    "        if x%i==0:\n",
    "            if x//i==i:\n",
    "                number_of_divisors+=1\n",
    "            else:\n",
    "                number_of_divisors+=2\n",
    "    return number_of_divisors"
   ]
  },
  {
   "cell_type": "code",
   "execution_count": 18,
   "metadata": {},
   "outputs": [],
   "source": [
    "# print(number_divisors(28)) #6\n",
    "# print(number_divisors(25)) #3\n",
    "# print(number_divisors(100)) #9"
   ]
  },
  {
   "cell_type": "code",
   "execution_count": 19,
   "metadata": {},
   "outputs": [],
   "source": [
    "def solve_problem_12(n=500):\n",
    "    triangular_number=0\n",
    "    i=1\n",
    "    while True:\n",
    "        triangular_number=triangular_number+i\n",
    "        if number_divisors(triangular_number)>n:\n",
    "            break\n",
    "        else:\n",
    "            i+=1\n",
    "    return triangular_number\n",
    "\n",
    "#solve_problem_12()"
   ]
  },
  {
   "cell_type": "markdown",
   "metadata": {},
   "source": [
    "### Problem 13: Large Sum"
   ]
  },
  {
   "cell_type": "code",
   "execution_count": 20,
   "metadata": {},
   "outputs": [],
   "source": [
    "def solve_problem_13():\n",
    "    \n",
    "    large_nums = \"\"\"\n",
    "37107287533902102798797998220837590246510135740250\n",
    "46376937677490009712648124896970078050417018260538\n",
    "74324986199524741059474233309513058123726617309629\n",
    "91942213363574161572522430563301811072406154908250\n",
    "23067588207539346171171980310421047513778063246676\n",
    "89261670696623633820136378418383684178734361726757\n",
    "28112879812849979408065481931592621691275889832738\n",
    "44274228917432520321923589422876796487670272189318\n",
    "47451445736001306439091167216856844588711603153276\n",
    "70386486105843025439939619828917593665686757934951\n",
    "62176457141856560629502157223196586755079324193331\n",
    "64906352462741904929101432445813822663347944758178\n",
    "92575867718337217661963751590579239728245598838407\n",
    "58203565325359399008402633568948830189458628227828\n",
    "80181199384826282014278194139940567587151170094390\n",
    "35398664372827112653829987240784473053190104293586\n",
    "86515506006295864861532075273371959191420517255829\n",
    "71693888707715466499115593487603532921714970056938\n",
    "54370070576826684624621495650076471787294438377604\n",
    "53282654108756828443191190634694037855217779295145\n",
    "36123272525000296071075082563815656710885258350721\n",
    "45876576172410976447339110607218265236877223636045\n",
    "17423706905851860660448207621209813287860733969412\n",
    "81142660418086830619328460811191061556940512689692\n",
    "51934325451728388641918047049293215058642563049483\n",
    "62467221648435076201727918039944693004732956340691\n",
    "15732444386908125794514089057706229429197107928209\n",
    "55037687525678773091862540744969844508330393682126\n",
    "18336384825330154686196124348767681297534375946515\n",
    "80386287592878490201521685554828717201219257766954\n",
    "78182833757993103614740356856449095527097864797581\n",
    "16726320100436897842553539920931837441497806860984\n",
    "48403098129077791799088218795327364475675590848030\n",
    "87086987551392711854517078544161852424320693150332\n",
    "59959406895756536782107074926966537676326235447210\n",
    "69793950679652694742597709739166693763042633987085\n",
    "41052684708299085211399427365734116182760315001271\n",
    "65378607361501080857009149939512557028198746004375\n",
    "35829035317434717326932123578154982629742552737307\n",
    "94953759765105305946966067683156574377167401875275\n",
    "88902802571733229619176668713819931811048770190271\n",
    "25267680276078003013678680992525463401061632866526\n",
    "36270218540497705585629946580636237993140746255962\n",
    "24074486908231174977792365466257246923322810917141\n",
    "91430288197103288597806669760892938638285025333403\n",
    "34413065578016127815921815005561868836468420090470\n",
    "23053081172816430487623791969842487255036638784583\n",
    "11487696932154902810424020138335124462181441773470\n",
    "63783299490636259666498587618221225225512486764533\n",
    "67720186971698544312419572409913959008952310058822\n",
    "95548255300263520781532296796249481641953868218774\n",
    "76085327132285723110424803456124867697064507995236\n",
    "37774242535411291684276865538926205024910326572967\n",
    "23701913275725675285653248258265463092207058596522\n",
    "29798860272258331913126375147341994889534765745501\n",
    "18495701454879288984856827726077713721403798879715\n",
    "38298203783031473527721580348144513491373226651381\n",
    "34829543829199918180278916522431027392251122869539\n",
    "40957953066405232632538044100059654939159879593635\n",
    "29746152185502371307642255121183693803580388584903\n",
    "41698116222072977186158236678424689157993532961922\n",
    "62467957194401269043877107275048102390895523597457\n",
    "23189706772547915061505504953922979530901129967519\n",
    "86188088225875314529584099251203829009407770775672\n",
    "11306739708304724483816533873502340845647058077308\n",
    "82959174767140363198008187129011875491310547126581\n",
    "97623331044818386269515456334926366572897563400500\n",
    "42846280183517070527831839425882145521227251250327\n",
    "55121603546981200581762165212827652751691296897789\n",
    "32238195734329339946437501907836945765883352399886\n",
    "75506164965184775180738168837861091527357929701337\n",
    "62177842752192623401942399639168044983993173312731\n",
    "32924185707147349566916674687634660915035914677504\n",
    "99518671430235219628894890102423325116913619626622\n",
    "73267460800591547471830798392868535206946944540724\n",
    "76841822524674417161514036427982273348055556214818\n",
    "97142617910342598647204516893989422179826088076852\n",
    "87783646182799346313767754307809363333018982642090\n",
    "10848802521674670883215120185883543223812876952786\n",
    "71329612474782464538636993009049310363619763878039\n",
    "62184073572399794223406235393808339651327408011116\n",
    "66627891981488087797941876876144230030984490851411\n",
    "60661826293682836764744779239180335110989069790714\n",
    "85786944089552990653640447425576083659976645795096\n",
    "66024396409905389607120198219976047599490197230297\n",
    "64913982680032973156037120041377903785566085089252\n",
    "16730939319872750275468906903707539413042652315011\n",
    "94809377245048795150954100921645863754710598436791\n",
    "78639167021187492431995700641917969777599028300699\n",
    "15368713711936614952811305876380278410754449733078\n",
    "40789923115535562561142322423255033685442488917353\n",
    "44889911501440648020369068063960672322193204149535\n",
    "41503128880339536053299340368006977710650566631954\n",
    "81234880673210146739058568557934581403627822703280\n",
    "82616570773948327592232845941706525094512325230608\n",
    "22918802058777319719839450180888072429661980811197\n",
    "77158542502016545090413245809786882778948721859617\n",
    "72107838435069186155435662884062257473692284509516\n",
    "20849603980134001723930671666823555245252804609722\n",
    "53503534226472524250874054075591789781264330331690\n",
    "\"\"\"\n",
    "    \n",
    "    # Split grid into a list of the large numbers\n",
    "    large_nums_list = large_nums.split('\\n')\n",
    "    large_nums_list.remove('') # first\n",
    "    large_nums_list.remove('') # last\n",
    "    large_nums_list = [int(x) for x in large_nums_list]\n",
    "    \n",
    "    # Calculate the sum\n",
    "    large_sum=sum(large_nums_list)\n",
    "    \n",
    "    return str(large_sum)[0:10]\n",
    "\n",
    "\n",
    "#solve_problem_13()"
   ]
  },
  {
   "cell_type": "markdown",
   "metadata": {},
   "source": [
    "### Problem 14: Longest Collatz Sequence"
   ]
  },
  {
   "cell_type": "code",
   "execution_count": 21,
   "metadata": {},
   "outputs": [],
   "source": [
    "# Determines length of Collatz sequence starting at n\n",
    "def calculate_length_collatz_sequence(n):\n",
    "    if n==1:\n",
    "        return 1\n",
    "    elif n%2==0:\n",
    "        return 1+calculate_length_collatz_sequence(n//2)\n",
    "    else:\n",
    "        return 1+calculate_length_collatz_sequence(3*n+1)"
   ]
  },
  {
   "cell_type": "code",
   "execution_count": 22,
   "metadata": {},
   "outputs": [
    {
     "name": "stdout",
     "output_type": "stream",
     "text": [
      "10\n"
     ]
    }
   ],
   "source": [
    "print(calculate_length_collatz_sequence(13))"
   ]
  },
  {
   "cell_type": "code",
   "execution_count": 23,
   "metadata": {},
   "outputs": [],
   "source": [
    "# Not the most efficient (I'm sure we can remove a lot of numbers to test) but it works\n",
    "def solve_problem_14():\n",
    "    max_sequence = 1\n",
    "    max_index = 1\n",
    "    for i in range(1,1000000):\n",
    "        new_sequence_length = calculate_length_collatz_sequence(i)\n",
    "        if new_sequence_length > max_sequence:\n",
    "            max_sequence = new_sequence_length\n",
    "            max_index=i\n",
    "    return max_index\n",
    "\n",
    "#solve_problem_14()"
   ]
  },
  {
   "cell_type": "markdown",
   "metadata": {},
   "source": [
    "### Problem 15: Lattice Paths"
   ]
  },
  {
   "cell_type": "markdown",
   "metadata": {},
   "source": [
    "This is a classic combinatorial problem and the number of paths matches the centre of the binomial triangle. Here is the formula for solving it for any nxn grid."
   ]
  },
  {
   "cell_type": "code",
   "execution_count": 24,
   "metadata": {},
   "outputs": [],
   "source": [
    "def solve_problem_15(n=20):\n",
    "    numerator = math.factorial(2*n)\n",
    "    denominator = math.factorial(n)**2\n",
    "    return numerator // denominator\n",
    "\n",
    "#solve_problem_15()"
   ]
  },
  {
   "cell_type": "markdown",
   "metadata": {},
   "source": [
    "### Problem 16: Power Digit Sum"
   ]
  },
  {
   "cell_type": "markdown",
   "metadata": {},
   "source": [
    "This one is pretty easy with Python (I suppose you could use modular arithmetic if you had to make it more efficient)."
   ]
  },
  {
   "cell_type": "code",
   "execution_count": 25,
   "metadata": {},
   "outputs": [],
   "source": [
    "def solve_problem_16():\n",
    "    num = 2**1000\n",
    "    num_list=list(str(num))\n",
    "    num_list=[int(x) for x in num_list]\n",
    "    return sum(num_list)\n",
    "\n",
    "#solve_problem_16()"
   ]
  },
  {
   "cell_type": "markdown",
   "metadata": {},
   "source": [
    "### Problem 17: Number Letter Counts"
   ]
  },
  {
   "cell_type": "code",
   "execution_count": 26,
   "metadata": {},
   "outputs": [],
   "source": [
    "# Helper function for what will eventually convert a number to word\n",
    "# Need this because two digit_numbers have too many cases\n",
    "# Note: x must be positive\n",
    "# Also, not using hyphens/whitespace as I'll just have to remove them eventually\n",
    "def convert_two_digit_number_to_word(x):\n",
    "    single_digit_dict = {0:'',1:'one',2:'two',3:'three',4:'four',5:'five',6:'six',7:'seven',8:'eight',9:'nine'}\n",
    "    double_digit_dict = {2:'twenty',3:'thirty',4:'forty',5:'fifty',6:'sixty',\n",
    "                         7:'seventy',8:'eighty',9:'ninety'} # For x>=20\n",
    "    \n",
    "    if x<10:\n",
    "        return single_digit_dict[x]\n",
    "    elif x==10:\n",
    "        return 'ten'\n",
    "    elif x==11:\n",
    "        return 'eleven'\n",
    "    elif x==12:\n",
    "        return 'twelve'\n",
    "    elif x==13:\n",
    "        return 'thirteen'\n",
    "    elif x==14:\n",
    "        return 'fourteen'\n",
    "    elif x==15:\n",
    "        return 'fifteen'\n",
    "    elif x==16:\n",
    "        return 'sixteen'\n",
    "    elif x==17:\n",
    "        return 'seventeen'\n",
    "    elif x==18:\n",
    "        return 'eighteen'\n",
    "    elif x==19:\n",
    "        return 'nineteen'\n",
    "    else: #x>20\n",
    "        return double_digit_dict[int(str(x)[0])] + single_digit_dict[int(str(x)[1])]"
   ]
  },
  {
   "cell_type": "code",
   "execution_count": 27,
   "metadata": {},
   "outputs": [],
   "source": [
    "# print(convert_two_digit_number_to_word(1))\n",
    "# print(convert_two_digit_number_to_word(8))\n",
    "# print(convert_two_digit_number_to_word(11))\n",
    "# print(convert_two_digit_number_to_word(15))\n",
    "# print(convert_two_digit_number_to_word(26))\n",
    "# print(convert_two_digit_number_to_word(74))"
   ]
  },
  {
   "cell_type": "code",
   "execution_count": 28,
   "metadata": {},
   "outputs": [],
   "source": [
    "# Function will convert a number to how it would be written as a word\n",
    "# Works for 1 to 1000 (inclusive)\n",
    "# Note: not using hyphens/whitespace as I'll just have to remove them eventually\n",
    "def convert_number_to_word(x):\n",
    "    single_digit_dict = {0:'',1:'one',2:'two',3:'three',4:'four',5:'five',6:'six',7:'seven',8:'eight',9:'nine'}\n",
    "    \n",
    "    if x==1000:\n",
    "        return 'onethousand'\n",
    "    elif x in range(100,1000,100): # Special cases - no \"and\"\n",
    "        return single_digit_dict[int(str(x)[0])] + 'hundred'\n",
    "    elif x>=100:\n",
    "        return single_digit_dict[int(str(x)[0])] + 'hundredand' + convert_two_digit_number_to_word(int(str(x)[1:3]))\n",
    "    else: #x<100\n",
    "        return convert_two_digit_number_to_word(x)"
   ]
  },
  {
   "cell_type": "code",
   "execution_count": 29,
   "metadata": {},
   "outputs": [],
   "source": [
    "# print(convert_number_to_word(7))\n",
    "# print(convert_number_to_word(68))\n",
    "# print(convert_number_to_word(115))\n",
    "# print(convert_number_to_word(342))\n",
    "# print(convert_number_to_word(500))"
   ]
  },
  {
   "cell_type": "code",
   "execution_count": 30,
   "metadata": {},
   "outputs": [],
   "source": [
    "# print(len(convert_number_to_word(115))) #20 letters from problem statement\n",
    "# print(len(convert_number_to_word(342))) #23 letters from problem statement"
   ]
  },
  {
   "cell_type": "code",
   "execution_count": 31,
   "metadata": {},
   "outputs": [],
   "source": [
    "def solve_problem_17(n=1000):\n",
    "    total_letters = 0\n",
    "    for x in range(1,n+1):\n",
    "        word = convert_number_to_word(x)\n",
    "        number_letters = len(word)\n",
    "        total_letters = total_letters + number_letters\n",
    "    return total_letters\n",
    "\n",
    "#print(solve_problem_17(5)) #19\n",
    "#solve_problem_17()"
   ]
  },
  {
   "cell_type": "markdown",
   "metadata": {},
   "source": [
    "### Problem 18: Maximum Path Sum I"
   ]
  },
  {
   "cell_type": "code",
   "execution_count": 32,
   "metadata": {},
   "outputs": [],
   "source": [
    "# Converts triangle from a string to a pseudo-triangular-matrix -\n",
    "# that is, a list of list of numbers where each list represents a row\n",
    "# Similar to question 11\n",
    "def prepare_triangle():\n",
    "    triangle=\"\"\"\n",
    "75\n",
    "95 64\n",
    "17 47 82\n",
    "18 35 87 10\n",
    "20 04 82 47 65\n",
    "19 01 23 75 03 34\n",
    "88 02 77 73 07 63 67\n",
    "99 65 04 28 06 16 70 92\n",
    "41 41 26 56 83 40 80 70 33\n",
    "41 48 72 33 47 32 37 16 94 29\n",
    "53 71 44 65 25 43 91 52 97 51 14\n",
    "70 11 33 28 77 73 17 78 39 68 17 57\n",
    "91 71 52 38 17 14 91 43 58 50 27 29 48\n",
    "63 66 04 68 89 53 67 30 73 16 69 87 40 31\n",
    "04 62 98 27 23 09 70 98 73 93 38 53 60 04 23\n",
    "\"\"\"\n",
    "    triangle = triangle.split('\\n')\n",
    "    triangle.remove('') #first\n",
    "    triangle.remove('') #last\n",
    "    triangle = [[int(x) for x in row.split(' ')] for row in triangle]\n",
    "\n",
    "    return triangle\n",
    "\n",
    "#prepare_triangle()"
   ]
  },
  {
   "cell_type": "markdown",
   "metadata": {},
   "source": [
    "Idea: work from bottom up - by summing and taking the max we can combine the bottom two rows into one (think of each number in the second last row as the top of a triangle with two items from the bottom row. Then calculate the maximum of getting to the top of it)"
   ]
  },
  {
   "cell_type": "code",
   "execution_count": 33,
   "metadata": {},
   "outputs": [],
   "source": [
    "def combine_rows_of_triangle(top_row, bottom_row):\n",
    "    return [(top_row[i]+max(bottom_row[i],bottom_row[i+1])) for i in range(0,len(top_row))]\n",
    "\n",
    "# triangle = prepare_triangle()\n",
    "# top_row = triangle[13]\n",
    "# bottom_row = triangle[14]\n",
    "# combine_rows_of_triangle(top_row=top_row,bottom_row=bottom_row)    "
   ]
  },
  {
   "cell_type": "code",
   "execution_count": 34,
   "metadata": {},
   "outputs": [],
   "source": [
    "def solve_problem_18():\n",
    "    triangle = prepare_triangle()\n",
    "    for i in range(len(triangle)-1,0,-1):\n",
    "        \n",
    "        # Calculate new bottom row\n",
    "        bottom_row = triangle[i]\n",
    "        top_row = triangle[i-1]\n",
    "        new_row = combine_rows_of_triangle(top_row, bottom_row)\n",
    "        \n",
    "        # Replace bottom two rows with new row\n",
    "        triangle.remove(top_row)\n",
    "        triangle.remove(bottom_row)\n",
    "        triangle.append(new_row)\n",
    "        \n",
    "    return triangle[0][0]\n",
    "    \n",
    "#solve_problem_18()"
   ]
  },
  {
   "cell_type": "markdown",
   "metadata": {},
   "source": [
    "### Problem 19: Counting Sundays"
   ]
  },
  {
   "cell_type": "markdown",
   "metadata": {},
   "source": [
    "Note: As Jan. 1, 1900 was a Monday and 1900 is not a leap year, this means Jan. 1, 1901 (where we start the problem) is a Tuesday (365 = 1 mod 7). It makes sense to start here instead."
   ]
  },
  {
   "cell_type": "markdown",
   "metadata": {},
   "source": [
    "We'll assign Sunday as 0 (so Monday=1, Tuesday=2), etc."
   ]
  },
  {
   "cell_type": "code",
   "execution_count": 35,
   "metadata": {},
   "outputs": [],
   "source": [
    "def is_leap_year(year):\n",
    "    return (year%4==0 and year%100!=0) or (year%400==0)\n",
    "\n",
    "# print(is_leap_year(1900)) #False\n",
    "# print(is_leap_year(1950)) #False\n",
    "# print(is_leap_year(1992)) #True\n",
    "# print(is_leap_year(2000)) #True"
   ]
  },
  {
   "cell_type": "code",
   "execution_count": 36,
   "metadata": {},
   "outputs": [],
   "source": [
    "def solve_problem_19():\n",
    "\n",
    "    initial_date = 2\n",
    "    counter = 0\n",
    "    \n",
    "    for year in range(1901,2001):\n",
    "        for month in range(1,13):\n",
    "            if month==2:\n",
    "                if is_leap_year(year):\n",
    "                    initial_date = (initial_date + 29) % 7\n",
    "                    if initial_date == 0:\n",
    "                        counter+=1\n",
    "                else:\n",
    "                    initial_date = (initial_date + 28) % 7\n",
    "                    if initial_date == 0:\n",
    "                        counter+=1\n",
    "\n",
    "            elif month in [4,6,9,11]:\n",
    "                initial_date = (initial_date + 30) % 7\n",
    "                if initial_date == 0:\n",
    "                    counter+=1\n",
    "\n",
    "            else:\n",
    "                initial_date = (initial_date + 31) % 7\n",
    "                if initial_date == 0:\n",
    "                    counter+=1\n",
    "\n",
    "    return counter\n",
    "\n",
    "#solve_problem_19()"
   ]
  },
  {
   "cell_type": "markdown",
   "metadata": {},
   "source": [
    "### Problem 20: Factorial Digit Sum"
   ]
  },
  {
   "cell_type": "markdown",
   "metadata": {},
   "source": [
    "Similar to 16, this one is pretty easy with Python."
   ]
  },
  {
   "cell_type": "code",
   "execution_count": 37,
   "metadata": {},
   "outputs": [],
   "source": [
    "def solve_problem_20():\n",
    "    num = math.factorial(100)\n",
    "    num_list=list(str(num))\n",
    "    num_list=[int(x) for x in num_list]\n",
    "    return sum(num_list)\n",
    "\n",
    "#solve_problem_20()"
   ]
  },
  {
   "cell_type": "markdown",
   "metadata": {},
   "source": [
    "### Problem 21: Amicable Numbers"
   ]
  },
  {
   "cell_type": "code",
   "execution_count": 38,
   "metadata": {},
   "outputs": [],
   "source": [
    "# Function that returns the sum of the divisors of a number\n",
    "def sum_divisors(x):\n",
    "    divisor_list = [1] # Don't want x in list\n",
    "    upper_bound = int(x**0.5)\n",
    "    for i in range(2, upper_bound+1):\n",
    "        if x%i==0:\n",
    "            if x//i==i:\n",
    "                divisor_list.append(i)\n",
    "            else:\n",
    "                divisor_list.append(i)\n",
    "                divisor_list.append(x//i)\n",
    "    return sum(divisor_list)"
   ]
  },
  {
   "cell_type": "code",
   "execution_count": 39,
   "metadata": {},
   "outputs": [],
   "source": [
    "# print(sum_divisors(220))\n",
    "# print(sum_divisors(284))"
   ]
  },
  {
   "cell_type": "code",
   "execution_count": 40,
   "metadata": {},
   "outputs": [],
   "source": [
    "def solve_problem_21():\n",
    "    amicable_number_list = []\n",
    "    for i in range(1,10001):\n",
    "        if i in amicable_number_list:\n",
    "            pass\n",
    "        else:\n",
    "            divisor_sum = sum_divisors(i)\n",
    "            if (i == sum_divisors(divisor_sum)) and (i != divisor_sum):\n",
    "                amicable_number_list.append(i)\n",
    "                amicable_number_list.append(divisor_sum)\n",
    "    return sum(amicable_number_list)\n",
    "\n",
    "#solve_problem_21()"
   ]
  },
  {
   "cell_type": "markdown",
   "metadata": {},
   "source": [
    "### Problem 22: Names Scores"
   ]
  },
  {
   "cell_type": "code",
   "execution_count": 41,
   "metadata": {},
   "outputs": [],
   "source": [
    "# Helper function that takes in a name in all capitals, and returns its score based on the criteria of this question\n",
    "def name_value(name):\n",
    "    letter_scores=[(ord(letter)-64) for letter in list(name)]\n",
    "    return sum(letter_scores)\n",
    "\n",
    "#print(name_value('COLIN')) #53"
   ]
  },
  {
   "cell_type": "code",
   "execution_count": 42,
   "metadata": {},
   "outputs": [],
   "source": [
    "import numpy as np\n",
    "import pandas as pd\n",
    "\n",
    "\n",
    "def solve_problem_22():\n",
    "    \n",
    "    # Load the file\n",
    "    import numpy as np\n",
    "    import pandas as pd\n",
    "    df=pd.read_csv('data/p022_names.txt')\n",
    "    \n",
    "    # Reformat the file and sort\n",
    "    df=df.T.sort_index().reset_index().reset_index()\n",
    "    df.rename(columns={'index':'NAME', 'level_0':'POSITION'},inplace=True)\n",
    "    \n",
    "    # Add 1 to POSITION, create a VALUE column and then multiply to get score\n",
    "    df['POSITION'] = df['POSITION'].apply(lambda x: x+1)\n",
    "    df['VALUE'] = df['NAME'].apply(name_value)\n",
    "    df['SCORE'] = df['POSITION'] * df['VALUE']\n",
    "    \n",
    "#     display(df.shape)\n",
    "#     display(df.head())\n",
    "#     display(df[df['NAME']=='COLIN'])\n",
    "    \n",
    "    # Return the sum\n",
    "    return df['SCORE'].sum()\n",
    "    \n",
    "#solve_problem_22()"
   ]
  },
  {
   "cell_type": "markdown",
   "metadata": {},
   "source": [
    "### Problem 23: Non-Abundant Sums"
   ]
  },
  {
   "cell_type": "code",
   "execution_count": 43,
   "metadata": {},
   "outputs": [],
   "source": [
    "# Function that returns the sum of the proper divisors of a number\n",
    "# From problem 21\n",
    "def sum_divisors(x):\n",
    "    divisor_list = [1] # Don't want x in list\n",
    "    upper_bound = int(x**0.5)\n",
    "    for i in range(2, upper_bound+1):\n",
    "        if x%i==0:\n",
    "            if x//i==i:\n",
    "                divisor_list.append(i)\n",
    "            else:\n",
    "                divisor_list.append(i)\n",
    "                divisor_list.append(x//i)\n",
    "    return sum(divisor_list)"
   ]
  },
  {
   "cell_type": "code",
   "execution_count": 44,
   "metadata": {},
   "outputs": [
    {
     "name": "stdout",
     "output_type": "stream",
     "text": [
      "6965\n"
     ]
    }
   ],
   "source": [
    "def create_abundant_numbers_list(cutoff=28123):\n",
    "    abundant_list = []\n",
    "    for i in range(2,cutoff+1): # we'll skip 1\n",
    "        if sum_divisors(i)>i:\n",
    "            abundant_list.append(i)\n",
    "    return abundant_list\n",
    "    \n",
    "print(len(create_abundant_numbers_list()))"
   ]
  },
  {
   "cell_type": "code",
   "execution_count": 45,
   "metadata": {
    "scrolled": true
   },
   "outputs": [
    {
     "name": "stdout",
     "output_type": "stream",
     "text": [
      "CPU times: user 2 µs, sys: 0 ns, total: 2 µs\n",
      "Wall time: 5.01 µs\n"
     ]
    }
   ],
   "source": [
    "%%time\n",
    "\n",
    "def solve_problem_23():\n",
    "    non_abundant_sums = []\n",
    "    abundant_numbers = set(create_abundant_numbers_list())\n",
    "    for i in range(1,28123+1):\n",
    "        possible_sums = {x for x in abundant_numbers if x<i}\n",
    "        subtract_sums = {i-x for x in possible_sums}\n",
    "        if len(possible_sums.intersection(subtract_sums)) == 0:\n",
    "            non_abundant_sums.append(i)\n",
    "    #print(len(non_abundant_sums))\n",
    "    return sum(non_abundant_sums)\n",
    "\n",
    "#solve_problem_23()"
   ]
  },
  {
   "cell_type": "markdown",
   "metadata": {},
   "source": [
    "### Problem 25: 1000-Digit Fibonacci Number"
   ]
  },
  {
   "cell_type": "code",
   "execution_count": 46,
   "metadata": {},
   "outputs": [],
   "source": [
    "def solve_problem_25(n=1000):\n",
    "    small_term = 1\n",
    "    big_term = 1\n",
    "    big_term_index = 2\n",
    "    \n",
    "    while True:\n",
    "        new_big_term = big_term + small_term\n",
    "        small_term = big_term\n",
    "        big_term = new_big_term\n",
    "        big_term_index += 1\n",
    "        \n",
    "        if len(str(big_term))>=n:\n",
    "            break\n",
    "        \n",
    "    return big_term_index\n",
    "\n",
    "#solve_problem_25(3) #12\n",
    "#solve_problem_25()"
   ]
  },
  {
   "cell_type": "markdown",
   "metadata": {},
   "source": [
    "### Problem 29: Distinct Powers"
   ]
  },
  {
   "cell_type": "code",
   "execution_count": 47,
   "metadata": {},
   "outputs": [],
   "source": [
    "def solve_problem_29():\n",
    "    ab_set = set()\n",
    "    for a in range(2,101):\n",
    "        b_set = set([a**b for b in range(2,101)])\n",
    "        ab_set = ab_set.union(b_set)\n",
    "    return len(ab_set)\n",
    "\n",
    "#solve_problem_29()"
   ]
  },
  {
   "cell_type": "markdown",
   "metadata": {},
   "source": [
    "### Problem 30: Digit Fifth Powers"
   ]
  },
  {
   "cell_type": "code",
   "execution_count": 48,
   "metadata": {},
   "outputs": [],
   "source": [
    "def solve_problem_30():\n",
    "    digit_fifth_powers_list=[]\n",
    "    # Note: as 9^5+9^5+9^5+9^5+9^5+9^5=354,294 < 999,999, this is an upper bound\n",
    "    for n in range(10,1000000): # ignoring single digits - not a sum\n",
    "        digit_fifth_powers=[int(x)**5 for x in list(str(n))]\n",
    "        if sum(digit_fifth_powers)==n:\n",
    "            digit_fifth_powers_list.append(n)\n",
    "    return sum(digit_fifth_powers_list)\n",
    "\n",
    "#solve_problem_30()"
   ]
  },
  {
   "cell_type": "markdown",
   "metadata": {},
   "source": [
    "### Problem 34: Digit Factorials"
   ]
  },
  {
   "cell_type": "code",
   "execution_count": 49,
   "metadata": {},
   "outputs": [],
   "source": [
    "# Returns a boolean. Name should explain function.\n",
    "# i.e. 145 -> 1! + 4! + 5! = 1 + 24 + 120 = 145 -> return True\n",
    "def check_number_equal_to_sum_of_factorial_of_digits(x):\n",
    "    digit_list = [int(digit) for digit in str(x)]\n",
    "    factorial_of_digits_list = [math.factorial(digit) for digit in digit_list]\n",
    "    digit_factorial_sum = sum(factorial_of_digits_list)\n",
    "    return digit_factorial_sum==x"
   ]
  },
  {
   "cell_type": "code",
   "execution_count": 50,
   "metadata": {},
   "outputs": [],
   "source": [
    "# print(check_number_equal_to_sum_of_factorial_of_digits(145))\n",
    "# print(check_number_equal_to_sum_of_factorial_of_digits(20))"
   ]
  },
  {
   "cell_type": "markdown",
   "metadata": {},
   "source": [
    "Going to loop through some numbers because Python is fast. Is there an efficient way to do this?"
   ]
  },
  {
   "cell_type": "code",
   "execution_count": 51,
   "metadata": {},
   "outputs": [],
   "source": [
    "def solve_problem_34():\n",
    "    digit_factorial_list=[]\n",
    "    i=10 # starting in double digits because single digits cannot be a \"sum\" of their digits\n",
    "    while i < 9999999: # Upper bound since max factorial sum would be 7 * 9! = 2,540,160 < 9,999,999\n",
    "        if check_number_equal_to_sum_of_factorial_of_digits(i):\n",
    "            digit_factorial_list.append(i)\n",
    "        i+=1\n",
    "    return sum(digit_factorial_list)\n",
    "\n",
    "#solve_problem_34()"
   ]
  },
  {
   "cell_type": "markdown",
   "metadata": {},
   "source": [
    "### Problem 61: Cyclical Figurate Numbers"
   ]
  },
  {
   "cell_type": "markdown",
   "metadata": {},
   "source": [
    "Let Px,n represent the nth figurate number of degree x."
   ]
  },
  {
   "cell_type": "markdown",
   "metadata": {},
   "source": [
    "i.e. P3,127 = 8128 would be the 127th figurate number of degree 3 (aka a triangle figurate number)"
   ]
  },
  {
   "cell_type": "markdown",
   "metadata": {},
   "source": [
    "Some quick algebra shows that the lowest n to generate a 4 digit figurate number if x can only be one of 3,4,5,6,7,8 is 19 (x=8). The highest n would be 140 (x=3). This establishes some bounds."
   ]
  },
  {
   "cell_type": "code",
   "execution_count": 52,
   "metadata": {},
   "outputs": [],
   "source": [
    "# This function will calculate Px,n\n",
    "def calculate_Pxn(x,n):\n",
    "    if x==3:\n",
    "        return n*(n+1)//2\n",
    "    elif x==4:\n",
    "        return n**2\n",
    "    elif x==5:\n",
    "        return n*(3*n-1)//2\n",
    "    elif x==6:\n",
    "        return n*(2*n-1)\n",
    "    elif x==7:\n",
    "        return n*(5*n-3)//2\n",
    "    elif x==8:\n",
    "        return n*(3*n-2)\n",
    "    else:\n",
    "        return 'Incorrect x value'"
   ]
  },
  {
   "cell_type": "code",
   "execution_count": 53,
   "metadata": {},
   "outputs": [],
   "source": [
    "# print(calculate_Pxn(3,5))\n",
    "# print(calculate_Pxn(4,5))\n",
    "# print(calculate_Pxn(5,5))\n",
    "# print(calculate_Pxn(6,5))\n",
    "# print(calculate_Pxn(7,5))\n",
    "# print(calculate_Pxn(8,5))"
   ]
  },
  {
   "cell_type": "code",
   "execution_count": 54,
   "metadata": {},
   "outputs": [],
   "source": [
    "# print(calculate_Pxn(3,127))\n",
    "# print(calculate_Pxn(4,91))\n",
    "# print(calculate_Pxn(5,44))"
   ]
  },
  {
   "cell_type": "code",
   "execution_count": 55,
   "metadata": {},
   "outputs": [],
   "source": [
    "# This function will generate a list of all 4 digit figurate numbers for a specified n, \n",
    "# where n can be one of [3,4,5,6,7,8]\n",
    "# This should hopefully give me an idea on the scope of the problem.\n",
    "\n",
    "# Update: we can thin this a bit further. Since each number needs to be in a cyclic series of 4 digit numbers,\n",
    "# meaning its last two digits are the first two of another number, this means the third digit cannot be 0.\n",
    "# (4 digit number cannot start with 0 - at least I hope we're not including that)\n",
    "def generate_four_digit_figurate_numbers(x):\n",
    "    figurate_number_list = []\n",
    "    for n in range(19, 141):\n",
    "        figurate_number=calculate_Pxn(x,n)\n",
    "        if len(str(figurate_number))!=4: # number must be 4 digits\n",
    "            continue\n",
    "        elif str(figurate_number)[2]=='0': # number must be cyclic\n",
    "            continue\n",
    "        else:\n",
    "            figurate_number_list.append(figurate_number)\n",
    "    return figurate_number_list"
   ]
  },
  {
   "cell_type": "code",
   "execution_count": 56,
   "metadata": {
    "scrolled": true
   },
   "outputs": [
    {
     "name": "stdout",
     "output_type": "stream",
     "text": [
      "88\n",
      "53\n",
      "47\n",
      "44\n",
      "40\n",
      "30\n"
     ]
    }
   ],
   "source": [
    "for x in range(3,9):\n",
    "    print(len(generate_four_digit_figurate_numbers(x)))"
   ]
  },
  {
   "cell_type": "code",
   "execution_count": 57,
   "metadata": {},
   "outputs": [],
   "source": [
    "# Function will check if ordered sequence of numbers is cyclic\n",
    "# Pass in sequence as list\n",
    "def check_if_sequence_is_cyclic(sequence):\n",
    "    sequence = [str(x) for x in sequence] # convert to string\n",
    "    \n",
    "    # We'll first check that the last 2 digits of last number equal first 2 of first\n",
    "    if sequence[0][0:2] != sequence[-1][2:4]:\n",
    "        outcome=False\n",
    "    else:\n",
    "        outcome=True\n",
    "        for i in range(0,len(sequence)-1):\n",
    "            if sequence[i][2:4]!=sequence[i+1][0:2]:\n",
    "                outcome=False\n",
    "                break\n",
    "            else:\n",
    "                continue\n",
    "    return outcome"
   ]
  },
  {
   "cell_type": "code",
   "execution_count": 58,
   "metadata": {},
   "outputs": [],
   "source": [
    "# print(check_if_sequence_is_cyclic([8128,2882,8281]))\n",
    "# print(check_if_sequence_is_cyclic([1283,8382,8256,5617,1781]))\n",
    "# print(check_if_sequence_is_cyclic([1283,8382,8256,5512]))"
   ]
  },
  {
   "cell_type": "markdown",
   "metadata": {},
   "source": [
    "Let's build the sequence."
   ]
  },
  {
   "cell_type": "code",
   "execution_count": 59,
   "metadata": {},
   "outputs": [],
   "source": [
    "def build_cyclic_sequence():\n",
    "    \n",
    "    # Set up - we'll store the partial sequences as a tuple: the first entry the potential cyclic sequence \n",
    "    # and the second entry will represent the corresponding degrees for each entry to ensure we get them all\n",
    "    # WLOG, we can assume the sequence starts with a term of degree 8 (has least number of cyclic numbers in range)\n",
    "    list_of_cyclic_sequences = [([x8],[8]) for x8 in generate_four_digit_figurate_numbers(8)]\n",
    "    \n",
    "    \n",
    "    # This helper function will add one item to our list of potential cyclic sequences\n",
    "    # The new item will only be added if it shares its first two digits with the last two digits of the last item \n",
    "    # of the potential sequence and if its degree does not already have a corresponding element in the \n",
    "    # potential sequence.\n",
    "    def continue_cyclic_sequence(list_to_continue):\n",
    "        extended_list_of_cyclic_sequences = []\n",
    "        current_size_of_sequence = len(list_to_continue[0][0])\n",
    "        for sequence in list_to_continue:\n",
    "            for n in [3,4,5,6,7]:\n",
    "                if n in sequence[1]:\n",
    "                    continue\n",
    "                else:\n",
    "                    for item in generate_four_digit_figurate_numbers(n):\n",
    "                        if str(sequence[0][current_size_of_sequence-1])[2:4] == str(item)[0:2]:\n",
    "                            extended_list_of_cyclic_sequences.append((sequence[0]+[item],sequence[1]+[n]))\n",
    "        return extended_list_of_cyclic_sequences\n",
    "    \n",
    "    \n",
    "    # Need to run the function five times\n",
    "    for i in range(0,5):\n",
    "        list_of_cyclic_sequences = continue_cyclic_sequence(list_of_cyclic_sequences)\n",
    "        \n",
    "    \n",
    "    # Now we just find which one is actually cyclic\n",
    "    for sequence in list_of_cyclic_sequences:\n",
    "        if check_if_sequence_is_cyclic(sequence[0]):\n",
    "            cyclic_sequence = sequence[0]\n",
    "            break \n",
    "    \n",
    "    # Return it\n",
    "    return cyclic_sequence\n",
    "\n",
    "\n",
    "def solve_problem_61():\n",
    "    return sum(build_cyclic_sequence())\n",
    "\n",
    "#solve_problem_61()"
   ]
  },
  {
   "cell_type": "markdown",
   "metadata": {},
   "source": [
    "### Problem 67: Maximum Path Sum II"
   ]
  },
  {
   "cell_type": "markdown",
   "metadata": {},
   "source": [
    "As the names imply, this problem is similar to #18 though the triangle is bigger. However, my code from #18 will still work."
   ]
  },
  {
   "cell_type": "code",
   "execution_count": 60,
   "metadata": {},
   "outputs": [],
   "source": [
    "# Converts triangle from a string to a pseudo-triangular-matrix -\n",
    "# that is, a list of list of numbers where each list represents a row\n",
    "# Similar to question 11\n",
    "def prepare_triangle_ii():\n",
    "    with open('data/p067_triangle.txt', 'r') as file:\n",
    "        triangle = file.read()\n",
    "    triangle = triangle.split('\\n')\n",
    "    #triangle.remove('') #first\n",
    "    triangle.remove('') #last\n",
    "    triangle = [[int(x) for x in row.split(' ')] for row in triangle]\n",
    "    return triangle\n",
    "\n",
    "#prepare_triangle_ii()\n",
    "\n",
    "\n",
    "# Exactly from Problem 18\n",
    "def combine_rows_of_triangle(top_row, bottom_row):\n",
    "    return [(top_row[i]+max(bottom_row[i],bottom_row[i+1])) for i in range(0,len(top_row))]\n",
    "\n",
    "\n",
    "def solve_problem_67():\n",
    "    triangle = prepare_triangle_ii()\n",
    "    for i in range(len(triangle)-1,0,-1):\n",
    "        \n",
    "        # Calculate new bottom row\n",
    "        bottom_row = triangle[i]\n",
    "        top_row = triangle[i-1]\n",
    "        new_row = combine_rows_of_triangle(top_row, bottom_row)\n",
    "        \n",
    "        # Replace bottom two rows with new row\n",
    "        triangle.remove(top_row)\n",
    "        triangle.remove(bottom_row)\n",
    "        triangle.append(new_row)\n",
    "        \n",
    "    return triangle[0][0]\n",
    "    \n",
    "#solve_problem_67()"
   ]
  },
  {
   "cell_type": "markdown",
   "metadata": {},
   "source": [
    "### Problem 152: Writing 1/2 as a Sum of Inverse Squares"
   ]
  },
  {
   "cell_type": "markdown",
   "metadata": {},
   "source": [
    "#### i. Functions"
   ]
  },
  {
   "cell_type": "markdown",
   "metadata": {},
   "source": [
    "Here are some functions and constants that I find myself returning to frequently"
   ]
  },
  {
   "cell_type": "code",
   "execution_count": 61,
   "metadata": {
    "scrolled": false
   },
   "outputs": [
    {
     "name": "stdout",
     "output_type": "stream",
     "text": [
      "604462909807314587353088\n",
      "[2]\n",
      "1051955226159785296527938644268159905745060258708849004347541404160000\n",
      "6\n",
      "78\n"
     ]
    }
   ],
   "source": [
    "# Constants I will be using a lot. I will be trying to shrink possible_n and expand must_include.\n",
    "possible_n = [n for n in range(2,81)]\n",
    "must_include = []\n",
    "\n",
    "# Will give me total number of possible combinations of sequence of numbers whose inverse squares sum to 1/2\n",
    "def total_possible_combinations():\n",
    "    return 2**(len(possible_n) - len(must_include))\n",
    "\n",
    "\n",
    "# Calculates which n must be included in the sum of inverse squares so that the sum will actually be high enough\n",
    "# to get to 1/2.\n",
    "# Here's the motivation for this function:\n",
    "# If you sum up all the inverse squares from 2 to 80, you get a total of about 0.6235.\n",
    "# Of course 1/2 = 0.5 so if for a particular n the inverse square is greater than the difference (approx 0.1235),\n",
    "# then that n has to be included.\n",
    "# For example, consider n=2. 1/(2^2)=0.25 so any combination of integers between 2 and 80 must include n=2\n",
    "# because otherwise the sum would be guaranteed to be smaller than 1/2.\n",
    "# n=2 is the only one that is included from the start but as I shrink possible_n, this will increase\n",
    "# Note: the idea for this came from the fact that I noticed all the combinations in the example contained 2,3,4\n",
    "# and a couple other low n because eventually 1/n^2 becomes very small.\n",
    "def determine_must_include():\n",
    "    # Calculate the threshold/difference\n",
    "    total=0\n",
    "    for n in possible_n:\n",
    "        total=total+(1 / (n**2))\n",
    "    difference = total - 0.5\n",
    "    #print(difference)\n",
    "    \n",
    "    # Determine which n must be included. We'll assume possible_n is sorted.\n",
    "    for n in possible_n:\n",
    "        #print(n)\n",
    "        if n in must_include:\n",
    "            pass\n",
    "        elif (1 / (n**2)) > difference:\n",
    "            must_include.append(n)\n",
    "        else:\n",
    "            break\n",
    "            \n",
    "    return must_include\n",
    "\n",
    "\n",
    "# Takes in a list of numbers (generally possible_n), and outputs the least common multiple of their squares\n",
    "def calculate_lcm_of_squares(list_of_num=possible_n):\n",
    "    lcm = list_of_num[0]**2 # Initialize\n",
    "    for n in list_of_num[1:]:\n",
    "        y = n**2\n",
    "        lcm = lcm * y // math.gcd(lcm, y)\n",
    "    return lcm\n",
    "\n",
    "\n",
    "# Want to set a bound of the least number of terms I have to sum to get to 1/2. This will give me an idea of the \n",
    "# min number of numbers each combination needs, thereby reducing how many I need to loop through\n",
    "def calculate_minimum_number_of_squares(list_of_num=possible_n):\n",
    "    i=0\n",
    "    total=0\n",
    "    list_of_num.sort()\n",
    "    for n in list_of_num:\n",
    "        if total>=0.5:\n",
    "            #print(i)\n",
    "            break\n",
    "        else:\n",
    "            total=total+(1 / (n**2))\n",
    "            #print(total)\n",
    "            i+=1\n",
    "    return i\n",
    "\n",
    "\n",
    "# Similar to above but more specific to this question (in that the must_include list matters), function will\n",
    "# set an upper bound on the number of squares that are included in a successful sequence.\n",
    "# This upper bound will depend on which numbers must be included. So we'll include those and then do something\n",
    "# similar to minimum function.\n",
    "def calculate_maximum_number_of_squares(possible_n=possible_n, must_include=must_include):\n",
    "    # Set up\n",
    "    i=0\n",
    "    total=0\n",
    "    possible_include = [item for item in possible_n if item not in must_include]\n",
    "    possible_include.sort(reverse=True) # Want to sort in reverse order so we get smallest inverse square values first\n",
    "    \n",
    "    # Loop through must include and add to sum\n",
    "    for n in must_include:\n",
    "        total=total+(1 / (n**2))\n",
    "        i+=1\n",
    "        \n",
    "    # Loop through possible_include\n",
    "    for n in possible_include:\n",
    "        #print(n)\n",
    "        if total>=0.5:\n",
    "            #print(i)\n",
    "            break\n",
    "        else:\n",
    "            total=total+(1 / (n**2))\n",
    "            #print(total)\n",
    "            i+=1  \n",
    "    \n",
    "    return i\n",
    "\n",
    "\n",
    "\n",
    "print(total_possible_combinations())\n",
    "print(determine_must_include())\n",
    "print(calculate_lcm_of_squares())\n",
    "print(calculate_minimum_number_of_squares())\n",
    "print(calculate_maximum_number_of_squares())"
   ]
  },
  {
   "cell_type": "markdown",
   "metadata": {},
   "source": [
    "Functions for brute forcing"
   ]
  },
  {
   "cell_type": "code",
   "execution_count": 62,
   "metadata": {},
   "outputs": [
    {
     "name": "stdout",
     "output_type": "stream",
     "text": [
      "False\n",
      "True\n",
      "True\n",
      "True\n"
     ]
    }
   ],
   "source": [
    "import itertools\n",
    "\n",
    "# Takes a list of numbers, and determines if the sum of inverse squares equals 1/2\n",
    "# i.e. Would the list satisfy the requirements of the problem\n",
    "def check_sum_of_inverse_squares_equals_one_half(list_of_num):\n",
    "    lcm = calculate_lcm_of_squares(list_of_num)\n",
    "    ls = lcm // 2\n",
    "    rs = 0\n",
    "    for num in list_of_num:\n",
    "        rs = rs + (lcm // (num**2))\n",
    "    return ls == rs\n",
    "\n",
    "\n",
    "# Will determine every possible list of num from possible_n and must_include\n",
    "# Then I can loop through all possibilities\n",
    "def create_every_possible_subset(possible_n=possible_n, must_include=must_include):\n",
    "    # Constants\n",
    "    total_choices = len(possible_n) - len(must_include)\n",
    "    min_elements = calculate_minimum_number_of_squares(possible_n) - len(must_include)\n",
    "    max_elements = calculate_maximum_number_of_squares(possible_n,must_include) - len(must_include)\n",
    "    list_of_choices = [item for item in possible_n if item not in must_include]\n",
    "    \n",
    "    # Set up\n",
    "    all_subsets=[]\n",
    "        \n",
    "    # Loop through and create subsets\n",
    "    for k in range(min_elements,max_elements+1):\n",
    "        for item in list(itertools.combinations(list_of_choices, k)):\n",
    "            new_subset = must_include + list(item)\n",
    "            all_subsets.append(new_subset)\n",
    "    \n",
    "    return all_subsets\n",
    "\n",
    "\n",
    "# Loops through every possible subset and determines which sequences would satisfy the requirements of this problem\n",
    "def determine_sequences_whose_sum_of_inverse_squares_equals_one_half(possible_n=possible_n, must_include=must_include):\n",
    "    all_sequences=create_every_possible_subset(possible_n,must_include)\n",
    "    correct_sequences=[]\n",
    "    for sequence in all_sequences:\n",
    "        if check_sum_of_inverse_squares_equals_one_half(sequence):\n",
    "            correct_sequences.append(sequence)\n",
    "    return correct_sequences\n",
    "\n",
    "\n",
    "# Testing\n",
    "print(check_sum_of_inverse_squares_equals_one_half([2,3,4,5,6])) # False\n",
    "print(check_sum_of_inverse_squares_equals_one_half([2,3,4,5,7,12,15,20,28,35])) # True\n",
    "print(check_sum_of_inverse_squares_equals_one_half([2,3,4,6,7,9,10,20,28,35,36,45])) # True\n",
    "print(check_sum_of_inverse_squares_equals_one_half([2,3,4,6,7,9,12,15,28,30,35,36,45])) # True\n",
    "\n",
    "#print(create_every_possible_subset(possible_n=possible_n[0:10]))\n",
    "#print(determine_sequences_whose_sum_of_inverse_squares_equals_one_half(possible_n=possible_n[0:44]))\n",
    "\n",
    "# From the example, should be 3\n",
    "A={2,3,4,5,7,12,15,20,28,35}\n",
    "B={2,3,4,6,7,9,10,20,28,35,36,45}\n",
    "C={2,3,4,6,7,9,12,15,28,30,35,36,45}\n",
    "AB=A.union(B)\n",
    "ABC=AB.union(C)\n",
    "#print(determine_sequences_whose_sum_of_inverse_squares_equals_one_half(possible_n=list(ABC),must_include=[2,3,4,7,28,35]))"
   ]
  },
  {
   "cell_type": "markdown",
   "metadata": {},
   "source": [
    "This function is for determining the nonzero coefficients when we multiply both sides of the equation by the lcm of the squares and reduce mod m, for any m that divides the lcm of the squares. This will help us find ways to reduce the problem. I explain it in more detail in the next section."
   ]
  },
  {
   "cell_type": "code",
   "execution_count": 63,
   "metadata": {},
   "outputs": [
    {
     "name": "stdout",
     "output_type": "stream",
     "text": [
      "[(1, 64)]\n",
      "[(1, 27), (1, 54)]\n",
      "[(4, 49)]\n",
      "[(4, 32), (1, 64)]\n"
     ]
    }
   ],
   "source": [
    "# For more information, see the next section\n",
    "# Consider sum(In/n**2) = 1/2, where In=1 if n is included in sum and 0 otherwise\n",
    "# Multiply by lcm and reduce mod m for any m that divides lcm (for instance, any m in possible_n)\n",
    "# (with possible exception of 2 as right side is divided by 2)\n",
    "# Then we get sum(In*lcm/n**2) = 0 mod m and we get some possible equations to reduce the problem.\n",
    "# This function will give us the coefficients for the In for any m\n",
    "def determine_coeff_of_modular_equation_mod_m(m,possible_n=possible_n):\n",
    "    lcm = calculate_lcm_of_squares(possible_n)\n",
    "    coeff = [(((lcm//(n**2))%m),n) for n in possible_n if ((lcm//(n**2))%m)!=0]\n",
    "    return coeff\n",
    "\n",
    "# Checking my work I did by hand with the function that I wrote later - everything looks good!\n",
    "print(determine_coeff_of_modular_equation_mod_m(2, possible_n=possible_n))\n",
    "print(determine_coeff_of_modular_equation_mod_m(3, possible_n=possible_n))\n",
    "print(determine_coeff_of_modular_equation_mod_m(7, possible_n=possible_n))\n",
    "print(determine_coeff_of_modular_equation_mod_m(8, possible_n=possible_n))"
   ]
  },
  {
   "cell_type": "markdown",
   "metadata": {},
   "source": [
    "#### ii. Reducing the Problem"
   ]
  },
  {
   "cell_type": "code",
   "execution_count": 64,
   "metadata": {},
   "outputs": [],
   "source": [
    "prime_list = [2, 3, 5, 7, 11, 13, 17, 19, 23, 29, 31, 37, 41, 43, 47, 53, 59, 61, 67, 71, 73, 79]"
   ]
  },
  {
   "cell_type": "markdown",
   "metadata": {},
   "source": [
    "Note: if you look at the prime factors of the squares in the [2,45] example, they are all either 2,3,5,7 - nothing else! This is because if you multiply both sides of the equation<br/>\n",
    "1/2 = sum 1/n^2<br/>\n",
    "by the least common multiple, we get<br/>\n",
    "lcm/2 = sum lcm/n^2<br/>\n",
    "=> sum lcm/n^2 = 0 (mod p^2) for all primes p (with some exceptions for p=2) since p^2|lcm<br/>\n",
    "So we can see that if 4p>80 for some p, then this equation reduces to:<br/>\n",
    "lcm/(p)^2+lcm/(2p)^2+lcm/(3p)^2 = 0 (mod p^2) <br/>\n",
    "=>a((2 * 3)^2 + (2)^2 + (3)^2 = 0 (mod p^2) for some factor a by definition of lcm<br/>\n",
    "=>36+4+9 = 0 (mod p^2)<br/>\n",
    "=>49 = 0 (mod p^2), which can only happen if p=7.<br/>\n",
    "We get something similar for any combination of p^2, (2p)^2, (3p)^2 <br/>\n",
    "(obviously for this problem, they need not all be selected as I did above. But you'll get something similar if you go through my logic with the other combinations. Let's call it an exercise.)<br/>\n",
    "So we must have 4p<=80 and hence p<=20.<br/>\n",
    "In other words, for any n to be included in the sum, we must have that its prime divisors are all below 20."
   ]
  },
  {
   "cell_type": "markdown",
   "metadata": {},
   "source": [
    "Note: I suspect it's also true that 5p<=80 and hence p<=16, but I haven't gone through all the cases. Anyways, the reduction to p<20 should be good enough.<br/>\n",
    "Update: it is! (If p is not 2 or 5 or 7 or 13). But there's a lot of cases to check so I won't show it."
   ]
  },
  {
   "cell_type": "code",
   "execution_count": 65,
   "metadata": {},
   "outputs": [
    {
     "name": "stdout",
     "output_type": "stream",
     "text": [
      "[17, 19, 23, 29, 31, 37, 41, 43, 47, 53, 59, 61, 67, 71, 73, 79]\n"
     ]
    }
   ],
   "source": [
    "bad_primes = prime_list[6:22]\n",
    "print(bad_primes)"
   ]
  },
  {
   "cell_type": "code",
   "execution_count": 66,
   "metadata": {},
   "outputs": [
    {
     "name": "stdout",
     "output_type": "stream",
     "text": [
      "52\n"
     ]
    }
   ],
   "source": [
    "for n in range(2,81):\n",
    "    for p in bad_primes:\n",
    "        if n%p==0:\n",
    "#             print(n)\n",
    "            possible_n.remove(n)\n",
    "            break\n",
    "        else:\n",
    "            continue\n",
    "print(len(possible_n))"
   ]
  },
  {
   "cell_type": "markdown",
   "metadata": {},
   "source": [
    "We can also eliminate some possible n using modular arithmetic:<br/>\n",
    "We want to find combinations of In such that<br/>\n",
    "sum(In/n^2) = 1/2<br/>\n",
    "where In=1 if n is included in the combination and 0 otherwise<br/>\n",
    "So multiplying by lcm we get<br/>\n",
    "sum(In * lcm / n^2) = lcm/2<br/>\n",
    "We now have that a sum of integers is equal to an integer so they must be equal mod m, for all m that divides lcm/2<br/>\n",
    "Choosing interesting m gives us some modular equations that we can use to solve for some In (I also suspect there may be a way to solve the entire problem this way, but I'm not completely convinced).<br/>"
   ]
  },
  {
   "cell_type": "markdown",
   "metadata": {},
   "source": [
    "Here are some interesting m<br/>\n",
    "Note: I came up with these through trial and error. Most are obvious if you try many m, remove and try again, etc. But to save space I will skip."
   ]
  },
  {
   "cell_type": "code",
   "execution_count": 67,
   "metadata": {
    "scrolled": true
   },
   "outputs": [
    {
     "name": "stdout",
     "output_type": "stream",
     "text": [
      "2 [(1, 64)]\n",
      "3 [(1, 27), (1, 54)]\n",
      "7 [(4, 49)]\n",
      "8 [(4, 32), (1, 64)]\n",
      "25 [(16, 25), (4, 50), (24, 75)]\n",
      "64 [(16, 16), (36, 32), (16, 48), (9, 64), (16, 80)]\n"
     ]
    }
   ],
   "source": [
    "for m in possible_n:\n",
    "    if m in [2,3,7,8,25,64]:\n",
    "        print(m, determine_coeff_of_modular_equation_mod_m(m))"
   ]
  },
  {
   "cell_type": "markdown",
   "metadata": {},
   "source": [
    "From these modular equations, we can clearly see that:<br/>\n",
    "1. I64=0 (n=2)<br/>\n",
    "2. I27=I54=0 (n=3)<br/>\n",
    "3. I49=0 (n=7)<br/>\n",
    "4. I32=0 (n=8 combined with the fact I64=0)<br/>\n",
    "5. I25=I50=I75=0 (n=25 - impossible to add to a nonzero multiple of 25)<br/>\n",
    "6. I16=I48=I80=0 (n=64 combined with the fact I32=I64=0 - impossible to add to a nonzero multiple of 64)<br/>\n",
    "<br/>\n",
    "Let's remove"
   ]
  },
  {
   "cell_type": "code",
   "execution_count": 68,
   "metadata": {},
   "outputs": [],
   "source": [
    "possible_n.remove(64)\n",
    "possible_n.remove(27)\n",
    "possible_n.remove(54)\n",
    "possible_n.remove(49)\n",
    "possible_n.remove(32)\n",
    "possible_n.remove(25)\n",
    "possible_n.remove(50)\n",
    "possible_n.remove(75)\n",
    "possible_n.remove(16)\n",
    "possible_n.remove(48)\n",
    "possible_n.remove(80)"
   ]
  },
  {
   "cell_type": "code",
   "execution_count": 69,
   "metadata": {},
   "outputs": [
    {
     "name": "stdout",
     "output_type": "stream",
     "text": [
      "41\n",
      "[2, 3, 4, 5, 6, 7, 8, 9, 10, 11, 12, 13, 14, 15, 18, 20, 21, 22, 24, 26, 28, 30, 33, 35, 36, 39, 40, 42, 44, 45, 52, 55, 56, 60, 63, 65, 66, 70, 72, 77, 78]\n"
     ]
    }
   ],
   "source": [
    "print(len(possible_n))\n",
    "print(possible_n)"
   ]
  },
  {
   "cell_type": "code",
   "execution_count": 70,
   "metadata": {},
   "outputs": [
    {
     "data": {
      "text/plain": [
       "1099511627776"
      ]
     },
     "execution_count": 70,
     "metadata": {},
     "output_type": "execute_result"
    }
   ],
   "source": [
    "total_possible_combinations()"
   ]
  },
  {
   "cell_type": "markdown",
   "metadata": {},
   "source": [
    "Let's retry seeing what n must be included"
   ]
  },
  {
   "cell_type": "code",
   "execution_count": 71,
   "metadata": {},
   "outputs": [
    {
     "data": {
      "text/plain": [
       "[2, 3]"
      ]
     },
     "execution_count": 71,
     "metadata": {},
     "output_type": "execute_result"
    }
   ],
   "source": [
    "determine_must_include()"
   ]
  },
  {
   "cell_type": "markdown",
   "metadata": {},
   "source": [
    "We can also look at every number squared (as we're dealing with squares). I will look at 2 in particular:"
   ]
  },
  {
   "cell_type": "code",
   "execution_count": 72,
   "metadata": {},
   "outputs": [
    {
     "name": "stdout",
     "output_type": "stream",
     "text": [
      "121 [(114, 11), (89, 22), (53, 33), (113, 44), (82, 55), (104, 66), (69, 77)]\n",
      "169 [(16, 13), (4, 26), (152, 39), (1, 52), (75, 65), (38, 78)]\n"
     ]
    }
   ],
   "source": [
    "for m in possible_n:\n",
    "    if m==11 or m==13:\n",
    "        print(m**2, determine_coeff_of_modular_equation_mod_m(m**2))"
   ]
  },
  {
   "cell_type": "markdown",
   "metadata": {},
   "source": [
    "It takes a bit of work but by considering cases for the above two modular equations, we can show:<br/>\n",
    "1. I11=I22=I33=I44=I55=I66=I77=0\n",
    "2. I26=I65=I78=0"
   ]
  },
  {
   "cell_type": "code",
   "execution_count": 73,
   "metadata": {},
   "outputs": [],
   "source": [
    "possible_n.remove(11)\n",
    "possible_n.remove(22)\n",
    "possible_n.remove(33)\n",
    "possible_n.remove(44)\n",
    "possible_n.remove(55)\n",
    "possible_n.remove(66)\n",
    "possible_n.remove(77)\n",
    "possible_n.remove(26)\n",
    "possible_n.remove(65)\n",
    "possible_n.remove(78)"
   ]
  },
  {
   "cell_type": "code",
   "execution_count": 74,
   "metadata": {},
   "outputs": [
    {
     "name": "stdout",
     "output_type": "stream",
     "text": [
      "31\n",
      "[2, 3]\n",
      "536870912\n",
      "6\n",
      "30\n"
     ]
    }
   ],
   "source": [
    "print(len(possible_n))\n",
    "print(determine_must_include())\n",
    "print(total_possible_combinations())\n",
    "print(calculate_minimum_number_of_squares())\n",
    "print(calculate_maximum_number_of_squares())"
   ]
  },
  {
   "cell_type": "markdown",
   "metadata": {},
   "source": [
    "#### iii. Brute Force"
   ]
  },
  {
   "cell_type": "markdown",
   "metadata": {},
   "source": [
    "I don't think I can reduce the possible_n anymore so it's time to brute force. Although it takes too long to run as it currently is, we can parallelize! Recall above when I found I26=I65=I78=0 it implied that either I13=I39=I52=0 or I13=I39=I52=1. This gives us two cases, and reduces the possible choices by 8 for each case (this did actually run before for me so let's see)."
   ]
  },
  {
   "cell_type": "code",
   "execution_count": 75,
   "metadata": {},
   "outputs": [],
   "source": [
    "possible_n_parallelize=possible_n.copy()\n",
    "possible_n_parallelize.remove(13)\n",
    "possible_n_parallelize.remove(39)\n",
    "possible_n_parallelize.remove(52)"
   ]
  },
  {
   "cell_type": "code",
   "execution_count": 76,
   "metadata": {},
   "outputs": [
    {
     "name": "stdout",
     "output_type": "stream",
     "text": [
      "[2, 3, 4, 5, 6, 7, 8, 9, 10, 12, 14, 15, 18, 20, 21, 24, 28, 30, 35, 36, 40, 42, 45, 56, 60, 63, 70, 72]\n"
     ]
    }
   ],
   "source": [
    "print(possible_n_parallelize)"
   ]
  },
  {
   "cell_type": "code",
   "execution_count": 77,
   "metadata": {},
   "outputs": [],
   "source": [
    "# %%time\n",
    "\n",
    "def solve_problem_152():\n",
    "    case1=determine_sequences_whose_sum_of_inverse_squares_equals_one_half(possible_n=possible_n_parallelize,\n",
    "                                                                           must_include=must_include)\n",
    "    case2=determine_sequences_whose_sum_of_inverse_squares_equals_one_half(possible_n=possible_n_parallelize,\n",
    "                                                                           must_include=must_include+[13,39,52])\n",
    "    return len(case1)+len(case2)\n",
    "\n",
    "#solve_problem_152()"
   ]
  },
  {
   "cell_type": "markdown",
   "metadata": {},
   "source": [
    "I won't spoil the answer."
   ]
  },
  {
   "cell_type": "markdown",
   "metadata": {},
   "source": [
    "#### iiii. Notes"
   ]
  },
  {
   "cell_type": "markdown",
   "metadata": {},
   "source": [
    "1. This is the hardest problem I've done so far!\n",
    "2. It looks like every number I had in the final possible_n was used in a combination and every combination had to include my must_include. Kind of cool that I was able to get that.\n",
    "3. However, even though I reduced it as best I could (excluding some other weird combination stuff), it still took over 30 min to run. It could definitely be more efficient. Dynamic programming seems to be the way to go.\n",
    "4. My solution is very specific to this problem and wouldn't generalize. However, I believe it could be pretty easily modified to do so (though I need to improve the efficiency of course). The easiest way would be to just look at which prime factors are included by checking all cases with a program. This wouldn't be too costly and should let us remove most of the primes and greatly reduce the possible_n. I'm not sure I could generalize optimizing possible_n but with a dynamic program, removing bad primes should be enough."
   ]
  },
  {
   "cell_type": "code",
   "execution_count": null,
   "metadata": {},
   "outputs": [],
   "source": []
  }
 ],
 "metadata": {
  "kernelspec": {
   "display_name": "Python 3",
   "language": "python",
   "name": "python3"
  },
  "language_info": {
   "codemirror_mode": {
    "name": "ipython",
    "version": 3
   },
   "file_extension": ".py",
   "mimetype": "text/x-python",
   "name": "python",
   "nbconvert_exporter": "python",
   "pygments_lexer": "ipython3",
   "version": "3.7.3"
  }
 },
 "nbformat": 4,
 "nbformat_minor": 2
}
